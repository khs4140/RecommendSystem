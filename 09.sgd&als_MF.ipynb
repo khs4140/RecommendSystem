{
 "cells": [
  {
   "attachments": {},
   "cell_type": "markdown",
   "metadata": {},
   "source": [
    "## Matrix Factorization"
   ]
  },
  {
   "cell_type": "code",
   "execution_count": 1,
   "metadata": {},
   "outputs": [],
   "source": [
    "import os\n",
    "import numpy as np\n",
    "import pandas as pd\n",
    "\n",
    "from math import sqrt\n",
    "from sklearn.model_selection import train_test_split\n",
    "from sklearn.metrics import mean_squared_error\n",
    "\n",
    "import matplotlib.pyplot as plt"
   ]
  },
  {
   "cell_type": "code",
   "execution_count": 2,
   "metadata": {},
   "outputs": [
    {
     "name": "stdout",
     "output_type": "stream",
     "text": [
      "(100836, 4)\n"
     ]
    },
    {
     "data": {
      "text/html": [
       "<div>\n",
       "<style scoped>\n",
       "    .dataframe tbody tr th:only-of-type {\n",
       "        vertical-align: middle;\n",
       "    }\n",
       "\n",
       "    .dataframe tbody tr th {\n",
       "        vertical-align: top;\n",
       "    }\n",
       "\n",
       "    .dataframe thead th {\n",
       "        text-align: right;\n",
       "    }\n",
       "</style>\n",
       "<table border=\"1\" class=\"dataframe\">\n",
       "  <thead>\n",
       "    <tr style=\"text-align: right;\">\n",
       "      <th></th>\n",
       "      <th>userId</th>\n",
       "      <th>movieId</th>\n",
       "      <th>rating</th>\n",
       "      <th>timestamp</th>\n",
       "    </tr>\n",
       "  </thead>\n",
       "  <tbody>\n",
       "    <tr>\n",
       "      <th>0</th>\n",
       "      <td>1</td>\n",
       "      <td>1</td>\n",
       "      <td>4.0</td>\n",
       "      <td>964982703</td>\n",
       "    </tr>\n",
       "    <tr>\n",
       "      <th>1</th>\n",
       "      <td>1</td>\n",
       "      <td>3</td>\n",
       "      <td>4.0</td>\n",
       "      <td>964981247</td>\n",
       "    </tr>\n",
       "    <tr>\n",
       "      <th>2</th>\n",
       "      <td>1</td>\n",
       "      <td>6</td>\n",
       "      <td>4.0</td>\n",
       "      <td>964982224</td>\n",
       "    </tr>\n",
       "    <tr>\n",
       "      <th>3</th>\n",
       "      <td>1</td>\n",
       "      <td>47</td>\n",
       "      <td>5.0</td>\n",
       "      <td>964983815</td>\n",
       "    </tr>\n",
       "    <tr>\n",
       "      <th>4</th>\n",
       "      <td>1</td>\n",
       "      <td>50</td>\n",
       "      <td>5.0</td>\n",
       "      <td>964982931</td>\n",
       "    </tr>\n",
       "  </tbody>\n",
       "</table>\n",
       "</div>"
      ],
      "text/plain": [
       "   userId  movieId  rating  timestamp\n",
       "0       1        1     4.0  964982703\n",
       "1       1        3     4.0  964981247\n",
       "2       1        6     4.0  964982224\n",
       "3       1       47     5.0  964983815\n",
       "4       1       50     5.0  964982931"
      ]
     },
     "metadata": {},
     "output_type": "display_data"
    }
   ],
   "source": [
    "rating_df = pd.read_csv('./data/ml-latest-small/ratings.csv', encoding='utf-8')\n",
    "\n",
    "print(rating_df.shape)\n",
    "display(rating_df.head())"
   ]
  },
  {
   "cell_type": "code",
   "execution_count": 3,
   "metadata": {},
   "outputs": [
    {
     "name": "stdout",
     "output_type": "stream",
     "text": [
      "(80668, 4)\n",
      "(20168, 4)\n"
     ]
    }
   ],
   "source": [
    "train_df, test_df = train_test_split(rating_df, test_size=0.2, random_state = 42)\n",
    "\n",
    "print(train_df.shape)\n",
    "print(test_df.shape)"
   ]
  },
  {
   "cell_type": "code",
   "execution_count": 5,
   "metadata": {},
   "outputs": [
    {
     "data": {
      "text/html": [
       "<div>\n",
       "<style scoped>\n",
       "    .dataframe tbody tr th:only-of-type {\n",
       "        vertical-align: middle;\n",
       "    }\n",
       "\n",
       "    .dataframe tbody tr th {\n",
       "        vertical-align: top;\n",
       "    }\n",
       "\n",
       "    .dataframe thead th {\n",
       "        text-align: right;\n",
       "    }\n",
       "</style>\n",
       "<table border=\"1\" class=\"dataframe\">\n",
       "  <thead>\n",
       "    <tr style=\"text-align: right;\">\n",
       "      <th></th>\n",
       "      <th>userId</th>\n",
       "      <th>movieId</th>\n",
       "      <th>rating</th>\n",
       "      <th>timestamp</th>\n",
       "    </tr>\n",
       "  </thead>\n",
       "  <tbody>\n",
       "    <tr>\n",
       "      <th>80568</th>\n",
       "      <td>509</td>\n",
       "      <td>7347</td>\n",
       "      <td>3.0</td>\n",
       "      <td>1435994597</td>\n",
       "    </tr>\n",
       "    <tr>\n",
       "      <th>50582</th>\n",
       "      <td>326</td>\n",
       "      <td>71462</td>\n",
       "      <td>4.0</td>\n",
       "      <td>1322252335</td>\n",
       "    </tr>\n",
       "    <tr>\n",
       "      <th>8344</th>\n",
       "      <td>57</td>\n",
       "      <td>2115</td>\n",
       "      <td>3.0</td>\n",
       "      <td>965798155</td>\n",
       "    </tr>\n",
       "    <tr>\n",
       "      <th>99603</th>\n",
       "      <td>610</td>\n",
       "      <td>1127</td>\n",
       "      <td>4.0</td>\n",
       "      <td>1479544102</td>\n",
       "    </tr>\n",
       "    <tr>\n",
       "      <th>71701</th>\n",
       "      <td>462</td>\n",
       "      <td>2409</td>\n",
       "      <td>2.0</td>\n",
       "      <td>1174438249</td>\n",
       "    </tr>\n",
       "  </tbody>\n",
       "</table>\n",
       "</div>"
      ],
      "text/plain": [
       "       userId  movieId  rating   timestamp\n",
       "80568     509     7347     3.0  1435994597\n",
       "50582     326    71462     4.0  1322252335\n",
       "8344       57     2115     3.0   965798155\n",
       "99603     610     1127     4.0  1479544102\n",
       "71701     462     2409     2.0  1174438249"
      ]
     },
     "execution_count": 5,
     "metadata": {},
     "output_type": "execute_result"
    }
   ],
   "source": [
    "train_df.head()"
   ]
  },
  {
   "cell_type": "code",
   "execution_count": 115,
   "metadata": {},
   "outputs": [],
   "source": [
    "spares_matrix = pd.pivot(data = train_df,\n",
    "                         index = 'movieId',\n",
    "                         columns = 'userId',\n",
    "                         values = 'rating')"
   ]
  },
  {
   "cell_type": "code",
   "execution_count": 123,
   "metadata": {},
   "outputs": [
    {
     "name": "stdout",
     "output_type": "stream",
     "text": [
      "(8983, 610)\n",
      "<class 'numpy.ndarray'>\n"
     ]
    }
   ],
   "source": [
    "sparse_matrix = spares_matrix.fillna(0).to_numpy()\n",
    "\n",
    "# sparse_matrix_withmovie = sparse_matrix.apply(lambda x: x.fillna(x.mean()), axis=0)\n",
    "# sparse_matrix_withuser = sparse_matrix.apply(lambda x: x.fillna(x.mean()), axis=1)\n",
    "\n",
    "print(sparse_matrix.shape)\n",
    "print(type(sparse_matrix))"
   ]
  },
  {
   "cell_type": "code",
   "execution_count": 127,
   "metadata": {},
   "outputs": [
    {
     "data": {
      "text/plain": [
       "array([[4. , 0. , 0. , ..., 2.5, 3. , 5. ],\n",
       "       [0. , 0. , 0. , ..., 2. , 0. , 0. ],\n",
       "       [4. , 0. , 0. , ..., 2. , 0. , 0. ],\n",
       "       ...,\n",
       "       [0. , 0. , 0. , ..., 0. , 0. , 0. ],\n",
       "       [0. , 0. , 0. , ..., 0. , 0. , 0. ],\n",
       "       [0. , 0. , 0. , ..., 0. , 0. , 0. ]])"
      ]
     },
     "execution_count": 127,
     "metadata": {},
     "output_type": "execute_result"
    }
   ],
   "source": [
    "sparse_matrix"
   ]
  },
  {
   "attachments": {},
   "cell_type": "markdown",
   "metadata": {},
   "source": [
    "## Matrix Factorization 구현"
   ]
  },
  {
   "cell_type": "code",
   "execution_count": 131,
   "metadata": {},
   "outputs": [],
   "source": [
    "class MatrixFactorization():\n",
    "    def __init__(self, matrix, k, alpha, beta, iterations):\n",
    "        \n",
    "        self.matrix = matrix  # User-Item rating value Matrix\n",
    "\n",
    "        # 사용자 수, 아이템 수\n",
    "        self.num_users, self.num_items = matrix.shape\n",
    "\n",
    "        # latent dimension 수\n",
    "        self.k = k\n",
    "\n",
    "        # Learning Rate\n",
    "        self.alpha = alpha\n",
    "\n",
    "        # regularization parameter\n",
    "        self.beta = beta\n",
    "\n",
    "        # Epoch 수\n",
    "        self.iterations = iterations\n",
    "\n",
    "    def train(self):\n",
    "        # Initialize user and item latent dimension\n",
    "        self.P = np.random.normal(scale= 1./self.k, \n",
    "                                  size = (self.num_users, self.k))\n",
    "        self.Q = np.random.normal(scale = 1. / self.k,\n",
    "                                  size = ((self.num_items, self.k)))\n",
    "        \n",
    "        # Initialize the biases\n",
    "        self.b_u = np.zeros(self.num_users)\n",
    "        self.b_i = np.zeros(self.num_items)\n",
    "        self.b = np.mean(self.matrix[np.where(self.matrix != 0)])\n",
    "\n",
    "        # 샘플 리스트 (0이 아닌 샘플들만)\n",
    "        self.samples = [\n",
    "            (i, j, self.matrix[i, j])\n",
    "            for i in range(self.num_users)\n",
    "            for j in range(self.num_items)\n",
    "            if self.matrix[i, j] > 0\n",
    "        ]\n",
    "\n",
    "        # SGD\n",
    "        training_process = []\n",
    "        for i in range(self.iterations):\n",
    "            np.random.shuffle(self.samples)\n",
    "            self.sgd()\n",
    "            mse = self.mse()\n",
    "            training_process.append((i, mse))\n",
    "            # if (i + 1) % 10 == 0:\n",
    "            print('Iteration : %d / MSE = %.4f' % (i+1, mse))\n",
    "\n",
    "        return training_process\n",
    "    \n",
    "\n",
    "    def mse(self):\n",
    "        \"\"\"\n",
    "        A function to compute the total mean square error\n",
    "        \"\"\"\n",
    "        xs, ys = self.matrix.nonzero()\n",
    "        predicted = self.full_matrix()\n",
    "        error = 0\n",
    "        for x, y in zip(xs, ys):\n",
    "            error += pow(self.matrix[x, y] - predicted[x, y], 2)\n",
    "        return np.sqrt(error)\n",
    "\n",
    "\n",
    "    def sgd(self):\n",
    "        for i, j, r in self.samples:\n",
    "            pred = self.get_rating(i, j)\n",
    "            e = (r - pred)\n",
    "\n",
    "            # bias 업데이트\n",
    "            self.b_u[i] += self.alpha * (e - self.beta * self.b_u[i])\n",
    "            self.b_i[j] += self.alpha * (e - self.beta * self.b_i[j])\n",
    "\n",
    "            \n",
    "            P_i = self.P[i, :][:]\n",
    "            \n",
    "            # Update user and item latent feature matrices\n",
    "            self.P[i, :] += self.alpha * (e * self.Q[j, :] - self.beta * self.P[i,:])\n",
    "            self.Q[j, :] += self.alpha * (e * P_i - self.beta * self.Q[j,:])\n",
    "\n",
    "\n",
    "\n",
    "    def get_rating(self, i, j):\n",
    "        \"\"\"\n",
    "        Get the predicted rating of user i and item j\n",
    "        \"\"\"\n",
    "        prediction = self.b + self.b_u[i] + self.b_i[j] + self.P[i, :].dot(self.Q[j, :].T)\n",
    "        return prediction\n",
    "    \n",
    "    def full_matrix(self):\n",
    "        \"\"\"\n",
    "        Computer the full matrix using the resultant biases, P and Q\n",
    "        \"\"\"\n",
    "        return self.b + self.b_u[:,np.newaxis] + self.b_i[np.newaxis:,] + self.P.dot(self.Q.T)\n"
   ]
  },
  {
   "cell_type": "code",
   "execution_count": 132,
   "metadata": {},
   "outputs": [],
   "source": [
    "mf = MatrixFactorization(sparse_matrix, 100, 0.01, 0.01, 10)"
   ]
  },
  {
   "cell_type": "code",
   "execution_count": 133,
   "metadata": {},
   "outputs": [
    {
     "name": "stdout",
     "output_type": "stream",
     "text": [
      "Iteration : 1 / MSE = 254.7316\n",
      "Iteration : 2 / MSE = 247.9246\n",
      "Iteration : 3 / MSE = 244.2212\n",
      "Iteration : 4 / MSE = 241.5879\n",
      "Iteration : 5 / MSE = 239.4751\n",
      "Iteration : 6 / MSE = 237.7994\n",
      "Iteration : 7 / MSE = 236.3077\n",
      "Iteration : 8 / MSE = 234.7309\n",
      "Iteration : 9 / MSE = 232.8551\n",
      "Iteration : 10 / MSE = 230.8194\n"
     ]
    }
   ],
   "source": [
    "training_process = mf.train()"
   ]
  },
  {
   "attachments": {},
   "cell_type": "markdown",
   "metadata": {},
   "source": [
    "    - 너무 sparse해서 그런가? 결과 별로"
   ]
  },
  {
   "cell_type": "code",
   "execution_count": 134,
   "metadata": {},
   "outputs": [
    {
     "name": "stdout",
     "output_type": "stream",
     "text": [
      "Iteration : 1 / MSE = 254.9242\n",
      "Iteration : 2 / MSE = 248.0578\n",
      "Iteration : 3 / MSE = 244.3177\n",
      "Iteration : 4 / MSE = 241.7449\n",
      "Iteration : 5 / MSE = 239.8789\n",
      "Iteration : 6 / MSE = 238.2455\n",
      "Iteration : 7 / MSE = 236.9203\n",
      "Iteration : 8 / MSE = 235.7433\n",
      "Iteration : 9 / MSE = 234.4356\n",
      "Iteration : 10 / MSE = 233.1958\n"
     ]
    }
   ],
   "source": [
    "mf = MatrixFactorization(sparse_matrix, 300, 0.01, 0.01, 10)\n",
    "training_process = mf.train()"
   ]
  },
  {
   "cell_type": "code",
   "execution_count": 135,
   "metadata": {},
   "outputs": [
    {
     "data": {
      "text/plain": [
       "[<matplotlib.lines.Line2D at 0x7fc812450430>]"
      ]
     },
     "execution_count": 135,
     "metadata": {},
     "output_type": "execute_result"
    },
    {
     "data": {
      "image/png": "[encoded data removed]",
      "text/plain": [
       "<Figure size 640x480 with 1 Axes>"
      ]
     },
     "metadata": {},
     "output_type": "display_data"
    }
   ],
   "source": [
    "x = [x for x, y in training_process]\n",
    "y = [y for x, y in training_process]\n",
    "\n",
    "plt.plot(x, y)"
   ]
  }
 ],
 "metadata": {
  "kernelspec": {
   "display_name": "base",
   "language": "python",
   "name": "python3"
  },
  "language_info": {
   "codemirror_mode": {
    "name": "ipython",
    "version": 3
   },
   "file_extension": ".py",
   "mimetype": "text/x-python",
   "name": "python",
   "nbconvert_exporter": "python",
   "pygments_lexer": "ipython3",
   "version": "3.8.8"
  },
  "orig_nbformat": 4,
  "vscode": {
   "interpreter": {
    "hash": "40d3a090f54c6569ab1632332b64b2c03c39dcf918b08424e98f38b5ae0af88f"
   }
  }
 },
 "nbformat": 4,
 "nbformat_minor": 2
}
