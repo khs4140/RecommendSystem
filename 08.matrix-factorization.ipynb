{
 "cells": [
  {
   "attachments": {},
   "cell_type": "markdown",
   "metadata": {},
   "source": [
    "## Matrix-Factorization Library 활용"
   ]
  },
  {
   "attachments": {},
   "cell_type": "markdown",
   "metadata": {},
   "source": [
    "    - !pip install matrix-factorization"
   ]
  },
  {
   "cell_type": "code",
   "execution_count": 3,
   "metadata": {},
   "outputs": [],
   "source": [
    "import numpy as np\n",
    "import pandas as pd\n",
    "\n",
    "from sklearn.model_selection import train_test_split\n",
    "from sklearn.metrics import mean_squared_error\n",
    "from math import sqrt\n",
    "\n",
    "from tqdm import tqdm_notebook\n",
    "\n",
    "from matrix_factorization import BaselineModel, KernelMF, train_update_test_split"
   ]
  },
  {
   "attachments": {},
   "cell_type": "markdown",
   "metadata": {},
   "source": [
    "### 데이터 불러오기 및 분리"
   ]
  },
  {
   "cell_type": "code",
   "execution_count": 4,
   "metadata": {},
   "outputs": [
    {
     "data": {
      "text/html": [
       "<div>\n",
       "<style scoped>\n",
       "    .dataframe tbody tr th:only-of-type {\n",
       "        vertical-align: middle;\n",
       "    }\n",
       "\n",
       "    .dataframe tbody tr th {\n",
       "        vertical-align: top;\n",
       "    }\n",
       "\n",
       "    .dataframe thead th {\n",
       "        text-align: right;\n",
       "    }\n",
       "</style>\n",
       "<table border=\"1\" class=\"dataframe\">\n",
       "  <thead>\n",
       "    <tr style=\"text-align: right;\">\n",
       "      <th></th>\n",
       "      <th>userId</th>\n",
       "      <th>movieId</th>\n",
       "      <th>rating</th>\n",
       "      <th>timestamp</th>\n",
       "    </tr>\n",
       "  </thead>\n",
       "  <tbody>\n",
       "    <tr>\n",
       "      <th>0</th>\n",
       "      <td>1</td>\n",
       "      <td>1</td>\n",
       "      <td>4.0</td>\n",
       "      <td>964982703</td>\n",
       "    </tr>\n",
       "    <tr>\n",
       "      <th>1</th>\n",
       "      <td>1</td>\n",
       "      <td>3</td>\n",
       "      <td>4.0</td>\n",
       "      <td>964981247</td>\n",
       "    </tr>\n",
       "    <tr>\n",
       "      <th>2</th>\n",
       "      <td>1</td>\n",
       "      <td>6</td>\n",
       "      <td>4.0</td>\n",
       "      <td>964982224</td>\n",
       "    </tr>\n",
       "    <tr>\n",
       "      <th>3</th>\n",
       "      <td>1</td>\n",
       "      <td>47</td>\n",
       "      <td>5.0</td>\n",
       "      <td>964983815</td>\n",
       "    </tr>\n",
       "    <tr>\n",
       "      <th>4</th>\n",
       "      <td>1</td>\n",
       "      <td>50</td>\n",
       "      <td>5.0</td>\n",
       "      <td>964982931</td>\n",
       "    </tr>\n",
       "  </tbody>\n",
       "</table>\n",
       "</div>"
      ],
      "text/plain": [
       "   userId  movieId  rating  timestamp\n",
       "0       1        1     4.0  964982703\n",
       "1       1        3     4.0  964981247\n",
       "2       1        6     4.0  964982224\n",
       "3       1       47     5.0  964983815\n",
       "4       1       50     5.0  964982931"
      ]
     },
     "metadata": {},
     "output_type": "display_data"
    },
    {
     "name": "stdout",
     "output_type": "stream",
     "text": [
      "(100836, 4)\n"
     ]
    }
   ],
   "source": [
    "ratings_df = pd.read_csv('./data/ml-latest-small/ratings.csv',\n",
    "                         encoding = 'utf-8')\n",
    "\n",
    "\n",
    "display(ratings_df.head())\n",
    "print(ratings_df.shape)"
   ]
  },
  {
   "cell_type": "code",
   "execution_count": 17,
   "metadata": {},
   "outputs": [
    {
     "name": "stdout",
     "output_type": "stream",
     "text": [
      "(80668, 4)\n",
      "(20168, 4)\n"
     ]
    }
   ],
   "source": [
    "train_df, test_df = train_test_split(ratings_df, test_size=0.2,\n",
    "                                     random_state = 42)\n",
    "\n",
    "print(train_df.shape)\n",
    "print(test_df.shape)"
   ]
  },
  {
   "attachments": {},
   "cell_type": "markdown",
   "metadata": {},
   "source": [
    "### column명 변경 (matrix_factorization 형식에 맞게)\n",
    "\n",
    "    - user_id, item_id, rating, timestamp"
   ]
  },
  {
   "cell_type": "code",
   "execution_count": 18,
   "metadata": {},
   "outputs": [
    {
     "data": {
      "text/plain": [
       "Index(['userId', 'movieId', 'rating', 'timestamp'], dtype='object')"
      ]
     },
     "execution_count": 18,
     "metadata": {},
     "output_type": "execute_result"
    }
   ],
   "source": [
    "train_df.columns"
   ]
  },
  {
   "cell_type": "code",
   "execution_count": 19,
   "metadata": {},
   "outputs": [
    {
     "data": {
      "text/plain": [
       "Index(['user_id', 'item_id', 'rating', 'timestamp'], dtype='object')"
      ]
     },
     "execution_count": 19,
     "metadata": {},
     "output_type": "execute_result"
    }
   ],
   "source": [
    "new_train_df = train_df.copy()\n",
    "\n",
    "new_train_df = new_train_df.rename(columns={'userId' : 'user_id', 'movieId' : 'item_id'})\n",
    "new_train_df.columns"
   ]
  },
  {
   "attachments": {},
   "cell_type": "markdown",
   "metadata": {},
   "source": [
    "    - train / valid / test로 나눔"
   ]
  },
  {
   "cell_type": "code",
   "execution_count": 20,
   "metadata": {},
   "outputs": [],
   "source": [
    "(\n",
    "    X_train_initial,\n",
    "    y_train_initial,\n",
    "    X_train_update,\n",
    "    y_train_update,\n",
    "    X_test_update,\n",
    "    y_test_update\n",
    ") = train_update_test_split(new_train_df, frac_new_users=0.2)"
   ]
  },
  {
   "cell_type": "code",
   "execution_count": 21,
   "metadata": {},
   "outputs": [
    {
     "name": "stdout",
     "output_type": "stream",
     "text": [
      "Epoch  1 / 20  -  train_rmse: 0.9803219998373767\n",
      "Epoch  2 / 20  -  train_rmse: 0.9549115056034922\n",
      "Epoch  3 / 20  -  train_rmse: 0.9380967189695844\n",
      "Epoch  4 / 20  -  train_rmse: 0.9253829754423145\n",
      "Epoch  5 / 20  -  train_rmse: 0.9151220439319362\n",
      "Epoch  6 / 20  -  train_rmse: 0.9065047601645694\n",
      "Epoch  7 / 20  -  train_rmse: 0.8990557823418011\n",
      "Epoch  8 / 20  -  train_rmse: 0.8924475431733833\n",
      "Epoch  9 / 20  -  train_rmse: 0.8864921709390449\n",
      "Epoch  10 / 20  -  train_rmse: 0.8810491799650102\n",
      "Epoch  11 / 20  -  train_rmse: 0.8760153705558816\n",
      "Epoch  12 / 20  -  train_rmse: 0.8712910539667581\n",
      "Epoch  13 / 20  -  train_rmse: 0.8668629568795232\n",
      "Epoch  14 / 20  -  train_rmse: 0.8626464979098405\n",
      "Epoch  15 / 20  -  train_rmse: 0.8586306692289715\n",
      "Epoch  16 / 20  -  train_rmse: 0.8547681134366045\n",
      "Epoch  17 / 20  -  train_rmse: 0.8510568587543147\n",
      "Epoch  18 / 20  -  train_rmse: 0.8474489083157907\n",
      "Epoch  19 / 20  -  train_rmse: 0.84395417633182\n",
      "Epoch  20 / 20  -  train_rmse: 0.8405530148435252\n"
     ]
    },
    {
     "data": {
      "text/html": [
       "<style>#sk-container-id-1 {color: black;background-color: white;}#sk-container-id-1 pre{padding: 0;}#sk-container-id-1 div.sk-toggleable {background-color: white;}#sk-container-id-1 label.sk-toggleable__label {cursor: pointer;display: block;width: 100%;margin-bottom: 0;padding: 0.3em;box-sizing: border-box;text-align: center;}#sk-container-id-1 label.sk-toggleable__label-arrow:before {content: \"▸\";float: left;margin-right: 0.25em;color: #696969;}#sk-container-id-1 label.sk-toggleable__label-arrow:hover:before {color: black;}#sk-container-id-1 div.sk-estimator:hover label.sk-toggleable__label-arrow:before {color: black;}#sk-container-id-1 div.sk-toggleable__content {max-height: 0;max-width: 0;overflow: hidden;text-align: left;background-color: #f0f8ff;}#sk-container-id-1 div.sk-toggleable__content pre {margin: 0.2em;color: black;border-radius: 0.25em;background-color: #f0f8ff;}#sk-container-id-1 input.sk-toggleable__control:checked~div.sk-toggleable__content {max-height: 200px;max-width: 100%;overflow: auto;}#sk-container-id-1 input.sk-toggleable__control:checked~label.sk-toggleable__label-arrow:before {content: \"▾\";}#sk-container-id-1 div.sk-estimator input.sk-toggleable__control:checked~label.sk-toggleable__label {background-color: #d4ebff;}#sk-container-id-1 div.sk-label input.sk-toggleable__control:checked~label.sk-toggleable__label {background-color: #d4ebff;}#sk-container-id-1 input.sk-hidden--visually {border: 0;clip: rect(1px 1px 1px 1px);clip: rect(1px, 1px, 1px, 1px);height: 1px;margin: -1px;overflow: hidden;padding: 0;position: absolute;width: 1px;}#sk-container-id-1 div.sk-estimator {font-family: monospace;background-color: #f0f8ff;border: 1px dotted black;border-radius: 0.25em;box-sizing: border-box;margin-bottom: 0.5em;}#sk-container-id-1 div.sk-estimator:hover {background-color: #d4ebff;}#sk-container-id-1 div.sk-parallel-item::after {content: \"\";width: 100%;border-bottom: 1px solid gray;flex-grow: 1;}#sk-container-id-1 div.sk-label:hover label.sk-toggleable__label {background-color: #d4ebff;}#sk-container-id-1 div.sk-serial::before {content: \"\";position: absolute;border-left: 1px solid gray;box-sizing: border-box;top: 0;bottom: 0;left: 50%;z-index: 0;}#sk-container-id-1 div.sk-serial {display: flex;flex-direction: column;align-items: center;background-color: white;padding-right: 0.2em;padding-left: 0.2em;position: relative;}#sk-container-id-1 div.sk-item {position: relative;z-index: 1;}#sk-container-id-1 div.sk-parallel {display: flex;align-items: stretch;justify-content: center;background-color: white;position: relative;}#sk-container-id-1 div.sk-item::before, #sk-container-id-1 div.sk-parallel-item::before {content: \"\";position: absolute;border-left: 1px solid gray;box-sizing: border-box;top: 0;bottom: 0;left: 50%;z-index: -1;}#sk-container-id-1 div.sk-parallel-item {display: flex;flex-direction: column;z-index: 1;position: relative;background-color: white;}#sk-container-id-1 div.sk-parallel-item:first-child::after {align-self: flex-end;width: 50%;}#sk-container-id-1 div.sk-parallel-item:last-child::after {align-self: flex-start;width: 50%;}#sk-container-id-1 div.sk-parallel-item:only-child::after {width: 0;}#sk-container-id-1 div.sk-dashed-wrapped {border: 1px dashed gray;margin: 0 0.4em 0.5em 0.4em;box-sizing: border-box;padding-bottom: 0.4em;background-color: white;}#sk-container-id-1 div.sk-label label {font-family: monospace;font-weight: bold;display: inline-block;line-height: 1.2em;}#sk-container-id-1 div.sk-label-container {text-align: center;}#sk-container-id-1 div.sk-container {/* jupyter's `normalize.less` sets `[hidden] { display: none; }` but bootstrap.min.css set `[hidden] { display: none !important; }` so we also need the `!important` here to be able to override the default hidden behavior on the sphinx rendered scikit-learn.org. See: https://github.com/scikit-learn/scikit-learn/issues/21755 */display: inline-block !important;position: relative;}#sk-container-id-1 div.sk-text-repr-fallback {display: none;}</style><div id=\"sk-container-id-1\" class=\"sk-top-container\"><div class=\"sk-text-repr-fallback\"><pre>KernelMF(gamma=0.01, lr=0.001, n_epochs=20, reg=0.004)</pre><b>In a Jupyter environment, please rerun this cell to show the HTML representation or trust the notebook. <br />On GitHub, the HTML representation is unable to render, please try loading this page with nbviewer.org.</b></div><div class=\"sk-container\" hidden><div class=\"sk-item\"><div class=\"sk-estimator sk-toggleable\"><input class=\"sk-toggleable__control sk-hidden--visually\" id=\"sk-estimator-id-1\" type=\"checkbox\" checked><label for=\"sk-estimator-id-1\" class=\"sk-toggleable__label sk-toggleable__label-arrow\">KernelMF</label><div class=\"sk-toggleable__content\"><pre>KernelMF(gamma=0.01, lr=0.001, n_epochs=20, reg=0.004)</pre></div></div></div></div></div>"
      ],
      "text/plain": [
       "KernelMF(gamma=0.01, lr=0.001, n_epochs=20, reg=0.004)"
      ]
     },
     "execution_count": 21,
     "metadata": {},
     "output_type": "execute_result"
    }
   ],
   "source": [
    "matrix_factor = KernelMF(n_epochs=20, n_factors=100, verbose=1, lr=0.001, reg=0.004)\n",
    "matrix_factor.fit(X_train_initial, y_train_initial)"
   ]
  },
  {
   "attachments": {},
   "cell_type": "markdown",
   "metadata": {},
   "source": [
    "### Update model with new Users"
   ]
  },
  {
   "cell_type": "code",
   "execution_count": 22,
   "metadata": {},
   "outputs": [
    {
     "name": "stdout",
     "output_type": "stream",
     "text": [
      "Epoch  1 / 20  -  train_rmse: 1.014129807371265\n",
      "Epoch  2 / 20  -  train_rmse: 0.9979462073046832\n",
      "Epoch  3 / 20  -  train_rmse: 0.9855822159118733\n",
      "Epoch  4 / 20  -  train_rmse: 0.9758608939845543\n",
      "Epoch  5 / 20  -  train_rmse: 0.9680509248386042\n",
      "Epoch  6 / 20  -  train_rmse: 0.9616378342532522\n",
      "Epoch  7 / 20  -  train_rmse: 0.9562761849371407\n",
      "Epoch  8 / 20  -  train_rmse: 0.9516757128794358\n",
      "Epoch  9 / 20  -  train_rmse: 0.9476499167101242\n",
      "Epoch  10 / 20  -  train_rmse: 0.9440782661519322\n",
      "Epoch  11 / 20  -  train_rmse: 0.9408869317670773\n",
      "Epoch  12 / 20  -  train_rmse: 0.9379883378623604\n",
      "Epoch  13 / 20  -  train_rmse: 0.9353276802064893\n",
      "Epoch  14 / 20  -  train_rmse: 0.9328662846103541\n",
      "Epoch  15 / 20  -  train_rmse: 0.9305835423961721\n",
      "Epoch  16 / 20  -  train_rmse: 0.9284379794792987\n",
      "Epoch  17 / 20  -  train_rmse: 0.926416471213219\n",
      "Epoch  18 / 20  -  train_rmse: 0.9245020218106285\n",
      "Epoch  19 / 20  -  train_rmse: 0.9226855841088466\n",
      "Epoch  20 / 20  -  train_rmse: 0.9209463122343954\n"
     ]
    }
   ],
   "source": [
    "matrix_factor.update_users(\n",
    "    X_train_update, y_train_update, lr = 0.001, n_epochs=20, verbose=1\n",
    ")\n",
    "\n",
    "# 업데이트했더니 RMSE 올라감!! 새로운 데이터셋에대해서 반응이 어떤지 확인할 수 있음"
   ]
  },
  {
   "cell_type": "code",
   "execution_count": 23,
   "metadata": {},
   "outputs": [
    {
     "name": "stdout",
     "output_type": "stream",
     "text": [
      "Test RMSE :  0.8750\n"
     ]
    }
   ],
   "source": [
    "pred = matrix_factor.predict(X_test_update)\n",
    "rmse = mean_squared_error(y_test_update, pred, squared=True)\n",
    "\n",
    "print(f'Test RMSE : {rmse: .4f}')"
   ]
  },
  {
   "attachments": {},
   "cell_type": "markdown",
   "metadata": {},
   "source": [
    "### 추천 리스트 (user에게 어떤 아이템을 추천해줄지)"
   ]
  },
  {
   "cell_type": "code",
   "execution_count": 25,
   "metadata": {},
   "outputs": [
    {
     "data": {
      "text/html": [
       "<div>\n",
       "<style scoped>\n",
       "    .dataframe tbody tr th:only-of-type {\n",
       "        vertical-align: middle;\n",
       "    }\n",
       "\n",
       "    .dataframe tbody tr th {\n",
       "        vertical-align: top;\n",
       "    }\n",
       "\n",
       "    .dataframe thead th {\n",
       "        text-align: right;\n",
       "    }\n",
       "</style>\n",
       "<table border=\"1\" class=\"dataframe\">\n",
       "  <thead>\n",
       "    <tr style=\"text-align: right;\">\n",
       "      <th></th>\n",
       "      <th>user_id</th>\n",
       "      <th>item_id</th>\n",
       "      <th>rating_pred</th>\n",
       "    </tr>\n",
       "  </thead>\n",
       "  <tbody>\n",
       "    <tr>\n",
       "      <th>459</th>\n",
       "      <td>200</td>\n",
       "      <td>1221</td>\n",
       "      <td>4.494299</td>\n",
       "    </tr>\n",
       "    <tr>\n",
       "      <th>505</th>\n",
       "      <td>200</td>\n",
       "      <td>858</td>\n",
       "      <td>4.477896</td>\n",
       "    </tr>\n",
       "    <tr>\n",
       "      <th>412</th>\n",
       "      <td>200</td>\n",
       "      <td>48516</td>\n",
       "      <td>4.426765</td>\n",
       "    </tr>\n",
       "    <tr>\n",
       "      <th>669</th>\n",
       "      <td>200</td>\n",
       "      <td>750</td>\n",
       "      <td>4.422649</td>\n",
       "    </tr>\n",
       "    <tr>\n",
       "      <th>55</th>\n",
       "      <td>200</td>\n",
       "      <td>50</td>\n",
       "      <td>4.410492</td>\n",
       "    </tr>\n",
       "    <tr>\n",
       "      <th>334</th>\n",
       "      <td>200</td>\n",
       "      <td>2028</td>\n",
       "      <td>4.395701</td>\n",
       "    </tr>\n",
       "    <tr>\n",
       "      <th>1213</th>\n",
       "      <td>200</td>\n",
       "      <td>48780</td>\n",
       "      <td>4.376283</td>\n",
       "    </tr>\n",
       "    <tr>\n",
       "      <th>204</th>\n",
       "      <td>200</td>\n",
       "      <td>58559</td>\n",
       "      <td>4.366483</td>\n",
       "    </tr>\n",
       "    <tr>\n",
       "      <th>344</th>\n",
       "      <td>200</td>\n",
       "      <td>7361</td>\n",
       "      <td>4.349286</td>\n",
       "    </tr>\n",
       "    <tr>\n",
       "      <th>842</th>\n",
       "      <td>200</td>\n",
       "      <td>912</td>\n",
       "      <td>4.338221</td>\n",
       "    </tr>\n",
       "  </tbody>\n",
       "</table>\n",
       "</div>"
      ],
      "text/plain": [
       "      user_id  item_id  rating_pred\n",
       "459       200     1221     4.494299\n",
       "505       200      858     4.477896\n",
       "412       200    48516     4.426765\n",
       "669       200      750     4.422649\n",
       "55        200       50     4.410492\n",
       "334       200     2028     4.395701\n",
       "1213      200    48780     4.376283\n",
       "204       200    58559     4.366483\n",
       "344       200     7361     4.349286\n",
       "842       200      912     4.338221"
      ]
     },
     "execution_count": 25,
     "metadata": {},
     "output_type": "execute_result"
    }
   ],
   "source": [
    "user = 200\n",
    "item_known = X_train_initial.query(\"user_id == @user\")['item_id']\n",
    "matrix_factor.recommend(user=user, items_known=item_known)"
   ]
  },
  {
   "attachments": {},
   "cell_type": "markdown",
   "metadata": {},
   "source": [
    "## SGD"
   ]
  },
  {
   "cell_type": "code",
   "execution_count": 26,
   "metadata": {},
   "outputs": [
    {
     "name": "stdout",
     "output_type": "stream",
     "text": [
      "Epoch  1 / 20  -  train_rmse: 0.8935270937860513\n",
      "Epoch  2 / 20  -  train_rmse: 0.8685745977212562\n",
      "Epoch  3 / 20  -  train_rmse: 0.8550698310657813\n",
      "Epoch  4 / 20  -  train_rmse: 0.845197191229175\n",
      "Epoch  5 / 20  -  train_rmse: 0.837742917234955\n",
      "Epoch  6 / 20  -  train_rmse: 0.8321000567829994\n",
      "Epoch  7 / 20  -  train_rmse: 0.8271071878731127\n",
      "Epoch  8 / 20  -  train_rmse: 0.8227701386744684\n",
      "Epoch  9 / 20  -  train_rmse: 0.8191290612063753\n",
      "Epoch  10 / 20  -  train_rmse: 0.816456238712737\n",
      "Epoch  11 / 20  -  train_rmse: 0.8133613464581888\n",
      "Epoch  12 / 20  -  train_rmse: 0.8107645546293066\n",
      "Epoch  13 / 20  -  train_rmse: 0.8084592976584181\n",
      "Epoch  14 / 20  -  train_rmse: 0.8064189538525462\n",
      "Epoch  15 / 20  -  train_rmse: 0.8046775190238704\n",
      "Epoch  16 / 20  -  train_rmse: 0.8025746965368589\n",
      "Epoch  17 / 20  -  train_rmse: 0.8010371527631797\n",
      "Epoch  18 / 20  -  train_rmse: 0.7994074043579835\n",
      "Epoch  19 / 20  -  train_rmse: 0.7980364999012409\n",
      "Epoch  20 / 20  -  train_rmse: 0.7971053504175353\n",
      "Test RMSE : 1.0173\n"
     ]
    }
   ],
   "source": [
    "baseline_model = BaselineModel(method='sgd', n_epochs=20, reg=0.005, lr = 0.01, verbose=1)\n",
    "baseline_model.fit(X_train_initial, y_train_initial)\n",
    "\n",
    "pred = baseline_model.predict(X_test_update)\n",
    "rmse = mean_squared_error(y_test_update, pred, squared=False)\n",
    "\n",
    "print(f'Test RMSE : {rmse:.4f}')"
   ]
  },
  {
   "cell_type": "code",
   "execution_count": 29,
   "metadata": {},
   "outputs": [
    {
     "name": "stdout",
     "output_type": "stream",
     "text": [
      "Epoch  1 / 20  -  train_rmse: 0.9975141742005232\n",
      "Epoch  2 / 20  -  train_rmse: 0.9818273433807932\n",
      "Epoch  3 / 20  -  train_rmse: 0.9701305440774957\n",
      "Epoch  4 / 20  -  train_rmse: 0.961188270419657\n",
      "Epoch  5 / 20  -  train_rmse: 0.9542565111069525\n",
      "Epoch  6 / 20  -  train_rmse: 0.9487113419633955\n",
      "Epoch  7 / 20  -  train_rmse: 0.944234695217546\n",
      "Epoch  8 / 20  -  train_rmse: 0.9405402128855591\n",
      "Epoch  9 / 20  -  train_rmse: 0.9374235215169545\n",
      "Epoch  10 / 20  -  train_rmse: 0.9347878570950781\n",
      "Epoch  11 / 20  -  train_rmse: 0.9325023632468711\n",
      "Epoch  12 / 20  -  train_rmse: 0.9305259785965706\n",
      "Epoch  13 / 20  -  train_rmse: 0.928782055956956\n",
      "Epoch  14 / 20  -  train_rmse: 0.9272358418418716\n",
      "Epoch  15 / 20  -  train_rmse: 0.925860424253245\n",
      "Epoch  16 / 20  -  train_rmse: 0.924622736947889\n",
      "Epoch  17 / 20  -  train_rmse: 0.9234967124082814\n",
      "Epoch  18 / 20  -  train_rmse: 0.9224784910176426\n",
      "Epoch  19 / 20  -  train_rmse: 0.9215459445238481\n",
      "Epoch  20 / 20  -  train_rmse: 0.9206904663385214\n",
      "Test RMSE : 0.9201\n",
      "CPU times: user 54.2 ms, sys: 1.77 ms, total: 55.9 ms\n",
      "Wall time: 57.8 ms\n"
     ]
    }
   ],
   "source": [
    "%%time\n",
    "baseline_model.update_users(X_train_update, y_train_update, n_epochs=20, lr=0.001, verbose=1)\n",
    "\n",
    "pred = baseline_model.predict(X_test_update)\n",
    "rmse = mean_squared_error(y_test_update, pred, squared=False)\n",
    "\n",
    "print(f'Test RMSE : {rmse:.4f}')"
   ]
  },
  {
   "attachments": {},
   "cell_type": "markdown",
   "metadata": {},
   "source": [
    "### ALS"
   ]
  },
  {
   "cell_type": "code",
   "execution_count": 30,
   "metadata": {},
   "outputs": [
    {
     "name": "stdout",
     "output_type": "stream",
     "text": [
      "Epoch  1 / 20  -  train_rmse: 0.779109904541514\n",
      "Epoch  2 / 20  -  train_rmse: 0.7608860425740508\n",
      "Epoch  3 / 20  -  train_rmse: 0.759436747699867\n",
      "Epoch  4 / 20  -  train_rmse: 0.7592883597926661\n",
      "Epoch  5 / 20  -  train_rmse: 0.7592686827731504\n",
      "Epoch  6 / 20  -  train_rmse: 0.759265162089296\n",
      "Epoch  7 / 20  -  train_rmse: 0.759264336809037\n",
      "Epoch  8 / 20  -  train_rmse: 0.7592641004071806\n",
      "Epoch  9 / 20  -  train_rmse: 0.7592640215533498\n",
      "Epoch  10 / 20  -  train_rmse: 0.7592639917105367\n",
      "Epoch  11 / 20  -  train_rmse: 0.7592639791938116\n",
      "Epoch  12 / 20  -  train_rmse: 0.7592639735273531\n",
      "Epoch  13 / 20  -  train_rmse: 0.7592639708229058\n",
      "Epoch  14 / 20  -  train_rmse: 0.7592639694828268\n",
      "Epoch  15 / 20  -  train_rmse: 0.7592639687970673\n",
      "Epoch  16 / 20  -  train_rmse: 0.7592639684326994\n",
      "Epoch  17 / 20  -  train_rmse: 0.7592639682283938\n",
      "Epoch  18 / 20  -  train_rmse: 0.7592639681044094\n",
      "Epoch  19 / 20  -  train_rmse: 0.759263968020909\n",
      "Epoch  20 / 20  -  train_rmse: 0.759263967957894\n",
      "Test RMSE : 1.0266\n",
      "CPU times: user 312 ms, sys: 4.43 ms, total: 316 ms\n",
      "Wall time: 315 ms\n"
     ]
    }
   ],
   "source": [
    "%%time\n",
    "baseline_model = BaselineModel(method='als', n_epochs=20, reg=0.005, lr = 0.01, verbose=1)\n",
    "baseline_model.fit(X_train_initial, y_train_initial)\n",
    "\n",
    "pred = baseline_model.predict(X_test_update)\n",
    "rmse = mean_squared_error(y_test_update, pred, squared=False)\n",
    "\n",
    "print(f'Test RMSE : {rmse:.4f}')"
   ]
  },
  {
   "cell_type": "code",
   "execution_count": null,
   "metadata": {},
   "outputs": [],
   "source": []
  }
 ],
 "metadata": {
  "kernelspec": {
   "display_name": "base",
   "language": "python",
   "name": "python3"
  },
  "language_info": {
   "codemirror_mode": {
    "name": "ipython",
    "version": 3
   },
   "file_extension": ".py",
   "mimetype": "text/x-python",
   "name": "python",
   "nbconvert_exporter": "python",
   "pygments_lexer": "ipython3",
   "version": "3.8.8"
  },
  "orig_nbformat": 4,
  "vscode": {
   "interpreter": {
    "hash": "40d3a090f54c6569ab1632332b64b2c03c39dcf918b08424e98f38b5ae0af88f"
   }
  }
 },
 "nbformat": 4,
 "nbformat_minor": 2
}
