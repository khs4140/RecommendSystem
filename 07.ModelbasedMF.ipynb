{
 "cells": [
  {
   "attachments": {},
   "cell_type": "markdown",
   "metadata": {},
   "source": [
    "## Matrix Factorization\n",
    "    - MovieLens 활용\n",
    "    - SVD -> 적절한 k 찾기\n",
    "    - matrix factorization library 활용\n",
    "    - 직접 구현"
   ]
  },
  {
   "cell_type": "code",
   "execution_count": 1,
   "metadata": {},
   "outputs": [],
   "source": [
    "import os\n",
    "import pandas as pd\n",
    "import numpy as np\n",
    "\n",
    "from math import sqrt\n",
    "from tqdm import tqdm_notebook\n",
    "from sklearn.model_selection import train_test_split\n",
    "from sklearn.metrics.pairwise import cosine_similarity\n",
    "from sklearn.metrics import mean_squared_error\n",
    "\n",
    "import matplotlib.pyplot as plt"
   ]
  },
  {
   "attachments": {},
   "cell_type": "markdown",
   "metadata": {},
   "source": [
    "## 데이터셋 불러오기"
   ]
  },
  {
   "cell_type": "code",
   "execution_count": 2,
   "metadata": {},
   "outputs": [
    {
     "name": "stdout",
     "output_type": "stream",
     "text": [
      "['links.csv', 'tags.csv', 'ratings.csv', 'README.txt', 'movies.csv']\n"
     ]
    }
   ],
   "source": [
    "print(os.listdir('./data/ml-latest-small/'))\n",
    "\n",
    "data_path = os.path.join('./data/ml-latest-small/', 'ratings.csv')"
   ]
  },
  {
   "cell_type": "code",
   "execution_count": 3,
   "metadata": {},
   "outputs": [
    {
     "data": {
      "text/html": [
       "<div>\n",
       "<style scoped>\n",
       "    .dataframe tbody tr th:only-of-type {\n",
       "        vertical-align: middle;\n",
       "    }\n",
       "\n",
       "    .dataframe tbody tr th {\n",
       "        vertical-align: top;\n",
       "    }\n",
       "\n",
       "    .dataframe thead th {\n",
       "        text-align: right;\n",
       "    }\n",
       "</style>\n",
       "<table border=\"1\" class=\"dataframe\">\n",
       "  <thead>\n",
       "    <tr style=\"text-align: right;\">\n",
       "      <th></th>\n",
       "      <th>userId</th>\n",
       "      <th>movieId</th>\n",
       "      <th>rating</th>\n",
       "      <th>timestamp</th>\n",
       "    </tr>\n",
       "  </thead>\n",
       "  <tbody>\n",
       "    <tr>\n",
       "      <th>0</th>\n",
       "      <td>1</td>\n",
       "      <td>1</td>\n",
       "      <td>4.0</td>\n",
       "      <td>964982703</td>\n",
       "    </tr>\n",
       "    <tr>\n",
       "      <th>1</th>\n",
       "      <td>1</td>\n",
       "      <td>3</td>\n",
       "      <td>4.0</td>\n",
       "      <td>964981247</td>\n",
       "    </tr>\n",
       "    <tr>\n",
       "      <th>2</th>\n",
       "      <td>1</td>\n",
       "      <td>6</td>\n",
       "      <td>4.0</td>\n",
       "      <td>964982224</td>\n",
       "    </tr>\n",
       "    <tr>\n",
       "      <th>3</th>\n",
       "      <td>1</td>\n",
       "      <td>47</td>\n",
       "      <td>5.0</td>\n",
       "      <td>964983815</td>\n",
       "    </tr>\n",
       "    <tr>\n",
       "      <th>4</th>\n",
       "      <td>1</td>\n",
       "      <td>50</td>\n",
       "      <td>5.0</td>\n",
       "      <td>964982931</td>\n",
       "    </tr>\n",
       "  </tbody>\n",
       "</table>\n",
       "</div>"
      ],
      "text/plain": [
       "   userId  movieId  rating  timestamp\n",
       "0       1        1     4.0  964982703\n",
       "1       1        3     4.0  964981247\n",
       "2       1        6     4.0  964982224\n",
       "3       1       47     5.0  964983815\n",
       "4       1       50     5.0  964982931"
      ]
     },
     "execution_count": 3,
     "metadata": {},
     "output_type": "execute_result"
    }
   ],
   "source": [
    "rating_df = pd.read_csv(data_path, encoding='utf-8')\n",
    "rating_df.head()"
   ]
  },
  {
   "attachments": {},
   "cell_type": "markdown",
   "metadata": {},
   "source": [
    "### 데이터 분리"
   ]
  },
  {
   "cell_type": "code",
   "execution_count": 4,
   "metadata": {},
   "outputs": [
    {
     "name": "stdout",
     "output_type": "stream",
     "text": [
      "Train Dataset Shape : (80668, 4)\n",
      "Test Dataset Shape : (20168, 4)\n"
     ]
    }
   ],
   "source": [
    "train_df, test_df = train_test_split(rating_df, test_size=0.2, random_state=42)\n",
    "\n",
    "print(f'Train Dataset Shape : {train_df.shape}\\nTest Dataset Shape : {test_df.shape}')"
   ]
  },
  {
   "cell_type": "code",
   "execution_count": 5,
   "metadata": {},
   "outputs": [
    {
     "data": {
      "text/html": [
       "<div>\n",
       "<style scoped>\n",
       "    .dataframe tbody tr th:only-of-type {\n",
       "        vertical-align: middle;\n",
       "    }\n",
       "\n",
       "    .dataframe tbody tr th {\n",
       "        vertical-align: top;\n",
       "    }\n",
       "\n",
       "    .dataframe thead th {\n",
       "        text-align: right;\n",
       "    }\n",
       "</style>\n",
       "<table border=\"1\" class=\"dataframe\">\n",
       "  <thead>\n",
       "    <tr style=\"text-align: right;\">\n",
       "      <th>userId</th>\n",
       "      <th>1</th>\n",
       "      <th>2</th>\n",
       "      <th>3</th>\n",
       "      <th>4</th>\n",
       "      <th>5</th>\n",
       "      <th>6</th>\n",
       "      <th>7</th>\n",
       "      <th>8</th>\n",
       "      <th>9</th>\n",
       "      <th>10</th>\n",
       "      <th>...</th>\n",
       "      <th>601</th>\n",
       "      <th>602</th>\n",
       "      <th>603</th>\n",
       "      <th>604</th>\n",
       "      <th>605</th>\n",
       "      <th>606</th>\n",
       "      <th>607</th>\n",
       "      <th>608</th>\n",
       "      <th>609</th>\n",
       "      <th>610</th>\n",
       "    </tr>\n",
       "    <tr>\n",
       "      <th>movieId</th>\n",
       "      <th></th>\n",
       "      <th></th>\n",
       "      <th></th>\n",
       "      <th></th>\n",
       "      <th></th>\n",
       "      <th></th>\n",
       "      <th></th>\n",
       "      <th></th>\n",
       "      <th></th>\n",
       "      <th></th>\n",
       "      <th></th>\n",
       "      <th></th>\n",
       "      <th></th>\n",
       "      <th></th>\n",
       "      <th></th>\n",
       "      <th></th>\n",
       "      <th></th>\n",
       "      <th></th>\n",
       "      <th></th>\n",
       "      <th></th>\n",
       "      <th></th>\n",
       "    </tr>\n",
       "  </thead>\n",
       "  <tbody>\n",
       "    <tr>\n",
       "      <th>1</th>\n",
       "      <td>4.0</td>\n",
       "      <td>NaN</td>\n",
       "      <td>NaN</td>\n",
       "      <td>NaN</td>\n",
       "      <td>NaN</td>\n",
       "      <td>NaN</td>\n",
       "      <td>4.5</td>\n",
       "      <td>NaN</td>\n",
       "      <td>NaN</td>\n",
       "      <td>NaN</td>\n",
       "      <td>...</td>\n",
       "      <td>NaN</td>\n",
       "      <td>NaN</td>\n",
       "      <td>4.0</td>\n",
       "      <td>3.0</td>\n",
       "      <td>4.0</td>\n",
       "      <td>2.5</td>\n",
       "      <td>NaN</td>\n",
       "      <td>2.5</td>\n",
       "      <td>3.0</td>\n",
       "      <td>5.0</td>\n",
       "    </tr>\n",
       "    <tr>\n",
       "      <th>2</th>\n",
       "      <td>NaN</td>\n",
       "      <td>NaN</td>\n",
       "      <td>NaN</td>\n",
       "      <td>NaN</td>\n",
       "      <td>NaN</td>\n",
       "      <td>4.0</td>\n",
       "      <td>NaN</td>\n",
       "      <td>4.0</td>\n",
       "      <td>NaN</td>\n",
       "      <td>NaN</td>\n",
       "      <td>...</td>\n",
       "      <td>NaN</td>\n",
       "      <td>4.0</td>\n",
       "      <td>NaN</td>\n",
       "      <td>5.0</td>\n",
       "      <td>3.5</td>\n",
       "      <td>NaN</td>\n",
       "      <td>NaN</td>\n",
       "      <td>2.0</td>\n",
       "      <td>NaN</td>\n",
       "      <td>NaN</td>\n",
       "    </tr>\n",
       "    <tr>\n",
       "      <th>3</th>\n",
       "      <td>4.0</td>\n",
       "      <td>NaN</td>\n",
       "      <td>NaN</td>\n",
       "      <td>NaN</td>\n",
       "      <td>NaN</td>\n",
       "      <td>5.0</td>\n",
       "      <td>NaN</td>\n",
       "      <td>NaN</td>\n",
       "      <td>NaN</td>\n",
       "      <td>NaN</td>\n",
       "      <td>...</td>\n",
       "      <td>NaN</td>\n",
       "      <td>NaN</td>\n",
       "      <td>NaN</td>\n",
       "      <td>NaN</td>\n",
       "      <td>NaN</td>\n",
       "      <td>NaN</td>\n",
       "      <td>NaN</td>\n",
       "      <td>2.0</td>\n",
       "      <td>NaN</td>\n",
       "      <td>NaN</td>\n",
       "    </tr>\n",
       "    <tr>\n",
       "      <th>4</th>\n",
       "      <td>NaN</td>\n",
       "      <td>NaN</td>\n",
       "      <td>NaN</td>\n",
       "      <td>NaN</td>\n",
       "      <td>NaN</td>\n",
       "      <td>3.0</td>\n",
       "      <td>NaN</td>\n",
       "      <td>NaN</td>\n",
       "      <td>NaN</td>\n",
       "      <td>NaN</td>\n",
       "      <td>...</td>\n",
       "      <td>NaN</td>\n",
       "      <td>NaN</td>\n",
       "      <td>NaN</td>\n",
       "      <td>NaN</td>\n",
       "      <td>NaN</td>\n",
       "      <td>NaN</td>\n",
       "      <td>NaN</td>\n",
       "      <td>NaN</td>\n",
       "      <td>NaN</td>\n",
       "      <td>NaN</td>\n",
       "    </tr>\n",
       "    <tr>\n",
       "      <th>5</th>\n",
       "      <td>NaN</td>\n",
       "      <td>NaN</td>\n",
       "      <td>NaN</td>\n",
       "      <td>NaN</td>\n",
       "      <td>NaN</td>\n",
       "      <td>NaN</td>\n",
       "      <td>NaN</td>\n",
       "      <td>NaN</td>\n",
       "      <td>NaN</td>\n",
       "      <td>NaN</td>\n",
       "      <td>...</td>\n",
       "      <td>NaN</td>\n",
       "      <td>NaN</td>\n",
       "      <td>NaN</td>\n",
       "      <td>3.0</td>\n",
       "      <td>NaN</td>\n",
       "      <td>NaN</td>\n",
       "      <td>NaN</td>\n",
       "      <td>NaN</td>\n",
       "      <td>NaN</td>\n",
       "      <td>NaN</td>\n",
       "    </tr>\n",
       "    <tr>\n",
       "      <th>...</th>\n",
       "      <td>...</td>\n",
       "      <td>...</td>\n",
       "      <td>...</td>\n",
       "      <td>...</td>\n",
       "      <td>...</td>\n",
       "      <td>...</td>\n",
       "      <td>...</td>\n",
       "      <td>...</td>\n",
       "      <td>...</td>\n",
       "      <td>...</td>\n",
       "      <td>...</td>\n",
       "      <td>...</td>\n",
       "      <td>...</td>\n",
       "      <td>...</td>\n",
       "      <td>...</td>\n",
       "      <td>...</td>\n",
       "      <td>...</td>\n",
       "      <td>...</td>\n",
       "      <td>...</td>\n",
       "      <td>...</td>\n",
       "      <td>...</td>\n",
       "    </tr>\n",
       "    <tr>\n",
       "      <th>193581</th>\n",
       "      <td>NaN</td>\n",
       "      <td>NaN</td>\n",
       "      <td>NaN</td>\n",
       "      <td>NaN</td>\n",
       "      <td>NaN</td>\n",
       "      <td>NaN</td>\n",
       "      <td>NaN</td>\n",
       "      <td>NaN</td>\n",
       "      <td>NaN</td>\n",
       "      <td>NaN</td>\n",
       "      <td>...</td>\n",
       "      <td>NaN</td>\n",
       "      <td>NaN</td>\n",
       "      <td>NaN</td>\n",
       "      <td>NaN</td>\n",
       "      <td>NaN</td>\n",
       "      <td>NaN</td>\n",
       "      <td>NaN</td>\n",
       "      <td>NaN</td>\n",
       "      <td>NaN</td>\n",
       "      <td>NaN</td>\n",
       "    </tr>\n",
       "    <tr>\n",
       "      <th>193583</th>\n",
       "      <td>NaN</td>\n",
       "      <td>NaN</td>\n",
       "      <td>NaN</td>\n",
       "      <td>NaN</td>\n",
       "      <td>NaN</td>\n",
       "      <td>NaN</td>\n",
       "      <td>NaN</td>\n",
       "      <td>NaN</td>\n",
       "      <td>NaN</td>\n",
       "      <td>NaN</td>\n",
       "      <td>...</td>\n",
       "      <td>NaN</td>\n",
       "      <td>NaN</td>\n",
       "      <td>NaN</td>\n",
       "      <td>NaN</td>\n",
       "      <td>NaN</td>\n",
       "      <td>NaN</td>\n",
       "      <td>NaN</td>\n",
       "      <td>NaN</td>\n",
       "      <td>NaN</td>\n",
       "      <td>NaN</td>\n",
       "    </tr>\n",
       "    <tr>\n",
       "      <th>193585</th>\n",
       "      <td>NaN</td>\n",
       "      <td>NaN</td>\n",
       "      <td>NaN</td>\n",
       "      <td>NaN</td>\n",
       "      <td>NaN</td>\n",
       "      <td>NaN</td>\n",
       "      <td>NaN</td>\n",
       "      <td>NaN</td>\n",
       "      <td>NaN</td>\n",
       "      <td>NaN</td>\n",
       "      <td>...</td>\n",
       "      <td>NaN</td>\n",
       "      <td>NaN</td>\n",
       "      <td>NaN</td>\n",
       "      <td>NaN</td>\n",
       "      <td>NaN</td>\n",
       "      <td>NaN</td>\n",
       "      <td>NaN</td>\n",
       "      <td>NaN</td>\n",
       "      <td>NaN</td>\n",
       "      <td>NaN</td>\n",
       "    </tr>\n",
       "    <tr>\n",
       "      <th>193587</th>\n",
       "      <td>NaN</td>\n",
       "      <td>NaN</td>\n",
       "      <td>NaN</td>\n",
       "      <td>NaN</td>\n",
       "      <td>NaN</td>\n",
       "      <td>NaN</td>\n",
       "      <td>NaN</td>\n",
       "      <td>NaN</td>\n",
       "      <td>NaN</td>\n",
       "      <td>NaN</td>\n",
       "      <td>...</td>\n",
       "      <td>NaN</td>\n",
       "      <td>NaN</td>\n",
       "      <td>NaN</td>\n",
       "      <td>NaN</td>\n",
       "      <td>NaN</td>\n",
       "      <td>NaN</td>\n",
       "      <td>NaN</td>\n",
       "      <td>NaN</td>\n",
       "      <td>NaN</td>\n",
       "      <td>NaN</td>\n",
       "    </tr>\n",
       "    <tr>\n",
       "      <th>193609</th>\n",
       "      <td>NaN</td>\n",
       "      <td>NaN</td>\n",
       "      <td>NaN</td>\n",
       "      <td>NaN</td>\n",
       "      <td>NaN</td>\n",
       "      <td>NaN</td>\n",
       "      <td>NaN</td>\n",
       "      <td>NaN</td>\n",
       "      <td>NaN</td>\n",
       "      <td>NaN</td>\n",
       "      <td>...</td>\n",
       "      <td>NaN</td>\n",
       "      <td>NaN</td>\n",
       "      <td>NaN</td>\n",
       "      <td>NaN</td>\n",
       "      <td>NaN</td>\n",
       "      <td>NaN</td>\n",
       "      <td>NaN</td>\n",
       "      <td>NaN</td>\n",
       "      <td>NaN</td>\n",
       "      <td>NaN</td>\n",
       "    </tr>\n",
       "  </tbody>\n",
       "</table>\n",
       "<p>8983 rows × 610 columns</p>\n",
       "</div>"
      ],
      "text/plain": [
       "userId   1    2    3    4    5    6    7    8    9    10   ...  601  602  603  \\\n",
       "movieId                                                    ...                  \n",
       "1        4.0  NaN  NaN  NaN  NaN  NaN  4.5  NaN  NaN  NaN  ...  NaN  NaN  4.0   \n",
       "2        NaN  NaN  NaN  NaN  NaN  4.0  NaN  4.0  NaN  NaN  ...  NaN  4.0  NaN   \n",
       "3        4.0  NaN  NaN  NaN  NaN  5.0  NaN  NaN  NaN  NaN  ...  NaN  NaN  NaN   \n",
       "4        NaN  NaN  NaN  NaN  NaN  3.0  NaN  NaN  NaN  NaN  ...  NaN  NaN  NaN   \n",
       "5        NaN  NaN  NaN  NaN  NaN  NaN  NaN  NaN  NaN  NaN  ...  NaN  NaN  NaN   \n",
       "...      ...  ...  ...  ...  ...  ...  ...  ...  ...  ...  ...  ...  ...  ...   \n",
       "193581   NaN  NaN  NaN  NaN  NaN  NaN  NaN  NaN  NaN  NaN  ...  NaN  NaN  NaN   \n",
       "193583   NaN  NaN  NaN  NaN  NaN  NaN  NaN  NaN  NaN  NaN  ...  NaN  NaN  NaN   \n",
       "193585   NaN  NaN  NaN  NaN  NaN  NaN  NaN  NaN  NaN  NaN  ...  NaN  NaN  NaN   \n",
       "193587   NaN  NaN  NaN  NaN  NaN  NaN  NaN  NaN  NaN  NaN  ...  NaN  NaN  NaN   \n",
       "193609   NaN  NaN  NaN  NaN  NaN  NaN  NaN  NaN  NaN  NaN  ...  NaN  NaN  NaN   \n",
       "\n",
       "userId   604  605  606  607  608  609  610  \n",
       "movieId                                     \n",
       "1        3.0  4.0  2.5  NaN  2.5  3.0  5.0  \n",
       "2        5.0  3.5  NaN  NaN  2.0  NaN  NaN  \n",
       "3        NaN  NaN  NaN  NaN  2.0  NaN  NaN  \n",
       "4        NaN  NaN  NaN  NaN  NaN  NaN  NaN  \n",
       "5        3.0  NaN  NaN  NaN  NaN  NaN  NaN  \n",
       "...      ...  ...  ...  ...  ...  ...  ...  \n",
       "193581   NaN  NaN  NaN  NaN  NaN  NaN  NaN  \n",
       "193583   NaN  NaN  NaN  NaN  NaN  NaN  NaN  \n",
       "193585   NaN  NaN  NaN  NaN  NaN  NaN  NaN  \n",
       "193587   NaN  NaN  NaN  NaN  NaN  NaN  NaN  \n",
       "193609   NaN  NaN  NaN  NaN  NaN  NaN  NaN  \n",
       "\n",
       "[8983 rows x 610 columns]"
      ]
     },
     "execution_count": 5,
     "metadata": {},
     "output_type": "execute_result"
    }
   ],
   "source": [
    "sparse_matrix = pd.pivot_table(\n",
    "    data=train_df,\n",
    "    values='rating',\n",
    "    index='movieId',\n",
    "    columns='userId')\n",
    "\n",
    "sparse_matrix"
   ]
  },
  {
   "cell_type": "code",
   "execution_count": 20,
   "metadata": {},
   "outputs": [],
   "source": [
    "# fillaalue - movie Average rating\n",
    "\n",
    "sparse_matrix_withmovie = sparse_matrix.apply(lambda x: x.fillna(x.mean()), axis=1)\n",
    "\n",
    "# fillvalue - user Average rating\n",
    "\n",
    "sparse_matrix_withuser = sparse_matrix.apply(lambda x: x.fillna(x.mean()), axis=0)"
   ]
  },
  {
   "cell_type": "code",
   "execution_count": 21,
   "metadata": {},
   "outputs": [
    {
     "data": {
      "text/html": [
       "<div>\n",
       "<style scoped>\n",
       "    .dataframe tbody tr th:only-of-type {\n",
       "        vertical-align: middle;\n",
       "    }\n",
       "\n",
       "    .dataframe tbody tr th {\n",
       "        vertical-align: top;\n",
       "    }\n",
       "\n",
       "    .dataframe thead th {\n",
       "        text-align: right;\n",
       "    }\n",
       "</style>\n",
       "<table border=\"1\" class=\"dataframe\">\n",
       "  <thead>\n",
       "    <tr style=\"text-align: right;\">\n",
       "      <th>userId</th>\n",
       "      <th>1</th>\n",
       "      <th>2</th>\n",
       "      <th>3</th>\n",
       "      <th>4</th>\n",
       "      <th>5</th>\n",
       "      <th>6</th>\n",
       "      <th>7</th>\n",
       "      <th>8</th>\n",
       "      <th>9</th>\n",
       "      <th>10</th>\n",
       "      <th>...</th>\n",
       "      <th>601</th>\n",
       "      <th>602</th>\n",
       "      <th>603</th>\n",
       "      <th>604</th>\n",
       "      <th>605</th>\n",
       "      <th>606</th>\n",
       "      <th>607</th>\n",
       "      <th>608</th>\n",
       "      <th>609</th>\n",
       "      <th>610</th>\n",
       "    </tr>\n",
       "    <tr>\n",
       "      <th>movieId</th>\n",
       "      <th></th>\n",
       "      <th></th>\n",
       "      <th></th>\n",
       "      <th></th>\n",
       "      <th></th>\n",
       "      <th></th>\n",
       "      <th></th>\n",
       "      <th></th>\n",
       "      <th></th>\n",
       "      <th></th>\n",
       "      <th></th>\n",
       "      <th></th>\n",
       "      <th></th>\n",
       "      <th></th>\n",
       "      <th></th>\n",
       "      <th></th>\n",
       "      <th></th>\n",
       "      <th></th>\n",
       "      <th></th>\n",
       "      <th></th>\n",
       "      <th></th>\n",
       "    </tr>\n",
       "  </thead>\n",
       "  <tbody>\n",
       "    <tr>\n",
       "      <th>1</th>\n",
       "      <td>4.0</td>\n",
       "      <td>NaN</td>\n",
       "      <td>NaN</td>\n",
       "      <td>NaN</td>\n",
       "      <td>NaN</td>\n",
       "      <td>NaN</td>\n",
       "      <td>4.5</td>\n",
       "      <td>NaN</td>\n",
       "      <td>NaN</td>\n",
       "      <td>NaN</td>\n",
       "      <td>...</td>\n",
       "      <td>NaN</td>\n",
       "      <td>NaN</td>\n",
       "      <td>4.0</td>\n",
       "      <td>3.0</td>\n",
       "      <td>4.0</td>\n",
       "      <td>2.5</td>\n",
       "      <td>NaN</td>\n",
       "      <td>2.5</td>\n",
       "      <td>3.0</td>\n",
       "      <td>5.0</td>\n",
       "    </tr>\n",
       "    <tr>\n",
       "      <th>2</th>\n",
       "      <td>NaN</td>\n",
       "      <td>NaN</td>\n",
       "      <td>NaN</td>\n",
       "      <td>NaN</td>\n",
       "      <td>NaN</td>\n",
       "      <td>4.0</td>\n",
       "      <td>NaN</td>\n",
       "      <td>4.0</td>\n",
       "      <td>NaN</td>\n",
       "      <td>NaN</td>\n",
       "      <td>...</td>\n",
       "      <td>NaN</td>\n",
       "      <td>4.0</td>\n",
       "      <td>NaN</td>\n",
       "      <td>5.0</td>\n",
       "      <td>3.5</td>\n",
       "      <td>NaN</td>\n",
       "      <td>NaN</td>\n",
       "      <td>2.0</td>\n",
       "      <td>NaN</td>\n",
       "      <td>NaN</td>\n",
       "    </tr>\n",
       "    <tr>\n",
       "      <th>3</th>\n",
       "      <td>4.0</td>\n",
       "      <td>NaN</td>\n",
       "      <td>NaN</td>\n",
       "      <td>NaN</td>\n",
       "      <td>NaN</td>\n",
       "      <td>5.0</td>\n",
       "      <td>NaN</td>\n",
       "      <td>NaN</td>\n",
       "      <td>NaN</td>\n",
       "      <td>NaN</td>\n",
       "      <td>...</td>\n",
       "      <td>NaN</td>\n",
       "      <td>NaN</td>\n",
       "      <td>NaN</td>\n",
       "      <td>NaN</td>\n",
       "      <td>NaN</td>\n",
       "      <td>NaN</td>\n",
       "      <td>NaN</td>\n",
       "      <td>2.0</td>\n",
       "      <td>NaN</td>\n",
       "      <td>NaN</td>\n",
       "    </tr>\n",
       "    <tr>\n",
       "      <th>4</th>\n",
       "      <td>NaN</td>\n",
       "      <td>NaN</td>\n",
       "      <td>NaN</td>\n",
       "      <td>NaN</td>\n",
       "      <td>NaN</td>\n",
       "      <td>3.0</td>\n",
       "      <td>NaN</td>\n",
       "      <td>NaN</td>\n",
       "      <td>NaN</td>\n",
       "      <td>NaN</td>\n",
       "      <td>...</td>\n",
       "      <td>NaN</td>\n",
       "      <td>NaN</td>\n",
       "      <td>NaN</td>\n",
       "      <td>NaN</td>\n",
       "      <td>NaN</td>\n",
       "      <td>NaN</td>\n",
       "      <td>NaN</td>\n",
       "      <td>NaN</td>\n",
       "      <td>NaN</td>\n",
       "      <td>NaN</td>\n",
       "    </tr>\n",
       "    <tr>\n",
       "      <th>5</th>\n",
       "      <td>NaN</td>\n",
       "      <td>NaN</td>\n",
       "      <td>NaN</td>\n",
       "      <td>NaN</td>\n",
       "      <td>NaN</td>\n",
       "      <td>NaN</td>\n",
       "      <td>NaN</td>\n",
       "      <td>NaN</td>\n",
       "      <td>NaN</td>\n",
       "      <td>NaN</td>\n",
       "      <td>...</td>\n",
       "      <td>NaN</td>\n",
       "      <td>NaN</td>\n",
       "      <td>NaN</td>\n",
       "      <td>3.0</td>\n",
       "      <td>NaN</td>\n",
       "      <td>NaN</td>\n",
       "      <td>NaN</td>\n",
       "      <td>NaN</td>\n",
       "      <td>NaN</td>\n",
       "      <td>NaN</td>\n",
       "    </tr>\n",
       "    <tr>\n",
       "      <th>...</th>\n",
       "      <td>...</td>\n",
       "      <td>...</td>\n",
       "      <td>...</td>\n",
       "      <td>...</td>\n",
       "      <td>...</td>\n",
       "      <td>...</td>\n",
       "      <td>...</td>\n",
       "      <td>...</td>\n",
       "      <td>...</td>\n",
       "      <td>...</td>\n",
       "      <td>...</td>\n",
       "      <td>...</td>\n",
       "      <td>...</td>\n",
       "      <td>...</td>\n",
       "      <td>...</td>\n",
       "      <td>...</td>\n",
       "      <td>...</td>\n",
       "      <td>...</td>\n",
       "      <td>...</td>\n",
       "      <td>...</td>\n",
       "      <td>...</td>\n",
       "    </tr>\n",
       "    <tr>\n",
       "      <th>193581</th>\n",
       "      <td>NaN</td>\n",
       "      <td>NaN</td>\n",
       "      <td>NaN</td>\n",
       "      <td>NaN</td>\n",
       "      <td>NaN</td>\n",
       "      <td>NaN</td>\n",
       "      <td>NaN</td>\n",
       "      <td>NaN</td>\n",
       "      <td>NaN</td>\n",
       "      <td>NaN</td>\n",
       "      <td>...</td>\n",
       "      <td>NaN</td>\n",
       "      <td>NaN</td>\n",
       "      <td>NaN</td>\n",
       "      <td>NaN</td>\n",
       "      <td>NaN</td>\n",
       "      <td>NaN</td>\n",
       "      <td>NaN</td>\n",
       "      <td>NaN</td>\n",
       "      <td>NaN</td>\n",
       "      <td>NaN</td>\n",
       "    </tr>\n",
       "    <tr>\n",
       "      <th>193583</th>\n",
       "      <td>NaN</td>\n",
       "      <td>NaN</td>\n",
       "      <td>NaN</td>\n",
       "      <td>NaN</td>\n",
       "      <td>NaN</td>\n",
       "      <td>NaN</td>\n",
       "      <td>NaN</td>\n",
       "      <td>NaN</td>\n",
       "      <td>NaN</td>\n",
       "      <td>NaN</td>\n",
       "      <td>...</td>\n",
       "      <td>NaN</td>\n",
       "      <td>NaN</td>\n",
       "      <td>NaN</td>\n",
       "      <td>NaN</td>\n",
       "      <td>NaN</td>\n",
       "      <td>NaN</td>\n",
       "      <td>NaN</td>\n",
       "      <td>NaN</td>\n",
       "      <td>NaN</td>\n",
       "      <td>NaN</td>\n",
       "    </tr>\n",
       "    <tr>\n",
       "      <th>193585</th>\n",
       "      <td>NaN</td>\n",
       "      <td>NaN</td>\n",
       "      <td>NaN</td>\n",
       "      <td>NaN</td>\n",
       "      <td>NaN</td>\n",
       "      <td>NaN</td>\n",
       "      <td>NaN</td>\n",
       "      <td>NaN</td>\n",
       "      <td>NaN</td>\n",
       "      <td>NaN</td>\n",
       "      <td>...</td>\n",
       "      <td>NaN</td>\n",
       "      <td>NaN</td>\n",
       "      <td>NaN</td>\n",
       "      <td>NaN</td>\n",
       "      <td>NaN</td>\n",
       "      <td>NaN</td>\n",
       "      <td>NaN</td>\n",
       "      <td>NaN</td>\n",
       "      <td>NaN</td>\n",
       "      <td>NaN</td>\n",
       "    </tr>\n",
       "    <tr>\n",
       "      <th>193587</th>\n",
       "      <td>NaN</td>\n",
       "      <td>NaN</td>\n",
       "      <td>NaN</td>\n",
       "      <td>NaN</td>\n",
       "      <td>NaN</td>\n",
       "      <td>NaN</td>\n",
       "      <td>NaN</td>\n",
       "      <td>NaN</td>\n",
       "      <td>NaN</td>\n",
       "      <td>NaN</td>\n",
       "      <td>...</td>\n",
       "      <td>NaN</td>\n",
       "      <td>NaN</td>\n",
       "      <td>NaN</td>\n",
       "      <td>NaN</td>\n",
       "      <td>NaN</td>\n",
       "      <td>NaN</td>\n",
       "      <td>NaN</td>\n",
       "      <td>NaN</td>\n",
       "      <td>NaN</td>\n",
       "      <td>NaN</td>\n",
       "    </tr>\n",
       "    <tr>\n",
       "      <th>193609</th>\n",
       "      <td>NaN</td>\n",
       "      <td>NaN</td>\n",
       "      <td>NaN</td>\n",
       "      <td>NaN</td>\n",
       "      <td>NaN</td>\n",
       "      <td>NaN</td>\n",
       "      <td>NaN</td>\n",
       "      <td>NaN</td>\n",
       "      <td>NaN</td>\n",
       "      <td>NaN</td>\n",
       "      <td>...</td>\n",
       "      <td>NaN</td>\n",
       "      <td>NaN</td>\n",
       "      <td>NaN</td>\n",
       "      <td>NaN</td>\n",
       "      <td>NaN</td>\n",
       "      <td>NaN</td>\n",
       "      <td>NaN</td>\n",
       "      <td>NaN</td>\n",
       "      <td>NaN</td>\n",
       "      <td>NaN</td>\n",
       "    </tr>\n",
       "  </tbody>\n",
       "</table>\n",
       "<p>8983 rows × 610 columns</p>\n",
       "</div>"
      ],
      "text/plain": [
       "userId   1    2    3    4    5    6    7    8    9    10   ...  601  602  603  \\\n",
       "movieId                                                    ...                  \n",
       "1        4.0  NaN  NaN  NaN  NaN  NaN  4.5  NaN  NaN  NaN  ...  NaN  NaN  4.0   \n",
       "2        NaN  NaN  NaN  NaN  NaN  4.0  NaN  4.0  NaN  NaN  ...  NaN  4.0  NaN   \n",
       "3        4.0  NaN  NaN  NaN  NaN  5.0  NaN  NaN  NaN  NaN  ...  NaN  NaN  NaN   \n",
       "4        NaN  NaN  NaN  NaN  NaN  3.0  NaN  NaN  NaN  NaN  ...  NaN  NaN  NaN   \n",
       "5        NaN  NaN  NaN  NaN  NaN  NaN  NaN  NaN  NaN  NaN  ...  NaN  NaN  NaN   \n",
       "...      ...  ...  ...  ...  ...  ...  ...  ...  ...  ...  ...  ...  ...  ...   \n",
       "193581   NaN  NaN  NaN  NaN  NaN  NaN  NaN  NaN  NaN  NaN  ...  NaN  NaN  NaN   \n",
       "193583   NaN  NaN  NaN  NaN  NaN  NaN  NaN  NaN  NaN  NaN  ...  NaN  NaN  NaN   \n",
       "193585   NaN  NaN  NaN  NaN  NaN  NaN  NaN  NaN  NaN  NaN  ...  NaN  NaN  NaN   \n",
       "193587   NaN  NaN  NaN  NaN  NaN  NaN  NaN  NaN  NaN  NaN  ...  NaN  NaN  NaN   \n",
       "193609   NaN  NaN  NaN  NaN  NaN  NaN  NaN  NaN  NaN  NaN  ...  NaN  NaN  NaN   \n",
       "\n",
       "userId   604  605  606  607  608  609  610  \n",
       "movieId                                     \n",
       "1        3.0  4.0  2.5  NaN  2.5  3.0  5.0  \n",
       "2        5.0  3.5  NaN  NaN  2.0  NaN  NaN  \n",
       "3        NaN  NaN  NaN  NaN  2.0  NaN  NaN  \n",
       "4        NaN  NaN  NaN  NaN  NaN  NaN  NaN  \n",
       "5        3.0  NaN  NaN  NaN  NaN  NaN  NaN  \n",
       "...      ...  ...  ...  ...  ...  ...  ...  \n",
       "193581   NaN  NaN  NaN  NaN  NaN  NaN  NaN  \n",
       "193583   NaN  NaN  NaN  NaN  NaN  NaN  NaN  \n",
       "193585   NaN  NaN  NaN  NaN  NaN  NaN  NaN  \n",
       "193587   NaN  NaN  NaN  NaN  NaN  NaN  NaN  \n",
       "193609   NaN  NaN  NaN  NaN  NaN  NaN  NaN  \n",
       "\n",
       "[8983 rows x 610 columns]"
      ]
     },
     "execution_count": 21,
     "metadata": {},
     "output_type": "execute_result"
    }
   ],
   "source": [
    "sparse_matrix"
   ]
  },
  {
   "cell_type": "code",
   "execution_count": 22,
   "metadata": {},
   "outputs": [
    {
     "data": {
      "text/html": [
       "<div>\n",
       "<style scoped>\n",
       "    .dataframe tbody tr th:only-of-type {\n",
       "        vertical-align: middle;\n",
       "    }\n",
       "\n",
       "    .dataframe tbody tr th {\n",
       "        vertical-align: top;\n",
       "    }\n",
       "\n",
       "    .dataframe thead th {\n",
       "        text-align: right;\n",
       "    }\n",
       "</style>\n",
       "<table border=\"1\" class=\"dataframe\">\n",
       "  <thead>\n",
       "    <tr style=\"text-align: right;\">\n",
       "      <th>userId</th>\n",
       "      <th>1</th>\n",
       "      <th>2</th>\n",
       "      <th>3</th>\n",
       "      <th>4</th>\n",
       "      <th>5</th>\n",
       "      <th>6</th>\n",
       "      <th>7</th>\n",
       "      <th>8</th>\n",
       "      <th>9</th>\n",
       "      <th>10</th>\n",
       "      <th>...</th>\n",
       "      <th>601</th>\n",
       "      <th>602</th>\n",
       "      <th>603</th>\n",
       "      <th>604</th>\n",
       "      <th>605</th>\n",
       "      <th>606</th>\n",
       "      <th>607</th>\n",
       "      <th>608</th>\n",
       "      <th>609</th>\n",
       "      <th>610</th>\n",
       "    </tr>\n",
       "    <tr>\n",
       "      <th>movieId</th>\n",
       "      <th></th>\n",
       "      <th></th>\n",
       "      <th></th>\n",
       "      <th></th>\n",
       "      <th></th>\n",
       "      <th></th>\n",
       "      <th></th>\n",
       "      <th></th>\n",
       "      <th></th>\n",
       "      <th></th>\n",
       "      <th></th>\n",
       "      <th></th>\n",
       "      <th></th>\n",
       "      <th></th>\n",
       "      <th></th>\n",
       "      <th></th>\n",
       "      <th></th>\n",
       "      <th></th>\n",
       "      <th></th>\n",
       "      <th></th>\n",
       "      <th></th>\n",
       "    </tr>\n",
       "  </thead>\n",
       "  <tbody>\n",
       "    <tr>\n",
       "      <th>1</th>\n",
       "      <td>4.000000</td>\n",
       "      <td>3.893678</td>\n",
       "      <td>3.893678</td>\n",
       "      <td>3.893678</td>\n",
       "      <td>3.893678</td>\n",
       "      <td>3.893678</td>\n",
       "      <td>4.500000</td>\n",
       "      <td>3.893678</td>\n",
       "      <td>3.893678</td>\n",
       "      <td>3.893678</td>\n",
       "      <td>...</td>\n",
       "      <td>3.893678</td>\n",
       "      <td>3.893678</td>\n",
       "      <td>4.000000</td>\n",
       "      <td>3.0000</td>\n",
       "      <td>4.000000</td>\n",
       "      <td>2.500000</td>\n",
       "      <td>3.893678</td>\n",
       "      <td>2.500000</td>\n",
       "      <td>3.000000</td>\n",
       "      <td>5.000000</td>\n",
       "    </tr>\n",
       "    <tr>\n",
       "      <th>2</th>\n",
       "      <td>3.373626</td>\n",
       "      <td>3.373626</td>\n",
       "      <td>3.373626</td>\n",
       "      <td>3.373626</td>\n",
       "      <td>3.373626</td>\n",
       "      <td>4.000000</td>\n",
       "      <td>3.373626</td>\n",
       "      <td>4.000000</td>\n",
       "      <td>3.373626</td>\n",
       "      <td>3.373626</td>\n",
       "      <td>...</td>\n",
       "      <td>3.373626</td>\n",
       "      <td>4.000000</td>\n",
       "      <td>3.373626</td>\n",
       "      <td>5.0000</td>\n",
       "      <td>3.500000</td>\n",
       "      <td>3.373626</td>\n",
       "      <td>3.373626</td>\n",
       "      <td>2.000000</td>\n",
       "      <td>3.373626</td>\n",
       "      <td>3.373626</td>\n",
       "    </tr>\n",
       "    <tr>\n",
       "      <th>3</th>\n",
       "      <td>4.000000</td>\n",
       "      <td>3.162500</td>\n",
       "      <td>3.162500</td>\n",
       "      <td>3.162500</td>\n",
       "      <td>3.162500</td>\n",
       "      <td>5.000000</td>\n",
       "      <td>3.162500</td>\n",
       "      <td>3.162500</td>\n",
       "      <td>3.162500</td>\n",
       "      <td>3.162500</td>\n",
       "      <td>...</td>\n",
       "      <td>3.162500</td>\n",
       "      <td>3.162500</td>\n",
       "      <td>3.162500</td>\n",
       "      <td>3.1625</td>\n",
       "      <td>3.162500</td>\n",
       "      <td>3.162500</td>\n",
       "      <td>3.162500</td>\n",
       "      <td>2.000000</td>\n",
       "      <td>3.162500</td>\n",
       "      <td>3.162500</td>\n",
       "    </tr>\n",
       "    <tr>\n",
       "      <th>4</th>\n",
       "      <td>2.250000</td>\n",
       "      <td>2.250000</td>\n",
       "      <td>2.250000</td>\n",
       "      <td>2.250000</td>\n",
       "      <td>2.250000</td>\n",
       "      <td>3.000000</td>\n",
       "      <td>2.250000</td>\n",
       "      <td>2.250000</td>\n",
       "      <td>2.250000</td>\n",
       "      <td>2.250000</td>\n",
       "      <td>...</td>\n",
       "      <td>2.250000</td>\n",
       "      <td>2.250000</td>\n",
       "      <td>2.250000</td>\n",
       "      <td>2.2500</td>\n",
       "      <td>2.250000</td>\n",
       "      <td>2.250000</td>\n",
       "      <td>2.250000</td>\n",
       "      <td>2.250000</td>\n",
       "      <td>2.250000</td>\n",
       "      <td>2.250000</td>\n",
       "    </tr>\n",
       "    <tr>\n",
       "      <th>5</th>\n",
       "      <td>2.955882</td>\n",
       "      <td>2.955882</td>\n",
       "      <td>2.955882</td>\n",
       "      <td>2.955882</td>\n",
       "      <td>2.955882</td>\n",
       "      <td>2.955882</td>\n",
       "      <td>2.955882</td>\n",
       "      <td>2.955882</td>\n",
       "      <td>2.955882</td>\n",
       "      <td>2.955882</td>\n",
       "      <td>...</td>\n",
       "      <td>2.955882</td>\n",
       "      <td>2.955882</td>\n",
       "      <td>2.955882</td>\n",
       "      <td>3.0000</td>\n",
       "      <td>2.955882</td>\n",
       "      <td>2.955882</td>\n",
       "      <td>2.955882</td>\n",
       "      <td>2.955882</td>\n",
       "      <td>2.955882</td>\n",
       "      <td>2.955882</td>\n",
       "    </tr>\n",
       "  </tbody>\n",
       "</table>\n",
       "<p>5 rows × 610 columns</p>\n",
       "</div>"
      ],
      "text/plain": [
       "userId        1         2         3         4         5         6         7    \\\n",
       "movieId                                                                         \n",
       "1        4.000000  3.893678  3.893678  3.893678  3.893678  3.893678  4.500000   \n",
       "2        3.373626  3.373626  3.373626  3.373626  3.373626  4.000000  3.373626   \n",
       "3        4.000000  3.162500  3.162500  3.162500  3.162500  5.000000  3.162500   \n",
       "4        2.250000  2.250000  2.250000  2.250000  2.250000  3.000000  2.250000   \n",
       "5        2.955882  2.955882  2.955882  2.955882  2.955882  2.955882  2.955882   \n",
       "\n",
       "userId        8         9         10   ...       601       602       603  \\\n",
       "movieId                                ...                                 \n",
       "1        3.893678  3.893678  3.893678  ...  3.893678  3.893678  4.000000   \n",
       "2        4.000000  3.373626  3.373626  ...  3.373626  4.000000  3.373626   \n",
       "3        3.162500  3.162500  3.162500  ...  3.162500  3.162500  3.162500   \n",
       "4        2.250000  2.250000  2.250000  ...  2.250000  2.250000  2.250000   \n",
       "5        2.955882  2.955882  2.955882  ...  2.955882  2.955882  2.955882   \n",
       "\n",
       "userId      604       605       606       607       608       609       610  \n",
       "movieId                                                                      \n",
       "1        3.0000  4.000000  2.500000  3.893678  2.500000  3.000000  5.000000  \n",
       "2        5.0000  3.500000  3.373626  3.373626  2.000000  3.373626  3.373626  \n",
       "3        3.1625  3.162500  3.162500  3.162500  2.000000  3.162500  3.162500  \n",
       "4        2.2500  2.250000  2.250000  2.250000  2.250000  2.250000  2.250000  \n",
       "5        3.0000  2.955882  2.955882  2.955882  2.955882  2.955882  2.955882  \n",
       "\n",
       "[5 rows x 610 columns]"
      ]
     },
     "execution_count": 22,
     "metadata": {},
     "output_type": "execute_result"
    }
   ],
   "source": [
    "sparse_matrix_withmovie.head()"
   ]
  },
  {
   "cell_type": "code",
   "execution_count": 23,
   "metadata": {},
   "outputs": [
    {
     "data": {
      "text/html": [
       "<div>\n",
       "<style scoped>\n",
       "    .dataframe tbody tr th:only-of-type {\n",
       "        vertical-align: middle;\n",
       "    }\n",
       "\n",
       "    .dataframe tbody tr th {\n",
       "        vertical-align: top;\n",
       "    }\n",
       "\n",
       "    .dataframe thead th {\n",
       "        text-align: right;\n",
       "    }\n",
       "</style>\n",
       "<table border=\"1\" class=\"dataframe\">\n",
       "  <thead>\n",
       "    <tr style=\"text-align: right;\">\n",
       "      <th>userId</th>\n",
       "      <th>1</th>\n",
       "      <th>2</th>\n",
       "      <th>3</th>\n",
       "      <th>4</th>\n",
       "      <th>5</th>\n",
       "      <th>6</th>\n",
       "      <th>7</th>\n",
       "      <th>8</th>\n",
       "      <th>9</th>\n",
       "      <th>10</th>\n",
       "      <th>...</th>\n",
       "      <th>601</th>\n",
       "      <th>602</th>\n",
       "      <th>603</th>\n",
       "      <th>604</th>\n",
       "      <th>605</th>\n",
       "      <th>606</th>\n",
       "      <th>607</th>\n",
       "      <th>608</th>\n",
       "      <th>609</th>\n",
       "      <th>610</th>\n",
       "    </tr>\n",
       "    <tr>\n",
       "      <th>movieId</th>\n",
       "      <th></th>\n",
       "      <th></th>\n",
       "      <th></th>\n",
       "      <th></th>\n",
       "      <th></th>\n",
       "      <th></th>\n",
       "      <th></th>\n",
       "      <th></th>\n",
       "      <th></th>\n",
       "      <th></th>\n",
       "      <th></th>\n",
       "      <th></th>\n",
       "      <th></th>\n",
       "      <th></th>\n",
       "      <th></th>\n",
       "      <th></th>\n",
       "      <th></th>\n",
       "      <th></th>\n",
       "      <th></th>\n",
       "      <th></th>\n",
       "      <th></th>\n",
       "    </tr>\n",
       "  </thead>\n",
       "  <tbody>\n",
       "    <tr>\n",
       "      <th>1</th>\n",
       "      <td>4.000000</td>\n",
       "      <td>3.92</td>\n",
       "      <td>2.580645</td>\n",
       "      <td>3.464706</td>\n",
       "      <td>3.657895</td>\n",
       "      <td>3.46748</td>\n",
       "      <td>4.500000</td>\n",
       "      <td>3.694444</td>\n",
       "      <td>3.35</td>\n",
       "      <td>3.161765</td>\n",
       "      <td>...</td>\n",
       "      <td>4.424658</td>\n",
       "      <td>3.457143</td>\n",
       "      <td>4.000000</td>\n",
       "      <td>3.000</td>\n",
       "      <td>4.000000</td>\n",
       "      <td>2.500000</td>\n",
       "      <td>3.744828</td>\n",
       "      <td>2.50000</td>\n",
       "      <td>3.000000</td>\n",
       "      <td>5.000000</td>\n",
       "    </tr>\n",
       "    <tr>\n",
       "      <th>2</th>\n",
       "      <td>4.331606</td>\n",
       "      <td>3.92</td>\n",
       "      <td>2.580645</td>\n",
       "      <td>3.464706</td>\n",
       "      <td>3.657895</td>\n",
       "      <td>4.00000</td>\n",
       "      <td>3.211207</td>\n",
       "      <td>4.000000</td>\n",
       "      <td>3.35</td>\n",
       "      <td>3.161765</td>\n",
       "      <td>...</td>\n",
       "      <td>4.424658</td>\n",
       "      <td>4.000000</td>\n",
       "      <td>3.498049</td>\n",
       "      <td>5.000</td>\n",
       "      <td>3.500000</td>\n",
       "      <td>3.657002</td>\n",
       "      <td>3.744828</td>\n",
       "      <td>2.00000</td>\n",
       "      <td>3.290323</td>\n",
       "      <td>3.683429</td>\n",
       "    </tr>\n",
       "    <tr>\n",
       "      <th>3</th>\n",
       "      <td>4.000000</td>\n",
       "      <td>3.92</td>\n",
       "      <td>2.580645</td>\n",
       "      <td>3.464706</td>\n",
       "      <td>3.657895</td>\n",
       "      <td>5.00000</td>\n",
       "      <td>3.211207</td>\n",
       "      <td>3.694444</td>\n",
       "      <td>3.35</td>\n",
       "      <td>3.161765</td>\n",
       "      <td>...</td>\n",
       "      <td>4.424658</td>\n",
       "      <td>3.457143</td>\n",
       "      <td>3.498049</td>\n",
       "      <td>3.475</td>\n",
       "      <td>3.190608</td>\n",
       "      <td>3.657002</td>\n",
       "      <td>3.744828</td>\n",
       "      <td>2.00000</td>\n",
       "      <td>3.290323</td>\n",
       "      <td>3.683429</td>\n",
       "    </tr>\n",
       "    <tr>\n",
       "      <th>4</th>\n",
       "      <td>4.331606</td>\n",
       "      <td>3.92</td>\n",
       "      <td>2.580645</td>\n",
       "      <td>3.464706</td>\n",
       "      <td>3.657895</td>\n",
       "      <td>3.00000</td>\n",
       "      <td>3.211207</td>\n",
       "      <td>3.694444</td>\n",
       "      <td>3.35</td>\n",
       "      <td>3.161765</td>\n",
       "      <td>...</td>\n",
       "      <td>4.424658</td>\n",
       "      <td>3.457143</td>\n",
       "      <td>3.498049</td>\n",
       "      <td>3.475</td>\n",
       "      <td>3.190608</td>\n",
       "      <td>3.657002</td>\n",
       "      <td>3.744828</td>\n",
       "      <td>3.11782</td>\n",
       "      <td>3.290323</td>\n",
       "      <td>3.683429</td>\n",
       "    </tr>\n",
       "    <tr>\n",
       "      <th>5</th>\n",
       "      <td>4.331606</td>\n",
       "      <td>3.92</td>\n",
       "      <td>2.580645</td>\n",
       "      <td>3.464706</td>\n",
       "      <td>3.657895</td>\n",
       "      <td>3.46748</td>\n",
       "      <td>3.211207</td>\n",
       "      <td>3.694444</td>\n",
       "      <td>3.35</td>\n",
       "      <td>3.161765</td>\n",
       "      <td>...</td>\n",
       "      <td>4.424658</td>\n",
       "      <td>3.457143</td>\n",
       "      <td>3.498049</td>\n",
       "      <td>3.000</td>\n",
       "      <td>3.190608</td>\n",
       "      <td>3.657002</td>\n",
       "      <td>3.744828</td>\n",
       "      <td>3.11782</td>\n",
       "      <td>3.290323</td>\n",
       "      <td>3.683429</td>\n",
       "    </tr>\n",
       "  </tbody>\n",
       "</table>\n",
       "<p>5 rows × 610 columns</p>\n",
       "</div>"
      ],
      "text/plain": [
       "userId        1     2         3         4         5        6         7    \\\n",
       "movieId                                                                    \n",
       "1        4.000000  3.92  2.580645  3.464706  3.657895  3.46748  4.500000   \n",
       "2        4.331606  3.92  2.580645  3.464706  3.657895  4.00000  3.211207   \n",
       "3        4.000000  3.92  2.580645  3.464706  3.657895  5.00000  3.211207   \n",
       "4        4.331606  3.92  2.580645  3.464706  3.657895  3.00000  3.211207   \n",
       "5        4.331606  3.92  2.580645  3.464706  3.657895  3.46748  3.211207   \n",
       "\n",
       "userId        8     9         10   ...       601       602       603    604  \\\n",
       "movieId                            ...                                        \n",
       "1        3.694444  3.35  3.161765  ...  4.424658  3.457143  4.000000  3.000   \n",
       "2        4.000000  3.35  3.161765  ...  4.424658  4.000000  3.498049  5.000   \n",
       "3        3.694444  3.35  3.161765  ...  4.424658  3.457143  3.498049  3.475   \n",
       "4        3.694444  3.35  3.161765  ...  4.424658  3.457143  3.498049  3.475   \n",
       "5        3.694444  3.35  3.161765  ...  4.424658  3.457143  3.498049  3.000   \n",
       "\n",
       "userId        605       606       607      608       609       610  \n",
       "movieId                                                             \n",
       "1        4.000000  2.500000  3.744828  2.50000  3.000000  5.000000  \n",
       "2        3.500000  3.657002  3.744828  2.00000  3.290323  3.683429  \n",
       "3        3.190608  3.657002  3.744828  2.00000  3.290323  3.683429  \n",
       "4        3.190608  3.657002  3.744828  3.11782  3.290323  3.683429  \n",
       "5        3.190608  3.657002  3.744828  3.11782  3.290323  3.683429  \n",
       "\n",
       "[5 rows x 610 columns]"
      ]
     },
     "execution_count": 23,
     "metadata": {},
     "output_type": "execute_result"
    }
   ],
   "source": [
    "sparse_matrix_withuser.head()"
   ]
  },
  {
   "attachments": {},
   "cell_type": "markdown",
   "metadata": {},
   "source": [
    "## Matrix Factorization with SVD"
   ]
  },
  {
   "cell_type": "code",
   "execution_count": 10,
   "metadata": {},
   "outputs": [],
   "source": [
    "def get_svd(matrix, k=300):\n",
    "\n",
    "    # u => User와 latent factor와의 관계\n",
    "    # s => latent factor의 중요도\n",
    "    # vt = Item과 latent factor와의 관계\n",
    "\n",
    "    u, s, vh = np.linalg.svd(matrix.transpose()) # SVD 계산\n",
    "    S = s[:k] * np.identity(k, np.float)         # latent Factor 중요도 K 몇까지 사용할지\n",
    "    T = u[:, :k]               # u => latent factor 몇개까지 사용할지 (열벡터이므로 몇번째 k 열까지 사용할지)\n",
    "    Dt = vh[:k, :]             # vh => latent factor 몇개까지 사용할지 (행벡터이므로 몇번째 k 행까지 사용할지)\n",
    "\n",
    "    item_factors = np.transpose(np.matmul(S, Dt)) # 둘다 transpose를 안해도 되는거 아닌가 ?? \n",
    "    user_factors = np.transpose(T)\n",
    "\n",
    "    return item_factors, user_factors"
   ]
  },
  {
   "attachments": {},
   "cell_type": "markdown",
   "metadata": {},
   "source": [
    "### 1. with average movie ratings"
   ]
  },
  {
   "cell_type": "code",
   "execution_count": 11,
   "metadata": {},
   "outputs": [
    {
     "name": "stderr",
     "output_type": "stream",
     "text": [
      "/var/folders/l4/pmxdjv4j2tq9069gw5b05y8w0000gn/T/ipykernel_1985/1690539697.py:8: DeprecationWarning: `np.float` is a deprecated alias for the builtin `float`. To silence this warning, use `float` by itself. Doing this will not modify any behavior and is safe. If you specifically wanted the numpy scalar type, use `np.float64` here.\n",
      "Deprecated in NumPy 1.20; for more details and guidance: https://numpy.org/devdocs/release/1.20.0-notes.html#deprecations\n",
      "  S = s[:k] * np.identity(k, np.float)         # latent Factor 중요도 K 몇까지 사용할지\n"
     ]
    }
   ],
   "source": [
    "item_factors, user_factors = get_svd(sparse_matrix_withmovie)\n",
    "prediction_result_df = pd.DataFrame(np.matmul(item_factors, user_factors),\n",
    "                                    columns=sparse_matrix_withmovie.columns.values,\n",
    "                                    index = sparse_matrix_withmovie.index.values)\n",
    "\n",
    "movie_prediction_result_df = prediction_result_df.transpose()"
   ]
  },
  {
   "cell_type": "code",
   "execution_count": 12,
   "metadata": {},
   "outputs": [
    {
     "name": "stdout",
     "output_type": "stream",
     "text": [
      "(8983, 300)\n",
      "(300, 610)\n"
     ]
    }
   ],
   "source": [
    "print(item_factors.shape)\n",
    "print(user_factors.shape)\n",
    "\n",
    "\n",
    "# (8938 x 610) => (8938, 300) (300, 300) (300, 610)"
   ]
  },
  {
   "cell_type": "code",
   "execution_count": 13,
   "metadata": {},
   "outputs": [
    {
     "data": {
      "text/plain": [
       "(610, 8983)"
      ]
     },
     "execution_count": 13,
     "metadata": {},
     "output_type": "execute_result"
    }
   ],
   "source": [
    "movie_prediction_result_df.shape"
   ]
  },
  {
   "cell_type": "code",
   "execution_count": 14,
   "metadata": {},
   "outputs": [
    {
     "data": {
      "text/html": [
       "<div>\n",
       "<style scoped>\n",
       "    .dataframe tbody tr th:only-of-type {\n",
       "        vertical-align: middle;\n",
       "    }\n",
       "\n",
       "    .dataframe tbody tr th {\n",
       "        vertical-align: top;\n",
       "    }\n",
       "\n",
       "    .dataframe thead th {\n",
       "        text-align: right;\n",
       "    }\n",
       "</style>\n",
       "<table border=\"1\" class=\"dataframe\">\n",
       "  <thead>\n",
       "    <tr style=\"text-align: right;\">\n",
       "      <th>userId</th>\n",
       "      <th>1</th>\n",
       "      <th>2</th>\n",
       "      <th>3</th>\n",
       "      <th>4</th>\n",
       "      <th>5</th>\n",
       "      <th>6</th>\n",
       "      <th>7</th>\n",
       "      <th>8</th>\n",
       "      <th>9</th>\n",
       "      <th>10</th>\n",
       "      <th>...</th>\n",
       "      <th>601</th>\n",
       "      <th>602</th>\n",
       "      <th>603</th>\n",
       "      <th>604</th>\n",
       "      <th>605</th>\n",
       "      <th>606</th>\n",
       "      <th>607</th>\n",
       "      <th>608</th>\n",
       "      <th>609</th>\n",
       "      <th>610</th>\n",
       "    </tr>\n",
       "    <tr>\n",
       "      <th>movieId</th>\n",
       "      <th></th>\n",
       "      <th></th>\n",
       "      <th></th>\n",
       "      <th></th>\n",
       "      <th></th>\n",
       "      <th></th>\n",
       "      <th></th>\n",
       "      <th></th>\n",
       "      <th></th>\n",
       "      <th></th>\n",
       "      <th></th>\n",
       "      <th></th>\n",
       "      <th></th>\n",
       "      <th></th>\n",
       "      <th></th>\n",
       "      <th></th>\n",
       "      <th></th>\n",
       "      <th></th>\n",
       "      <th></th>\n",
       "      <th></th>\n",
       "      <th></th>\n",
       "    </tr>\n",
       "  </thead>\n",
       "  <tbody>\n",
       "    <tr>\n",
       "      <th>1</th>\n",
       "      <td>4.000000</td>\n",
       "      <td>3.893678</td>\n",
       "      <td>3.893678</td>\n",
       "      <td>3.893678</td>\n",
       "      <td>3.893678</td>\n",
       "      <td>3.893678</td>\n",
       "      <td>4.500000</td>\n",
       "      <td>3.893678</td>\n",
       "      <td>3.893678</td>\n",
       "      <td>3.893678</td>\n",
       "      <td>...</td>\n",
       "      <td>3.893678</td>\n",
       "      <td>3.893678</td>\n",
       "      <td>4.000000</td>\n",
       "      <td>3.0000</td>\n",
       "      <td>4.000000</td>\n",
       "      <td>2.500000</td>\n",
       "      <td>3.893678</td>\n",
       "      <td>2.500000</td>\n",
       "      <td>3.000000</td>\n",
       "      <td>5.000000</td>\n",
       "    </tr>\n",
       "    <tr>\n",
       "      <th>2</th>\n",
       "      <td>3.373626</td>\n",
       "      <td>3.373626</td>\n",
       "      <td>3.373626</td>\n",
       "      <td>3.373626</td>\n",
       "      <td>3.373626</td>\n",
       "      <td>4.000000</td>\n",
       "      <td>3.373626</td>\n",
       "      <td>4.000000</td>\n",
       "      <td>3.373626</td>\n",
       "      <td>3.373626</td>\n",
       "      <td>...</td>\n",
       "      <td>3.373626</td>\n",
       "      <td>4.000000</td>\n",
       "      <td>3.373626</td>\n",
       "      <td>5.0000</td>\n",
       "      <td>3.500000</td>\n",
       "      <td>3.373626</td>\n",
       "      <td>3.373626</td>\n",
       "      <td>2.000000</td>\n",
       "      <td>3.373626</td>\n",
       "      <td>3.373626</td>\n",
       "    </tr>\n",
       "    <tr>\n",
       "      <th>3</th>\n",
       "      <td>4.000000</td>\n",
       "      <td>3.162500</td>\n",
       "      <td>3.162500</td>\n",
       "      <td>3.162500</td>\n",
       "      <td>3.162500</td>\n",
       "      <td>5.000000</td>\n",
       "      <td>3.162500</td>\n",
       "      <td>3.162500</td>\n",
       "      <td>3.162500</td>\n",
       "      <td>3.162500</td>\n",
       "      <td>...</td>\n",
       "      <td>3.162500</td>\n",
       "      <td>3.162500</td>\n",
       "      <td>3.162500</td>\n",
       "      <td>3.1625</td>\n",
       "      <td>3.162500</td>\n",
       "      <td>3.162500</td>\n",
       "      <td>3.162500</td>\n",
       "      <td>2.000000</td>\n",
       "      <td>3.162500</td>\n",
       "      <td>3.162500</td>\n",
       "    </tr>\n",
       "    <tr>\n",
       "      <th>4</th>\n",
       "      <td>2.250000</td>\n",
       "      <td>2.250000</td>\n",
       "      <td>2.250000</td>\n",
       "      <td>2.250000</td>\n",
       "      <td>2.250000</td>\n",
       "      <td>3.000000</td>\n",
       "      <td>2.250000</td>\n",
       "      <td>2.250000</td>\n",
       "      <td>2.250000</td>\n",
       "      <td>2.250000</td>\n",
       "      <td>...</td>\n",
       "      <td>2.250000</td>\n",
       "      <td>2.250000</td>\n",
       "      <td>2.250000</td>\n",
       "      <td>2.2500</td>\n",
       "      <td>2.250000</td>\n",
       "      <td>2.250000</td>\n",
       "      <td>2.250000</td>\n",
       "      <td>2.250000</td>\n",
       "      <td>2.250000</td>\n",
       "      <td>2.250000</td>\n",
       "    </tr>\n",
       "    <tr>\n",
       "      <th>5</th>\n",
       "      <td>2.955882</td>\n",
       "      <td>2.955882</td>\n",
       "      <td>2.955882</td>\n",
       "      <td>2.955882</td>\n",
       "      <td>2.955882</td>\n",
       "      <td>2.955882</td>\n",
       "      <td>2.955882</td>\n",
       "      <td>2.955882</td>\n",
       "      <td>2.955882</td>\n",
       "      <td>2.955882</td>\n",
       "      <td>...</td>\n",
       "      <td>2.955882</td>\n",
       "      <td>2.955882</td>\n",
       "      <td>2.955882</td>\n",
       "      <td>3.0000</td>\n",
       "      <td>2.955882</td>\n",
       "      <td>2.955882</td>\n",
       "      <td>2.955882</td>\n",
       "      <td>2.955882</td>\n",
       "      <td>2.955882</td>\n",
       "      <td>2.955882</td>\n",
       "    </tr>\n",
       "  </tbody>\n",
       "</table>\n",
       "<p>5 rows × 610 columns</p>\n",
       "</div>"
      ],
      "text/plain": [
       "userId        1         2         3         4         5         6         7    \\\n",
       "movieId                                                                         \n",
       "1        4.000000  3.893678  3.893678  3.893678  3.893678  3.893678  4.500000   \n",
       "2        3.373626  3.373626  3.373626  3.373626  3.373626  4.000000  3.373626   \n",
       "3        4.000000  3.162500  3.162500  3.162500  3.162500  5.000000  3.162500   \n",
       "4        2.250000  2.250000  2.250000  2.250000  2.250000  3.000000  2.250000   \n",
       "5        2.955882  2.955882  2.955882  2.955882  2.955882  2.955882  2.955882   \n",
       "\n",
       "userId        8         9         10   ...       601       602       603  \\\n",
       "movieId                                ...                                 \n",
       "1        3.893678  3.893678  3.893678  ...  3.893678  3.893678  4.000000   \n",
       "2        4.000000  3.373626  3.373626  ...  3.373626  4.000000  3.373626   \n",
       "3        3.162500  3.162500  3.162500  ...  3.162500  3.162500  3.162500   \n",
       "4        2.250000  2.250000  2.250000  ...  2.250000  2.250000  2.250000   \n",
       "5        2.955882  2.955882  2.955882  ...  2.955882  2.955882  2.955882   \n",
       "\n",
       "userId      604       605       606       607       608       609       610  \n",
       "movieId                                                                      \n",
       "1        3.0000  4.000000  2.500000  3.893678  2.500000  3.000000  5.000000  \n",
       "2        5.0000  3.500000  3.373626  3.373626  2.000000  3.373626  3.373626  \n",
       "3        3.1625  3.162500  3.162500  3.162500  2.000000  3.162500  3.162500  \n",
       "4        2.2500  2.250000  2.250000  2.250000  2.250000  2.250000  2.250000  \n",
       "5        3.0000  2.955882  2.955882  2.955882  2.955882  2.955882  2.955882  \n",
       "\n",
       "[5 rows x 610 columns]"
      ]
     },
     "execution_count": 14,
     "metadata": {},
     "output_type": "execute_result"
    }
   ],
   "source": [
    "sparse_matrix_withmovie.head()"
   ]
  },
  {
   "cell_type": "code",
   "execution_count": 15,
   "metadata": {},
   "outputs": [
    {
     "data": {
      "text/html": [
       "<div>\n",
       "<style scoped>\n",
       "    .dataframe tbody tr th:only-of-type {\n",
       "        vertical-align: middle;\n",
       "    }\n",
       "\n",
       "    .dataframe tbody tr th {\n",
       "        vertical-align: top;\n",
       "    }\n",
       "\n",
       "    .dataframe thead th {\n",
       "        text-align: right;\n",
       "    }\n",
       "</style>\n",
       "<table border=\"1\" class=\"dataframe\">\n",
       "  <thead>\n",
       "    <tr style=\"text-align: right;\">\n",
       "      <th></th>\n",
       "      <th>1</th>\n",
       "      <th>2</th>\n",
       "      <th>3</th>\n",
       "      <th>4</th>\n",
       "      <th>5</th>\n",
       "      <th>6</th>\n",
       "      <th>7</th>\n",
       "      <th>8</th>\n",
       "      <th>9</th>\n",
       "      <th>10</th>\n",
       "      <th>...</th>\n",
       "      <th>191005</th>\n",
       "      <th>193565</th>\n",
       "      <th>193571</th>\n",
       "      <th>193573</th>\n",
       "      <th>193579</th>\n",
       "      <th>193581</th>\n",
       "      <th>193583</th>\n",
       "      <th>193585</th>\n",
       "      <th>193587</th>\n",
       "      <th>193609</th>\n",
       "    </tr>\n",
       "  </thead>\n",
       "  <tbody>\n",
       "    <tr>\n",
       "      <th>1</th>\n",
       "      <td>3.981032</td>\n",
       "      <td>3.343686</td>\n",
       "      <td>3.982035</td>\n",
       "      <td>2.248289</td>\n",
       "      <td>2.939444</td>\n",
       "      <td>4.022212</td>\n",
       "      <td>3.138256</td>\n",
       "      <td>2.844612</td>\n",
       "      <td>3.073706</td>\n",
       "      <td>3.370143</td>\n",
       "      <td>...</td>\n",
       "      <td>4.499757</td>\n",
       "      <td>3.499811</td>\n",
       "      <td>3.999784</td>\n",
       "      <td>3.999784</td>\n",
       "      <td>3.499811</td>\n",
       "      <td>3.999784</td>\n",
       "      <td>3.499811</td>\n",
       "      <td>3.499811</td>\n",
       "      <td>3.499811</td>\n",
       "      <td>3.999784</td>\n",
       "    </tr>\n",
       "    <tr>\n",
       "      <th>2</th>\n",
       "      <td>3.897725</td>\n",
       "      <td>3.404972</td>\n",
       "      <td>3.127999</td>\n",
       "      <td>2.236773</td>\n",
       "      <td>2.944289</td>\n",
       "      <td>3.928691</td>\n",
       "      <td>3.112108</td>\n",
       "      <td>2.852029</td>\n",
       "      <td>3.105497</td>\n",
       "      <td>3.475359</td>\n",
       "      <td>...</td>\n",
       "      <td>4.499802</td>\n",
       "      <td>3.499846</td>\n",
       "      <td>3.999824</td>\n",
       "      <td>3.999824</td>\n",
       "      <td>3.499846</td>\n",
       "      <td>3.999824</td>\n",
       "      <td>3.499846</td>\n",
       "      <td>3.499846</td>\n",
       "      <td>3.499846</td>\n",
       "      <td>3.999824</td>\n",
       "    </tr>\n",
       "    <tr>\n",
       "      <th>3</th>\n",
       "      <td>3.883332</td>\n",
       "      <td>3.362031</td>\n",
       "      <td>3.123367</td>\n",
       "      <td>2.227693</td>\n",
       "      <td>2.973010</td>\n",
       "      <td>4.001382</td>\n",
       "      <td>3.140077</td>\n",
       "      <td>2.844539</td>\n",
       "      <td>3.078678</td>\n",
       "      <td>3.396102</td>\n",
       "      <td>...</td>\n",
       "      <td>4.499704</td>\n",
       "      <td>3.499769</td>\n",
       "      <td>3.999737</td>\n",
       "      <td>3.999737</td>\n",
       "      <td>3.499769</td>\n",
       "      <td>3.999737</td>\n",
       "      <td>3.499769</td>\n",
       "      <td>3.499769</td>\n",
       "      <td>3.499769</td>\n",
       "      <td>3.999737</td>\n",
       "    </tr>\n",
       "    <tr>\n",
       "      <th>4</th>\n",
       "      <td>3.902230</td>\n",
       "      <td>3.392565</td>\n",
       "      <td>3.172881</td>\n",
       "      <td>2.252136</td>\n",
       "      <td>2.956784</td>\n",
       "      <td>3.973688</td>\n",
       "      <td>3.135070</td>\n",
       "      <td>2.860901</td>\n",
       "      <td>3.080500</td>\n",
       "      <td>3.409378</td>\n",
       "      <td>...</td>\n",
       "      <td>4.499810</td>\n",
       "      <td>3.499853</td>\n",
       "      <td>3.999831</td>\n",
       "      <td>3.999831</td>\n",
       "      <td>3.499853</td>\n",
       "      <td>3.999831</td>\n",
       "      <td>3.499853</td>\n",
       "      <td>3.499853</td>\n",
       "      <td>3.499853</td>\n",
       "      <td>3.999831</td>\n",
       "    </tr>\n",
       "    <tr>\n",
       "      <th>5</th>\n",
       "      <td>3.869015</td>\n",
       "      <td>3.452931</td>\n",
       "      <td>3.148906</td>\n",
       "      <td>2.170930</td>\n",
       "      <td>3.066511</td>\n",
       "      <td>3.981817</td>\n",
       "      <td>3.180776</td>\n",
       "      <td>2.870128</td>\n",
       "      <td>3.115427</td>\n",
       "      <td>3.358711</td>\n",
       "      <td>...</td>\n",
       "      <td>4.500293</td>\n",
       "      <td>3.500228</td>\n",
       "      <td>4.000260</td>\n",
       "      <td>4.000260</td>\n",
       "      <td>3.500228</td>\n",
       "      <td>4.000260</td>\n",
       "      <td>3.500228</td>\n",
       "      <td>3.500228</td>\n",
       "      <td>3.500228</td>\n",
       "      <td>4.000260</td>\n",
       "    </tr>\n",
       "  </tbody>\n",
       "</table>\n",
       "<p>5 rows × 8983 columns</p>\n",
       "</div>"
      ],
      "text/plain": [
       "     1         2         3         4         5         6         7       \\\n",
       "1  3.981032  3.343686  3.982035  2.248289  2.939444  4.022212  3.138256   \n",
       "2  3.897725  3.404972  3.127999  2.236773  2.944289  3.928691  3.112108   \n",
       "3  3.883332  3.362031  3.123367  2.227693  2.973010  4.001382  3.140077   \n",
       "4  3.902230  3.392565  3.172881  2.252136  2.956784  3.973688  3.135070   \n",
       "5  3.869015  3.452931  3.148906  2.170930  3.066511  3.981817  3.180776   \n",
       "\n",
       "     8         9         10      ...    191005    193565    193571    193573  \\\n",
       "1  2.844612  3.073706  3.370143  ...  4.499757  3.499811  3.999784  3.999784   \n",
       "2  2.852029  3.105497  3.475359  ...  4.499802  3.499846  3.999824  3.999824   \n",
       "3  2.844539  3.078678  3.396102  ...  4.499704  3.499769  3.999737  3.999737   \n",
       "4  2.860901  3.080500  3.409378  ...  4.499810  3.499853  3.999831  3.999831   \n",
       "5  2.870128  3.115427  3.358711  ...  4.500293  3.500228  4.000260  4.000260   \n",
       "\n",
       "     193579    193581    193583    193585    193587    193609  \n",
       "1  3.499811  3.999784  3.499811  3.499811  3.499811  3.999784  \n",
       "2  3.499846  3.999824  3.499846  3.499846  3.499846  3.999824  \n",
       "3  3.499769  3.999737  3.499769  3.499769  3.499769  3.999737  \n",
       "4  3.499853  3.999831  3.499853  3.499853  3.499853  3.999831  \n",
       "5  3.500228  4.000260  3.500228  3.500228  3.500228  4.000260  \n",
       "\n",
       "[5 rows x 8983 columns]"
      ]
     },
     "execution_count": 15,
     "metadata": {},
     "output_type": "execute_result"
    }
   ],
   "source": [
    "movie_prediction_result_df.head()"
   ]
  },
  {
   "attachments": {},
   "cell_type": "markdown",
   "metadata": {},
   "source": [
    "## with average user ratings"
   ]
  },
  {
   "cell_type": "code",
   "execution_count": 16,
   "metadata": {},
   "outputs": [
    {
     "name": "stderr",
     "output_type": "stream",
     "text": [
      "/var/folders/l4/pmxdjv4j2tq9069gw5b05y8w0000gn/T/ipykernel_1985/1690539697.py:8: DeprecationWarning: `np.float` is a deprecated alias for the builtin `float`. To silence this warning, use `float` by itself. Doing this will not modify any behavior and is safe. If you specifically wanted the numpy scalar type, use `np.float64` here.\n",
      "Deprecated in NumPy 1.20; for more details and guidance: https://numpy.org/devdocs/release/1.20.0-notes.html#deprecations\n",
      "  S = s[:k] * np.identity(k, np.float)         # latent Factor 중요도 K 몇까지 사용할지\n"
     ]
    },
    {
     "data": {
      "text/html": [
       "<div>\n",
       "<style scoped>\n",
       "    .dataframe tbody tr th:only-of-type {\n",
       "        vertical-align: middle;\n",
       "    }\n",
       "\n",
       "    .dataframe tbody tr th {\n",
       "        vertical-align: top;\n",
       "    }\n",
       "\n",
       "    .dataframe thead th {\n",
       "        text-align: right;\n",
       "    }\n",
       "</style>\n",
       "<table border=\"1\" class=\"dataframe\">\n",
       "  <thead>\n",
       "    <tr style=\"text-align: right;\">\n",
       "      <th></th>\n",
       "      <th>1</th>\n",
       "      <th>2</th>\n",
       "      <th>3</th>\n",
       "      <th>4</th>\n",
       "      <th>5</th>\n",
       "      <th>6</th>\n",
       "      <th>7</th>\n",
       "      <th>8</th>\n",
       "      <th>9</th>\n",
       "      <th>10</th>\n",
       "      <th>...</th>\n",
       "      <th>191005</th>\n",
       "      <th>193565</th>\n",
       "      <th>193571</th>\n",
       "      <th>193573</th>\n",
       "      <th>193579</th>\n",
       "      <th>193581</th>\n",
       "      <th>193583</th>\n",
       "      <th>193585</th>\n",
       "      <th>193587</th>\n",
       "      <th>193609</th>\n",
       "    </tr>\n",
       "  </thead>\n",
       "  <tbody>\n",
       "    <tr>\n",
       "      <th>1</th>\n",
       "      <td>4.243601</td>\n",
       "      <td>4.075065</td>\n",
       "      <td>3.726637</td>\n",
       "      <td>3.504575</td>\n",
       "      <td>3.453666</td>\n",
       "      <td>3.633015</td>\n",
       "      <td>3.760569</td>\n",
       "      <td>3.870080</td>\n",
       "      <td>3.663994</td>\n",
       "      <td>3.535376</td>\n",
       "      <td>...</td>\n",
       "      <td>3.722362</td>\n",
       "      <td>3.703780</td>\n",
       "      <td>3.713071</td>\n",
       "      <td>3.713071</td>\n",
       "      <td>3.703780</td>\n",
       "      <td>3.713071</td>\n",
       "      <td>3.703780</td>\n",
       "      <td>3.703780</td>\n",
       "      <td>3.703780</td>\n",
       "      <td>3.716029</td>\n",
       "    </tr>\n",
       "    <tr>\n",
       "      <th>2</th>\n",
       "      <td>3.785212</td>\n",
       "      <td>3.628179</td>\n",
       "      <td>3.713233</td>\n",
       "      <td>3.686458</td>\n",
       "      <td>3.746201</td>\n",
       "      <td>3.700107</td>\n",
       "      <td>3.732523</td>\n",
       "      <td>3.726729</td>\n",
       "      <td>3.673667</td>\n",
       "      <td>3.705152</td>\n",
       "      <td>...</td>\n",
       "      <td>3.696987</td>\n",
       "      <td>3.687744</td>\n",
       "      <td>3.692365</td>\n",
       "      <td>3.692365</td>\n",
       "      <td>3.687744</td>\n",
       "      <td>3.692365</td>\n",
       "      <td>3.687744</td>\n",
       "      <td>3.687744</td>\n",
       "      <td>3.687744</td>\n",
       "      <td>3.685198</td>\n",
       "    </tr>\n",
       "    <tr>\n",
       "      <th>3</th>\n",
       "      <td>3.168256</td>\n",
       "      <td>3.522956</td>\n",
       "      <td>3.519824</td>\n",
       "      <td>3.747089</td>\n",
       "      <td>3.304408</td>\n",
       "      <td>3.926421</td>\n",
       "      <td>3.921513</td>\n",
       "      <td>3.769839</td>\n",
       "      <td>3.792088</td>\n",
       "      <td>3.172838</td>\n",
       "      <td>...</td>\n",
       "      <td>3.796500</td>\n",
       "      <td>3.653436</td>\n",
       "      <td>3.724968</td>\n",
       "      <td>3.724968</td>\n",
       "      <td>3.653436</td>\n",
       "      <td>3.724968</td>\n",
       "      <td>3.653436</td>\n",
       "      <td>3.653436</td>\n",
       "      <td>3.653436</td>\n",
       "      <td>3.762468</td>\n",
       "    </tr>\n",
       "    <tr>\n",
       "      <th>4</th>\n",
       "      <td>3.412516</td>\n",
       "      <td>4.123248</td>\n",
       "      <td>3.738593</td>\n",
       "      <td>3.428429</td>\n",
       "      <td>3.899256</td>\n",
       "      <td>3.754576</td>\n",
       "      <td>3.626197</td>\n",
       "      <td>3.331424</td>\n",
       "      <td>3.633437</td>\n",
       "      <td>4.247448</td>\n",
       "      <td>...</td>\n",
       "      <td>3.738748</td>\n",
       "      <td>3.668080</td>\n",
       "      <td>3.703414</td>\n",
       "      <td>3.703414</td>\n",
       "      <td>3.668080</td>\n",
       "      <td>3.703414</td>\n",
       "      <td>3.668080</td>\n",
       "      <td>3.668080</td>\n",
       "      <td>3.668080</td>\n",
       "      <td>3.699070</td>\n",
       "    </tr>\n",
       "    <tr>\n",
       "      <th>5</th>\n",
       "      <td>3.693938</td>\n",
       "      <td>3.696625</td>\n",
       "      <td>3.683690</td>\n",
       "      <td>3.610293</td>\n",
       "      <td>3.776169</td>\n",
       "      <td>3.944282</td>\n",
       "      <td>3.640440</td>\n",
       "      <td>3.624879</td>\n",
       "      <td>3.626793</td>\n",
       "      <td>3.592228</td>\n",
       "      <td>...</td>\n",
       "      <td>3.654670</td>\n",
       "      <td>3.699599</td>\n",
       "      <td>3.677135</td>\n",
       "      <td>3.677135</td>\n",
       "      <td>3.699599</td>\n",
       "      <td>3.677135</td>\n",
       "      <td>3.699599</td>\n",
       "      <td>3.699599</td>\n",
       "      <td>3.699599</td>\n",
       "      <td>3.712502</td>\n",
       "    </tr>\n",
       "  </tbody>\n",
       "</table>\n",
       "<p>5 rows × 8983 columns</p>\n",
       "</div>"
      ],
      "text/plain": [
       "     1         2         3         4         5         6         7       \\\n",
       "1  4.243601  4.075065  3.726637  3.504575  3.453666  3.633015  3.760569   \n",
       "2  3.785212  3.628179  3.713233  3.686458  3.746201  3.700107  3.732523   \n",
       "3  3.168256  3.522956  3.519824  3.747089  3.304408  3.926421  3.921513   \n",
       "4  3.412516  4.123248  3.738593  3.428429  3.899256  3.754576  3.626197   \n",
       "5  3.693938  3.696625  3.683690  3.610293  3.776169  3.944282  3.640440   \n",
       "\n",
       "     8         9         10      ...    191005    193565    193571    193573  \\\n",
       "1  3.870080  3.663994  3.535376  ...  3.722362  3.703780  3.713071  3.713071   \n",
       "2  3.726729  3.673667  3.705152  ...  3.696987  3.687744  3.692365  3.692365   \n",
       "3  3.769839  3.792088  3.172838  ...  3.796500  3.653436  3.724968  3.724968   \n",
       "4  3.331424  3.633437  4.247448  ...  3.738748  3.668080  3.703414  3.703414   \n",
       "5  3.624879  3.626793  3.592228  ...  3.654670  3.699599  3.677135  3.677135   \n",
       "\n",
       "     193579    193581    193583    193585    193587    193609  \n",
       "1  3.703780  3.713071  3.703780  3.703780  3.703780  3.716029  \n",
       "2  3.687744  3.692365  3.687744  3.687744  3.687744  3.685198  \n",
       "3  3.653436  3.724968  3.653436  3.653436  3.653436  3.762468  \n",
       "4  3.668080  3.703414  3.668080  3.668080  3.668080  3.699070  \n",
       "5  3.699599  3.677135  3.699599  3.699599  3.699599  3.712502  \n",
       "\n",
       "[5 rows x 8983 columns]"
      ]
     },
     "execution_count": 16,
     "metadata": {},
     "output_type": "execute_result"
    }
   ],
   "source": [
    "item_factors, uesr_factors = get_svd(sparse_matrix_withuser)\n",
    "\n",
    "prediction_result_df = pd.DataFrame(np.matmul(item_factors, user_factors),\n",
    "                                    columns = sparse_matrix_withuser.columns.values,\n",
    "                                    index = sparse_matrix_withuser.index.values)\n",
    "\n",
    "user_prediction_result_df = prediction_result_df.transpose()\n",
    "\n",
    "user_prediction_result_df.head()"
   ]
  },
  {
   "cell_type": "code",
   "execution_count": 17,
   "metadata": {},
   "outputs": [
    {
     "name": "stdout",
     "output_type": "stream",
     "text": [
      "(8983, 300)\n",
      "(300, 610)\n"
     ]
    }
   ],
   "source": [
    "print(item_factors.shape)\n",
    "print(user_factors.shape)"
   ]
  },
  {
   "cell_type": "code",
   "execution_count": 18,
   "metadata": {},
   "outputs": [],
   "source": [
    "def evaluate(test_df, prediction_result_df):\n",
    "    groups_with_movie_ids = test_df.groupby(by='movieId')\n",
    "    groups_with_user_ids = test_df.groupby(by='userId')\n",
    "    intersection_movie_ids = sorted(list(set(list(prediction_result_df.columns)).intersection(set(list(groups_with_movie_ids.indices.keys())))))\n",
    "    intersection_user_ids = sorted(list(set(list(prediction_result_df.index)).intersection(set(groups_with_user_ids.indices.keys()))))\n",
    "\n",
    "    print(len(intersection_movie_ids))\n",
    "    print(len(intersection_user_ids))\n",
    "\n",
    "    compressed_prediction_df = prediction_result_df.loc[intersection_user_ids][intersection_movie_ids]\n",
    "\n",
    "    # test_df에 대해서 RMSE 계산\n",
    "    grouped = test_df.groupby(by='userId')\n",
    "    rmse_df = pd.DataFrame(columns=['rmse'])\n",
    "    for userId, group in tqdm_notebook(grouped):\n",
    "        if userId in intersection_user_ids:\n",
    "            pred_ratings = compressed_prediction_df.loc[userId][compressed_prediction_df.loc[userId].index.intersection(list(group['movieId'].values))]\n",
    "            pred_ratings = pred_ratings.to_frame(name='rating').reset_index().rename(columns={'index':'movieId','rating':'pred_rating'})\n",
    "            actual_ratings = group[['rating', 'movieId']].rename(columns={'rating':'actual_rating'})\n",
    "\n",
    "            final_df = pd.merge(actual_ratings, pred_ratings, how='inner', on=['movieId'])\n",
    "            final_df = final_df.round(4) # 반올림\n",
    "        \n",
    "            if not final_df.empty:\n",
    "                rmse = sqrt(mean_squared_error(final_df['actual_rating'], final_df['pred_rating']))\n",
    "                rmse_df.loc[userId] = rmse\n",
    "\n",
    "    return final_df, rmse_df\n",
    "     "
   ]
  },
  {
   "cell_type": "code",
   "execution_count": 19,
   "metadata": {},
   "outputs": [
    {
     "name": "stdout",
     "output_type": "stream",
     "text": [
      "4401\n",
      "610\n"
     ]
    },
    {
     "name": "stderr",
     "output_type": "stream",
     "text": [
      "/var/folders/l4/pmxdjv4j2tq9069gw5b05y8w0000gn/T/ipykernel_1985/2363776217.py:15: TqdmDeprecationWarning: This function will be removed in tqdm==5.0.0\n",
      "Please use `tqdm.notebook.tqdm` instead of `tqdm.tqdm_notebook`\n",
      "  for userId, group in tqdm_notebook(grouped):\n"
     ]
    },
    {
     "data": {
      "application/vnd.jupyter.widget-view+json": {
       "model_id": "e683d8361cf547cc9bb957b8ca294c8e",
       "version_major": 2,
       "version_minor": 0
      },
      "text/plain": [
       "  0%|          | 0/610 [00:00<?, ?it/s]"
      ]
     },
     "metadata": {},
     "output_type": "display_data"
    },
    {
     "name": "stdout",
     "output_type": "stream",
     "text": [
      "     actual_rating  movieId  pred_rating\n",
      "0              3.0     4228       3.6324\n",
      "1              4.0    46970       4.0660\n",
      "2              3.0     7324       3.7733\n",
      "3              3.5    27904       3.5755\n",
      "4              1.0   120635       3.6924\n",
      "..             ...      ...          ...\n",
      "218            2.0     7454       3.5461\n",
      "219            5.0     2076       3.4259\n",
      "220            4.5     3016       3.7629\n",
      "221            3.5     4448       3.5836\n",
      "222            5.0    63082       4.3609\n",
      "\n",
      "[223 rows x 3 columns]\n",
      "For user Matrix\n",
      "RMSE: 0.9202630929138538\n"
     ]
    }
   ],
   "source": [
    "result_df, _ = evaluate(test_df, user_prediction_result_df)\n",
    "\n",
    "print(result_df)\n",
    "print('For user Matrix')\n",
    "print(f\"RMSE: {sqrt(mean_squared_error(result_df['actual_rating'].values, result_df['pred_rating'].values))}\")\n"
   ]
  },
  {
   "cell_type": "code",
   "execution_count": 20,
   "metadata": {},
   "outputs": [
    {
     "name": "stdout",
     "output_type": "stream",
     "text": [
      "4401\n",
      "610\n"
     ]
    },
    {
     "name": "stderr",
     "output_type": "stream",
     "text": [
      "/var/folders/l4/pmxdjv4j2tq9069gw5b05y8w0000gn/T/ipykernel_1985/2363776217.py:15: TqdmDeprecationWarning: This function will be removed in tqdm==5.0.0\n",
      "Please use `tqdm.notebook.tqdm` instead of `tqdm.tqdm_notebook`\n",
      "  for userId, group in tqdm_notebook(grouped):\n"
     ]
    },
    {
     "data": {
      "application/vnd.jupyter.widget-view+json": {
       "model_id": "731d3999f1964e349f642da332b4e82e",
       "version_major": 2,
       "version_minor": 0
      },
      "text/plain": [
       "  0%|          | 0/610 [00:00<?, ?it/s]"
      ]
     },
     "metadata": {},
     "output_type": "display_data"
    },
    {
     "name": "stdout",
     "output_type": "stream",
     "text": [
      "     actual_rating  movieId  pred_rating\n",
      "0              3.0     4228       1.8001\n",
      "1              4.0    46970       3.2354\n",
      "2              3.0     7324       3.3114\n",
      "3              3.5    27904       3.7143\n",
      "4              1.0   120635       3.1234\n",
      "..             ...      ...          ...\n",
      "218            2.0     7454       2.7337\n",
      "219            5.0     2076       3.9850\n",
      "220            4.5     3016       2.7830\n",
      "221            3.5     4448       3.3871\n",
      "222            5.0    63082       3.8210\n",
      "\n",
      "[223 rows x 3 columns]\n",
      "For user Matrix\n",
      "RMSE: 0.8026654744111392\n"
     ]
    }
   ],
   "source": [
    "result_df, _ = evaluate(test_df, movie_prediction_result_df)\n",
    "\n",
    "print(result_df)\n",
    "print('For user Matrix')\n",
    "print(f\"RMSE: {sqrt(mean_squared_error(result_df['actual_rating'].values, result_df['pred_rating'].values))}\")\n"
   ]
  },
  {
   "attachments": {},
   "cell_type": "markdown",
   "metadata": {},
   "source": [
    "## 최적의 K 찾기"
   ]
  },
  {
   "cell_type": "code",
   "execution_count": 21,
   "metadata": {},
   "outputs": [],
   "source": [
    "def find_best_k(sparse_matrix, maximum_k = 300):\n",
    "    print('\\nFind best optimized k for MF')\n",
    "    k_list = np.arange(50, maximum_k, 10)\n",
    "\n",
    "    find_df = pd.DataFrame(columns = ['rmse'], index = k_list)\n",
    "    for k in tqdm_notebook(k_list):\n",
    "        item_factors, user_factors = get_svd(sparse_matrix, k)\n",
    "        each_result_df = pd.DataFrame(np.matmul(item_factors, user_factors),\n",
    "                                      columns = sparse_matrix.columns.values,\n",
    "                                      index = sparse_matrix.index.values)\n",
    "        \n",
    "        each_result_df_T = each_result_df.transpose()\n",
    "\n",
    "        result_df, _ = evaluate(test_df, each_result_df_T)\n",
    "        each_rmse = sqrt(mean_squared_error(result_df['actual_rating'].values, \n",
    "                                            result_df['pred_rating'].values))\n",
    "        \n",
    "        find_df.loc[k]['rmse'] = each_rmse\n",
    "\n",
    "    return find_df"
   ]
  },
  {
   "cell_type": "code",
   "execution_count": 22,
   "metadata": {},
   "outputs": [
    {
     "name": "stdout",
     "output_type": "stream",
     "text": [
      "\n",
      "Find best optimized k for MF\n"
     ]
    },
    {
     "name": "stderr",
     "output_type": "stream",
     "text": [
      "/var/folders/l4/pmxdjv4j2tq9069gw5b05y8w0000gn/T/ipykernel_1985/2613751981.py:6: TqdmDeprecationWarning: This function will be removed in tqdm==5.0.0\n",
      "Please use `tqdm.notebook.tqdm` instead of `tqdm.tqdm_notebook`\n",
      "  for k in tqdm_notebook(k_list):\n"
     ]
    },
    {
     "data": {
      "application/vnd.jupyter.widget-view+json": {
       "model_id": "fe5df7b7b4e44339b657e871e8c0275d",
       "version_major": 2,
       "version_minor": 0
      },
      "text/plain": [
       "  0%|          | 0/25 [00:00<?, ?it/s]"
      ]
     },
     "metadata": {},
     "output_type": "display_data"
    },
    {
     "name": "stdout",
     "output_type": "stream",
     "text": [
      "4401\n",
      "610\n"
     ]
    },
    {
     "name": "stderr",
     "output_type": "stream",
     "text": [
      "/var/folders/l4/pmxdjv4j2tq9069gw5b05y8w0000gn/T/ipykernel_1985/1690539697.py:8: DeprecationWarning: `np.float` is a deprecated alias for the builtin `float`. To silence this warning, use `float` by itself. Doing this will not modify any behavior and is safe. If you specifically wanted the numpy scalar type, use `np.float64` here.\n",
      "Deprecated in NumPy 1.20; for more details and guidance: https://numpy.org/devdocs/release/1.20.0-notes.html#deprecations\n",
      "  S = s[:k] * np.identity(k, np.float)         # latent Factor 중요도 K 몇까지 사용할지\n",
      "/var/folders/l4/pmxdjv4j2tq9069gw5b05y8w0000gn/T/ipykernel_1985/2363776217.py:15: TqdmDeprecationWarning: This function will be removed in tqdm==5.0.0\n",
      "Please use `tqdm.notebook.tqdm` instead of `tqdm.tqdm_notebook`\n",
      "  for userId, group in tqdm_notebook(grouped):\n"
     ]
    },
    {
     "data": {
      "application/vnd.jupyter.widget-view+json": {
       "model_id": "1cc8d90fbf0a44f7a6671be459eb7882",
       "version_major": 2,
       "version_minor": 0
      },
      "text/plain": [
       "  0%|          | 0/610 [00:00<?, ?it/s]"
      ]
     },
     "metadata": {},
     "output_type": "display_data"
    },
    {
     "name": "stdout",
     "output_type": "stream",
     "text": [
      "4401\n",
      "610\n"
     ]
    },
    {
     "name": "stderr",
     "output_type": "stream",
     "text": [
      "/var/folders/l4/pmxdjv4j2tq9069gw5b05y8w0000gn/T/ipykernel_1985/1690539697.py:8: DeprecationWarning: `np.float` is a deprecated alias for the builtin `float`. To silence this warning, use `float` by itself. Doing this will not modify any behavior and is safe. If you specifically wanted the numpy scalar type, use `np.float64` here.\n",
      "Deprecated in NumPy 1.20; for more details and guidance: https://numpy.org/devdocs/release/1.20.0-notes.html#deprecations\n",
      "  S = s[:k] * np.identity(k, np.float)         # latent Factor 중요도 K 몇까지 사용할지\n",
      "/var/folders/l4/pmxdjv4j2tq9069gw5b05y8w0000gn/T/ipykernel_1985/2363776217.py:15: TqdmDeprecationWarning: This function will be removed in tqdm==5.0.0\n",
      "Please use `tqdm.notebook.tqdm` instead of `tqdm.tqdm_notebook`\n",
      "  for userId, group in tqdm_notebook(grouped):\n"
     ]
    },
    {
     "data": {
      "application/vnd.jupyter.widget-view+json": {
       "model_id": "526fe9ea530e40a4a28ca7e09b613534",
       "version_major": 2,
       "version_minor": 0
      },
      "text/plain": [
       "  0%|          | 0/610 [00:00<?, ?it/s]"
      ]
     },
     "metadata": {},
     "output_type": "display_data"
    },
    {
     "name": "stdout",
     "output_type": "stream",
     "text": [
      "4401\n",
      "610\n"
     ]
    },
    {
     "name": "stderr",
     "output_type": "stream",
     "text": [
      "/var/folders/l4/pmxdjv4j2tq9069gw5b05y8w0000gn/T/ipykernel_1985/1690539697.py:8: DeprecationWarning: `np.float` is a deprecated alias for the builtin `float`. To silence this warning, use `float` by itself. Doing this will not modify any behavior and is safe. If you specifically wanted the numpy scalar type, use `np.float64` here.\n",
      "Deprecated in NumPy 1.20; for more details and guidance: https://numpy.org/devdocs/release/1.20.0-notes.html#deprecations\n",
      "  S = s[:k] * np.identity(k, np.float)         # latent Factor 중요도 K 몇까지 사용할지\n",
      "/var/folders/l4/pmxdjv4j2tq9069gw5b05y8w0000gn/T/ipykernel_1985/2363776217.py:15: TqdmDeprecationWarning: This function will be removed in tqdm==5.0.0\n",
      "Please use `tqdm.notebook.tqdm` instead of `tqdm.tqdm_notebook`\n",
      "  for userId, group in tqdm_notebook(grouped):\n"
     ]
    },
    {
     "data": {
      "application/vnd.jupyter.widget-view+json": {
       "model_id": "6dd2cd2c661144e8889b69bc94b5e75e",
       "version_major": 2,
       "version_minor": 0
      },
      "text/plain": [
       "  0%|          | 0/610 [00:00<?, ?it/s]"
      ]
     },
     "metadata": {},
     "output_type": "display_data"
    },
    {
     "name": "stdout",
     "output_type": "stream",
     "text": [
      "4401\n",
      "610\n"
     ]
    },
    {
     "name": "stderr",
     "output_type": "stream",
     "text": [
      "/var/folders/l4/pmxdjv4j2tq9069gw5b05y8w0000gn/T/ipykernel_1985/1690539697.py:8: DeprecationWarning: `np.float` is a deprecated alias for the builtin `float`. To silence this warning, use `float` by itself. Doing this will not modify any behavior and is safe. If you specifically wanted the numpy scalar type, use `np.float64` here.\n",
      "Deprecated in NumPy 1.20; for more details and guidance: https://numpy.org/devdocs/release/1.20.0-notes.html#deprecations\n",
      "  S = s[:k] * np.identity(k, np.float)         # latent Factor 중요도 K 몇까지 사용할지\n",
      "/var/folders/l4/pmxdjv4j2tq9069gw5b05y8w0000gn/T/ipykernel_1985/2363776217.py:15: TqdmDeprecationWarning: This function will be removed in tqdm==5.0.0\n",
      "Please use `tqdm.notebook.tqdm` instead of `tqdm.tqdm_notebook`\n",
      "  for userId, group in tqdm_notebook(grouped):\n"
     ]
    },
    {
     "data": {
      "application/vnd.jupyter.widget-view+json": {
       "model_id": "f74a9384e08b41b5b7a3d018329d28b9",
       "version_major": 2,
       "version_minor": 0
      },
      "text/plain": [
       "  0%|          | 0/610 [00:00<?, ?it/s]"
      ]
     },
     "metadata": {},
     "output_type": "display_data"
    },
    {
     "name": "stdout",
     "output_type": "stream",
     "text": [
      "4401\n",
      "610\n"
     ]
    },
    {
     "name": "stderr",
     "output_type": "stream",
     "text": [
      "/var/folders/l4/pmxdjv4j2tq9069gw5b05y8w0000gn/T/ipykernel_1985/1690539697.py:8: DeprecationWarning: `np.float` is a deprecated alias for the builtin `float`. To silence this warning, use `float` by itself. Doing this will not modify any behavior and is safe. If you specifically wanted the numpy scalar type, use `np.float64` here.\n",
      "Deprecated in NumPy 1.20; for more details and guidance: https://numpy.org/devdocs/release/1.20.0-notes.html#deprecations\n",
      "  S = s[:k] * np.identity(k, np.float)         # latent Factor 중요도 K 몇까지 사용할지\n",
      "/var/folders/l4/pmxdjv4j2tq9069gw5b05y8w0000gn/T/ipykernel_1985/2363776217.py:15: TqdmDeprecationWarning: This function will be removed in tqdm==5.0.0\n",
      "Please use `tqdm.notebook.tqdm` instead of `tqdm.tqdm_notebook`\n",
      "  for userId, group in tqdm_notebook(grouped):\n"
     ]
    },
    {
     "data": {
      "application/vnd.jupyter.widget-view+json": {
       "model_id": "5b2994522a8c4bf1a6a9f666b7fc22ef",
       "version_major": 2,
       "version_minor": 0
      },
      "text/plain": [
       "  0%|          | 0/610 [00:00<?, ?it/s]"
      ]
     },
     "metadata": {},
     "output_type": "display_data"
    },
    {
     "name": "stdout",
     "output_type": "stream",
     "text": [
      "4401\n",
      "610\n"
     ]
    },
    {
     "name": "stderr",
     "output_type": "stream",
     "text": [
      "/var/folders/l4/pmxdjv4j2tq9069gw5b05y8w0000gn/T/ipykernel_1985/1690539697.py:8: DeprecationWarning: `np.float` is a deprecated alias for the builtin `float`. To silence this warning, use `float` by itself. Doing this will not modify any behavior and is safe. If you specifically wanted the numpy scalar type, use `np.float64` here.\n",
      "Deprecated in NumPy 1.20; for more details and guidance: https://numpy.org/devdocs/release/1.20.0-notes.html#deprecations\n",
      "  S = s[:k] * np.identity(k, np.float)         # latent Factor 중요도 K 몇까지 사용할지\n",
      "/var/folders/l4/pmxdjv4j2tq9069gw5b05y8w0000gn/T/ipykernel_1985/2363776217.py:15: TqdmDeprecationWarning: This function will be removed in tqdm==5.0.0\n",
      "Please use `tqdm.notebook.tqdm` instead of `tqdm.tqdm_notebook`\n",
      "  for userId, group in tqdm_notebook(grouped):\n"
     ]
    },
    {
     "data": {
      "application/vnd.jupyter.widget-view+json": {
       "model_id": "5c573d3f9f014536bb9b17b7ed3fe1f1",
       "version_major": 2,
       "version_minor": 0
      },
      "text/plain": [
       "  0%|          | 0/610 [00:00<?, ?it/s]"
      ]
     },
     "metadata": {},
     "output_type": "display_data"
    },
    {
     "name": "stdout",
     "output_type": "stream",
     "text": [
      "4401\n",
      "610\n"
     ]
    },
    {
     "name": "stderr",
     "output_type": "stream",
     "text": [
      "/var/folders/l4/pmxdjv4j2tq9069gw5b05y8w0000gn/T/ipykernel_1985/1690539697.py:8: DeprecationWarning: `np.float` is a deprecated alias for the builtin `float`. To silence this warning, use `float` by itself. Doing this will not modify any behavior and is safe. If you specifically wanted the numpy scalar type, use `np.float64` here.\n",
      "Deprecated in NumPy 1.20; for more details and guidance: https://numpy.org/devdocs/release/1.20.0-notes.html#deprecations\n",
      "  S = s[:k] * np.identity(k, np.float)         # latent Factor 중요도 K 몇까지 사용할지\n",
      "/var/folders/l4/pmxdjv4j2tq9069gw5b05y8w0000gn/T/ipykernel_1985/2363776217.py:15: TqdmDeprecationWarning: This function will be removed in tqdm==5.0.0\n",
      "Please use `tqdm.notebook.tqdm` instead of `tqdm.tqdm_notebook`\n",
      "  for userId, group in tqdm_notebook(grouped):\n"
     ]
    },
    {
     "data": {
      "application/vnd.jupyter.widget-view+json": {
       "model_id": "1d27e2168e1c40daae1a0d32aedf4241",
       "version_major": 2,
       "version_minor": 0
      },
      "text/plain": [
       "  0%|          | 0/610 [00:00<?, ?it/s]"
      ]
     },
     "metadata": {},
     "output_type": "display_data"
    },
    {
     "name": "stdout",
     "output_type": "stream",
     "text": [
      "4401\n",
      "610\n"
     ]
    },
    {
     "name": "stderr",
     "output_type": "stream",
     "text": [
      "/var/folders/l4/pmxdjv4j2tq9069gw5b05y8w0000gn/T/ipykernel_1985/1690539697.py:8: DeprecationWarning: `np.float` is a deprecated alias for the builtin `float`. To silence this warning, use `float` by itself. Doing this will not modify any behavior and is safe. If you specifically wanted the numpy scalar type, use `np.float64` here.\n",
      "Deprecated in NumPy 1.20; for more details and guidance: https://numpy.org/devdocs/release/1.20.0-notes.html#deprecations\n",
      "  S = s[:k] * np.identity(k, np.float)         # latent Factor 중요도 K 몇까지 사용할지\n",
      "/var/folders/l4/pmxdjv4j2tq9069gw5b05y8w0000gn/T/ipykernel_1985/2363776217.py:15: TqdmDeprecationWarning: This function will be removed in tqdm==5.0.0\n",
      "Please use `tqdm.notebook.tqdm` instead of `tqdm.tqdm_notebook`\n",
      "  for userId, group in tqdm_notebook(grouped):\n"
     ]
    },
    {
     "data": {
      "application/vnd.jupyter.widget-view+json": {
       "model_id": "ea2afe01d52e400e866f157f15f4e542",
       "version_major": 2,
       "version_minor": 0
      },
      "text/plain": [
       "  0%|          | 0/610 [00:00<?, ?it/s]"
      ]
     },
     "metadata": {},
     "output_type": "display_data"
    },
    {
     "name": "stdout",
     "output_type": "stream",
     "text": [
      "4401\n",
      "610\n"
     ]
    },
    {
     "name": "stderr",
     "output_type": "stream",
     "text": [
      "/var/folders/l4/pmxdjv4j2tq9069gw5b05y8w0000gn/T/ipykernel_1985/1690539697.py:8: DeprecationWarning: `np.float` is a deprecated alias for the builtin `float`. To silence this warning, use `float` by itself. Doing this will not modify any behavior and is safe. If you specifically wanted the numpy scalar type, use `np.float64` here.\n",
      "Deprecated in NumPy 1.20; for more details and guidance: https://numpy.org/devdocs/release/1.20.0-notes.html#deprecations\n",
      "  S = s[:k] * np.identity(k, np.float)         # latent Factor 중요도 K 몇까지 사용할지\n",
      "/var/folders/l4/pmxdjv4j2tq9069gw5b05y8w0000gn/T/ipykernel_1985/2363776217.py:15: TqdmDeprecationWarning: This function will be removed in tqdm==5.0.0\n",
      "Please use `tqdm.notebook.tqdm` instead of `tqdm.tqdm_notebook`\n",
      "  for userId, group in tqdm_notebook(grouped):\n"
     ]
    },
    {
     "data": {
      "application/vnd.jupyter.widget-view+json": {
       "model_id": "2255e8c9710d4381b646578a3a28070f",
       "version_major": 2,
       "version_minor": 0
      },
      "text/plain": [
       "  0%|          | 0/610 [00:00<?, ?it/s]"
      ]
     },
     "metadata": {},
     "output_type": "display_data"
    },
    {
     "name": "stdout",
     "output_type": "stream",
     "text": [
      "4401\n",
      "610\n"
     ]
    },
    {
     "name": "stderr",
     "output_type": "stream",
     "text": [
      "/var/folders/l4/pmxdjv4j2tq9069gw5b05y8w0000gn/T/ipykernel_1985/1690539697.py:8: DeprecationWarning: `np.float` is a deprecated alias for the builtin `float`. To silence this warning, use `float` by itself. Doing this will not modify any behavior and is safe. If you specifically wanted the numpy scalar type, use `np.float64` here.\n",
      "Deprecated in NumPy 1.20; for more details and guidance: https://numpy.org/devdocs/release/1.20.0-notes.html#deprecations\n",
      "  S = s[:k] * np.identity(k, np.float)         # latent Factor 중요도 K 몇까지 사용할지\n",
      "/var/folders/l4/pmxdjv4j2tq9069gw5b05y8w0000gn/T/ipykernel_1985/2363776217.py:15: TqdmDeprecationWarning: This function will be removed in tqdm==5.0.0\n",
      "Please use `tqdm.notebook.tqdm` instead of `tqdm.tqdm_notebook`\n",
      "  for userId, group in tqdm_notebook(grouped):\n"
     ]
    },
    {
     "data": {
      "application/vnd.jupyter.widget-view+json": {
       "model_id": "5965acde41ad4d419e3562ea8d5ec8af",
       "version_major": 2,
       "version_minor": 0
      },
      "text/plain": [
       "  0%|          | 0/610 [00:00<?, ?it/s]"
      ]
     },
     "metadata": {},
     "output_type": "display_data"
    },
    {
     "name": "stdout",
     "output_type": "stream",
     "text": [
      "4401\n",
      "610\n"
     ]
    },
    {
     "name": "stderr",
     "output_type": "stream",
     "text": [
      "/var/folders/l4/pmxdjv4j2tq9069gw5b05y8w0000gn/T/ipykernel_1985/1690539697.py:8: DeprecationWarning: `np.float` is a deprecated alias for the builtin `float`. To silence this warning, use `float` by itself. Doing this will not modify any behavior and is safe. If you specifically wanted the numpy scalar type, use `np.float64` here.\n",
      "Deprecated in NumPy 1.20; for more details and guidance: https://numpy.org/devdocs/release/1.20.0-notes.html#deprecations\n",
      "  S = s[:k] * np.identity(k, np.float)         # latent Factor 중요도 K 몇까지 사용할지\n",
      "/var/folders/l4/pmxdjv4j2tq9069gw5b05y8w0000gn/T/ipykernel_1985/2363776217.py:15: TqdmDeprecationWarning: This function will be removed in tqdm==5.0.0\n",
      "Please use `tqdm.notebook.tqdm` instead of `tqdm.tqdm_notebook`\n",
      "  for userId, group in tqdm_notebook(grouped):\n"
     ]
    },
    {
     "data": {
      "application/vnd.jupyter.widget-view+json": {
       "model_id": "dc6ed8d8d37f469fa159865b4617562c",
       "version_major": 2,
       "version_minor": 0
      },
      "text/plain": [
       "  0%|          | 0/610 [00:00<?, ?it/s]"
      ]
     },
     "metadata": {},
     "output_type": "display_data"
    },
    {
     "name": "stdout",
     "output_type": "stream",
     "text": [
      "4401\n",
      "610\n"
     ]
    },
    {
     "name": "stderr",
     "output_type": "stream",
     "text": [
      "/var/folders/l4/pmxdjv4j2tq9069gw5b05y8w0000gn/T/ipykernel_1985/1690539697.py:8: DeprecationWarning: `np.float` is a deprecated alias for the builtin `float`. To silence this warning, use `float` by itself. Doing this will not modify any behavior and is safe. If you specifically wanted the numpy scalar type, use `np.float64` here.\n",
      "Deprecated in NumPy 1.20; for more details and guidance: https://numpy.org/devdocs/release/1.20.0-notes.html#deprecations\n",
      "  S = s[:k] * np.identity(k, np.float)         # latent Factor 중요도 K 몇까지 사용할지\n",
      "/var/folders/l4/pmxdjv4j2tq9069gw5b05y8w0000gn/T/ipykernel_1985/2363776217.py:15: TqdmDeprecationWarning: This function will be removed in tqdm==5.0.0\n",
      "Please use `tqdm.notebook.tqdm` instead of `tqdm.tqdm_notebook`\n",
      "  for userId, group in tqdm_notebook(grouped):\n"
     ]
    },
    {
     "data": {
      "application/vnd.jupyter.widget-view+json": {
       "model_id": "f2d38ed4d03948688fc7a3b9a9e84759",
       "version_major": 2,
       "version_minor": 0
      },
      "text/plain": [
       "  0%|          | 0/610 [00:00<?, ?it/s]"
      ]
     },
     "metadata": {},
     "output_type": "display_data"
    },
    {
     "name": "stdout",
     "output_type": "stream",
     "text": [
      "4401\n",
      "610\n"
     ]
    },
    {
     "name": "stderr",
     "output_type": "stream",
     "text": [
      "/var/folders/l4/pmxdjv4j2tq9069gw5b05y8w0000gn/T/ipykernel_1985/1690539697.py:8: DeprecationWarning: `np.float` is a deprecated alias for the builtin `float`. To silence this warning, use `float` by itself. Doing this will not modify any behavior and is safe. If you specifically wanted the numpy scalar type, use `np.float64` here.\n",
      "Deprecated in NumPy 1.20; for more details and guidance: https://numpy.org/devdocs/release/1.20.0-notes.html#deprecations\n",
      "  S = s[:k] * np.identity(k, np.float)         # latent Factor 중요도 K 몇까지 사용할지\n",
      "/var/folders/l4/pmxdjv4j2tq9069gw5b05y8w0000gn/T/ipykernel_1985/2363776217.py:15: TqdmDeprecationWarning: This function will be removed in tqdm==5.0.0\n",
      "Please use `tqdm.notebook.tqdm` instead of `tqdm.tqdm_notebook`\n",
      "  for userId, group in tqdm_notebook(grouped):\n"
     ]
    },
    {
     "data": {
      "application/vnd.jupyter.widget-view+json": {
       "model_id": "00da961198eb44a88aa70334d8ba6f4f",
       "version_major": 2,
       "version_minor": 0
      },
      "text/plain": [
       "  0%|          | 0/610 [00:00<?, ?it/s]"
      ]
     },
     "metadata": {},
     "output_type": "display_data"
    },
    {
     "name": "stdout",
     "output_type": "stream",
     "text": [
      "4401\n",
      "610\n"
     ]
    },
    {
     "name": "stderr",
     "output_type": "stream",
     "text": [
      "/var/folders/l4/pmxdjv4j2tq9069gw5b05y8w0000gn/T/ipykernel_1985/1690539697.py:8: DeprecationWarning: `np.float` is a deprecated alias for the builtin `float`. To silence this warning, use `float` by itself. Doing this will not modify any behavior and is safe. If you specifically wanted the numpy scalar type, use `np.float64` here.\n",
      "Deprecated in NumPy 1.20; for more details and guidance: https://numpy.org/devdocs/release/1.20.0-notes.html#deprecations\n",
      "  S = s[:k] * np.identity(k, np.float)         # latent Factor 중요도 K 몇까지 사용할지\n",
      "/var/folders/l4/pmxdjv4j2tq9069gw5b05y8w0000gn/T/ipykernel_1985/2363776217.py:15: TqdmDeprecationWarning: This function will be removed in tqdm==5.0.0\n",
      "Please use `tqdm.notebook.tqdm` instead of `tqdm.tqdm_notebook`\n",
      "  for userId, group in tqdm_notebook(grouped):\n"
     ]
    },
    {
     "data": {
      "application/vnd.jupyter.widget-view+json": {
       "model_id": "c0cecd09a75041ef8e4aa134570c4fa6",
       "version_major": 2,
       "version_minor": 0
      },
      "text/plain": [
       "  0%|          | 0/610 [00:00<?, ?it/s]"
      ]
     },
     "metadata": {},
     "output_type": "display_data"
    },
    {
     "name": "stdout",
     "output_type": "stream",
     "text": [
      "4401\n",
      "610\n"
     ]
    },
    {
     "name": "stderr",
     "output_type": "stream",
     "text": [
      "/var/folders/l4/pmxdjv4j2tq9069gw5b05y8w0000gn/T/ipykernel_1985/1690539697.py:8: DeprecationWarning: `np.float` is a deprecated alias for the builtin `float`. To silence this warning, use `float` by itself. Doing this will not modify any behavior and is safe. If you specifically wanted the numpy scalar type, use `np.float64` here.\n",
      "Deprecated in NumPy 1.20; for more details and guidance: https://numpy.org/devdocs/release/1.20.0-notes.html#deprecations\n",
      "  S = s[:k] * np.identity(k, np.float)         # latent Factor 중요도 K 몇까지 사용할지\n",
      "/var/folders/l4/pmxdjv4j2tq9069gw5b05y8w0000gn/T/ipykernel_1985/2363776217.py:15: TqdmDeprecationWarning: This function will be removed in tqdm==5.0.0\n",
      "Please use `tqdm.notebook.tqdm` instead of `tqdm.tqdm_notebook`\n",
      "  for userId, group in tqdm_notebook(grouped):\n"
     ]
    },
    {
     "data": {
      "application/vnd.jupyter.widget-view+json": {
       "model_id": "4ccfcef8419e432498705e3bfc59244c",
       "version_major": 2,
       "version_minor": 0
      },
      "text/plain": [
       "  0%|          | 0/610 [00:00<?, ?it/s]"
      ]
     },
     "metadata": {},
     "output_type": "display_data"
    },
    {
     "name": "stdout",
     "output_type": "stream",
     "text": [
      "4401\n",
      "610\n"
     ]
    },
    {
     "name": "stderr",
     "output_type": "stream",
     "text": [
      "/var/folders/l4/pmxdjv4j2tq9069gw5b05y8w0000gn/T/ipykernel_1985/1690539697.py:8: DeprecationWarning: `np.float` is a deprecated alias for the builtin `float`. To silence this warning, use `float` by itself. Doing this will not modify any behavior and is safe. If you specifically wanted the numpy scalar type, use `np.float64` here.\n",
      "Deprecated in NumPy 1.20; for more details and guidance: https://numpy.org/devdocs/release/1.20.0-notes.html#deprecations\n",
      "  S = s[:k] * np.identity(k, np.float)         # latent Factor 중요도 K 몇까지 사용할지\n",
      "/var/folders/l4/pmxdjv4j2tq9069gw5b05y8w0000gn/T/ipykernel_1985/2363776217.py:15: TqdmDeprecationWarning: This function will be removed in tqdm==5.0.0\n",
      "Please use `tqdm.notebook.tqdm` instead of `tqdm.tqdm_notebook`\n",
      "  for userId, group in tqdm_notebook(grouped):\n"
     ]
    },
    {
     "data": {
      "application/vnd.jupyter.widget-view+json": {
       "model_id": "f22b7be4836c4db896f0810d5ee0878a",
       "version_major": 2,
       "version_minor": 0
      },
      "text/plain": [
       "  0%|          | 0/610 [00:00<?, ?it/s]"
      ]
     },
     "metadata": {},
     "output_type": "display_data"
    },
    {
     "name": "stdout",
     "output_type": "stream",
     "text": [
      "4401\n",
      "610\n"
     ]
    },
    {
     "name": "stderr",
     "output_type": "stream",
     "text": [
      "/var/folders/l4/pmxdjv4j2tq9069gw5b05y8w0000gn/T/ipykernel_1985/1690539697.py:8: DeprecationWarning: `np.float` is a deprecated alias for the builtin `float`. To silence this warning, use `float` by itself. Doing this will not modify any behavior and is safe. If you specifically wanted the numpy scalar type, use `np.float64` here.\n",
      "Deprecated in NumPy 1.20; for more details and guidance: https://numpy.org/devdocs/release/1.20.0-notes.html#deprecations\n",
      "  S = s[:k] * np.identity(k, np.float)         # latent Factor 중요도 K 몇까지 사용할지\n",
      "/var/folders/l4/pmxdjv4j2tq9069gw5b05y8w0000gn/T/ipykernel_1985/2363776217.py:15: TqdmDeprecationWarning: This function will be removed in tqdm==5.0.0\n",
      "Please use `tqdm.notebook.tqdm` instead of `tqdm.tqdm_notebook`\n",
      "  for userId, group in tqdm_notebook(grouped):\n"
     ]
    },
    {
     "data": {
      "application/vnd.jupyter.widget-view+json": {
       "model_id": "f1364c1229e2417c8379e21068ccde90",
       "version_major": 2,
       "version_minor": 0
      },
      "text/plain": [
       "  0%|          | 0/610 [00:00<?, ?it/s]"
      ]
     },
     "metadata": {},
     "output_type": "display_data"
    },
    {
     "name": "stdout",
     "output_type": "stream",
     "text": [
      "4401\n",
      "610\n"
     ]
    },
    {
     "name": "stderr",
     "output_type": "stream",
     "text": [
      "/var/folders/l4/pmxdjv4j2tq9069gw5b05y8w0000gn/T/ipykernel_1985/1690539697.py:8: DeprecationWarning: `np.float` is a deprecated alias for the builtin `float`. To silence this warning, use `float` by itself. Doing this will not modify any behavior and is safe. If you specifically wanted the numpy scalar type, use `np.float64` here.\n",
      "Deprecated in NumPy 1.20; for more details and guidance: https://numpy.org/devdocs/release/1.20.0-notes.html#deprecations\n",
      "  S = s[:k] * np.identity(k, np.float)         # latent Factor 중요도 K 몇까지 사용할지\n",
      "/var/folders/l4/pmxdjv4j2tq9069gw5b05y8w0000gn/T/ipykernel_1985/2363776217.py:15: TqdmDeprecationWarning: This function will be removed in tqdm==5.0.0\n",
      "Please use `tqdm.notebook.tqdm` instead of `tqdm.tqdm_notebook`\n",
      "  for userId, group in tqdm_notebook(grouped):\n"
     ]
    },
    {
     "data": {
      "application/vnd.jupyter.widget-view+json": {
       "model_id": "9eafd9966b2f4deb848864496f33e6f4",
       "version_major": 2,
       "version_minor": 0
      },
      "text/plain": [
       "  0%|          | 0/610 [00:00<?, ?it/s]"
      ]
     },
     "metadata": {},
     "output_type": "display_data"
    },
    {
     "name": "stdout",
     "output_type": "stream",
     "text": [
      "4401\n",
      "610\n"
     ]
    },
    {
     "name": "stderr",
     "output_type": "stream",
     "text": [
      "/var/folders/l4/pmxdjv4j2tq9069gw5b05y8w0000gn/T/ipykernel_1985/1690539697.py:8: DeprecationWarning: `np.float` is a deprecated alias for the builtin `float`. To silence this warning, use `float` by itself. Doing this will not modify any behavior and is safe. If you specifically wanted the numpy scalar type, use `np.float64` here.\n",
      "Deprecated in NumPy 1.20; for more details and guidance: https://numpy.org/devdocs/release/1.20.0-notes.html#deprecations\n",
      "  S = s[:k] * np.identity(k, np.float)         # latent Factor 중요도 K 몇까지 사용할지\n",
      "/var/folders/l4/pmxdjv4j2tq9069gw5b05y8w0000gn/T/ipykernel_1985/2363776217.py:15: TqdmDeprecationWarning: This function will be removed in tqdm==5.0.0\n",
      "Please use `tqdm.notebook.tqdm` instead of `tqdm.tqdm_notebook`\n",
      "  for userId, group in tqdm_notebook(grouped):\n"
     ]
    },
    {
     "data": {
      "application/vnd.jupyter.widget-view+json": {
       "model_id": "e5d78ea4e9724ceb9ed6fb7daeb93d10",
       "version_major": 2,
       "version_minor": 0
      },
      "text/plain": [
       "  0%|          | 0/610 [00:00<?, ?it/s]"
      ]
     },
     "metadata": {},
     "output_type": "display_data"
    },
    {
     "name": "stdout",
     "output_type": "stream",
     "text": [
      "4401\n",
      "610\n"
     ]
    },
    {
     "name": "stderr",
     "output_type": "stream",
     "text": [
      "/var/folders/l4/pmxdjv4j2tq9069gw5b05y8w0000gn/T/ipykernel_1985/1690539697.py:8: DeprecationWarning: `np.float` is a deprecated alias for the builtin `float`. To silence this warning, use `float` by itself. Doing this will not modify any behavior and is safe. If you specifically wanted the numpy scalar type, use `np.float64` here.\n",
      "Deprecated in NumPy 1.20; for more details and guidance: https://numpy.org/devdocs/release/1.20.0-notes.html#deprecations\n",
      "  S = s[:k] * np.identity(k, np.float)         # latent Factor 중요도 K 몇까지 사용할지\n",
      "/var/folders/l4/pmxdjv4j2tq9069gw5b05y8w0000gn/T/ipykernel_1985/2363776217.py:15: TqdmDeprecationWarning: This function will be removed in tqdm==5.0.0\n",
      "Please use `tqdm.notebook.tqdm` instead of `tqdm.tqdm_notebook`\n",
      "  for userId, group in tqdm_notebook(grouped):\n"
     ]
    },
    {
     "data": {
      "application/vnd.jupyter.widget-view+json": {
       "model_id": "1d3777db0f9444888442a62e0914d404",
       "version_major": 2,
       "version_minor": 0
      },
      "text/plain": [
       "  0%|          | 0/610 [00:00<?, ?it/s]"
      ]
     },
     "metadata": {},
     "output_type": "display_data"
    },
    {
     "name": "stdout",
     "output_type": "stream",
     "text": [
      "4401\n",
      "610\n"
     ]
    },
    {
     "name": "stderr",
     "output_type": "stream",
     "text": [
      "/var/folders/l4/pmxdjv4j2tq9069gw5b05y8w0000gn/T/ipykernel_1985/1690539697.py:8: DeprecationWarning: `np.float` is a deprecated alias for the builtin `float`. To silence this warning, use `float` by itself. Doing this will not modify any behavior and is safe. If you specifically wanted the numpy scalar type, use `np.float64` here.\n",
      "Deprecated in NumPy 1.20; for more details and guidance: https://numpy.org/devdocs/release/1.20.0-notes.html#deprecations\n",
      "  S = s[:k] * np.identity(k, np.float)         # latent Factor 중요도 K 몇까지 사용할지\n",
      "/var/folders/l4/pmxdjv4j2tq9069gw5b05y8w0000gn/T/ipykernel_1985/2363776217.py:15: TqdmDeprecationWarning: This function will be removed in tqdm==5.0.0\n",
      "Please use `tqdm.notebook.tqdm` instead of `tqdm.tqdm_notebook`\n",
      "  for userId, group in tqdm_notebook(grouped):\n"
     ]
    },
    {
     "data": {
      "application/vnd.jupyter.widget-view+json": {
       "model_id": "c9b346fc6d3a40f78b6234842370bb55",
       "version_major": 2,
       "version_minor": 0
      },
      "text/plain": [
       "  0%|          | 0/610 [00:00<?, ?it/s]"
      ]
     },
     "metadata": {},
     "output_type": "display_data"
    },
    {
     "name": "stdout",
     "output_type": "stream",
     "text": [
      "4401\n",
      "610\n"
     ]
    },
    {
     "name": "stderr",
     "output_type": "stream",
     "text": [
      "/var/folders/l4/pmxdjv4j2tq9069gw5b05y8w0000gn/T/ipykernel_1985/1690539697.py:8: DeprecationWarning: `np.float` is a deprecated alias for the builtin `float`. To silence this warning, use `float` by itself. Doing this will not modify any behavior and is safe. If you specifically wanted the numpy scalar type, use `np.float64` here.\n",
      "Deprecated in NumPy 1.20; for more details and guidance: https://numpy.org/devdocs/release/1.20.0-notes.html#deprecations\n",
      "  S = s[:k] * np.identity(k, np.float)         # latent Factor 중요도 K 몇까지 사용할지\n",
      "/var/folders/l4/pmxdjv4j2tq9069gw5b05y8w0000gn/T/ipykernel_1985/2363776217.py:15: TqdmDeprecationWarning: This function will be removed in tqdm==5.0.0\n",
      "Please use `tqdm.notebook.tqdm` instead of `tqdm.tqdm_notebook`\n",
      "  for userId, group in tqdm_notebook(grouped):\n"
     ]
    },
    {
     "data": {
      "application/vnd.jupyter.widget-view+json": {
       "model_id": "ce640313587a4a998fa6bb7d67fbb0b9",
       "version_major": 2,
       "version_minor": 0
      },
      "text/plain": [
       "  0%|          | 0/610 [00:00<?, ?it/s]"
      ]
     },
     "metadata": {},
     "output_type": "display_data"
    },
    {
     "name": "stdout",
     "output_type": "stream",
     "text": [
      "4401\n",
      "610\n"
     ]
    },
    {
     "name": "stderr",
     "output_type": "stream",
     "text": [
      "/var/folders/l4/pmxdjv4j2tq9069gw5b05y8w0000gn/T/ipykernel_1985/1690539697.py:8: DeprecationWarning: `np.float` is a deprecated alias for the builtin `float`. To silence this warning, use `float` by itself. Doing this will not modify any behavior and is safe. If you specifically wanted the numpy scalar type, use `np.float64` here.\n",
      "Deprecated in NumPy 1.20; for more details and guidance: https://numpy.org/devdocs/release/1.20.0-notes.html#deprecations\n",
      "  S = s[:k] * np.identity(k, np.float)         # latent Factor 중요도 K 몇까지 사용할지\n",
      "/var/folders/l4/pmxdjv4j2tq9069gw5b05y8w0000gn/T/ipykernel_1985/2363776217.py:15: TqdmDeprecationWarning: This function will be removed in tqdm==5.0.0\n",
      "Please use `tqdm.notebook.tqdm` instead of `tqdm.tqdm_notebook`\n",
      "  for userId, group in tqdm_notebook(grouped):\n"
     ]
    },
    {
     "data": {
      "application/vnd.jupyter.widget-view+json": {
       "model_id": "68a5e85576474df381b4d6c61afe0610",
       "version_major": 2,
       "version_minor": 0
      },
      "text/plain": [
       "  0%|          | 0/610 [00:00<?, ?it/s]"
      ]
     },
     "metadata": {},
     "output_type": "display_data"
    },
    {
     "name": "stdout",
     "output_type": "stream",
     "text": [
      "4401\n",
      "610\n"
     ]
    },
    {
     "name": "stderr",
     "output_type": "stream",
     "text": [
      "/var/folders/l4/pmxdjv4j2tq9069gw5b05y8w0000gn/T/ipykernel_1985/1690539697.py:8: DeprecationWarning: `np.float` is a deprecated alias for the builtin `float`. To silence this warning, use `float` by itself. Doing this will not modify any behavior and is safe. If you specifically wanted the numpy scalar type, use `np.float64` here.\n",
      "Deprecated in NumPy 1.20; for more details and guidance: https://numpy.org/devdocs/release/1.20.0-notes.html#deprecations\n",
      "  S = s[:k] * np.identity(k, np.float)         # latent Factor 중요도 K 몇까지 사용할지\n",
      "/var/folders/l4/pmxdjv4j2tq9069gw5b05y8w0000gn/T/ipykernel_1985/2363776217.py:15: TqdmDeprecationWarning: This function will be removed in tqdm==5.0.0\n",
      "Please use `tqdm.notebook.tqdm` instead of `tqdm.tqdm_notebook`\n",
      "  for userId, group in tqdm_notebook(grouped):\n"
     ]
    },
    {
     "data": {
      "application/vnd.jupyter.widget-view+json": {
       "model_id": "45fd495c5f71460f811d6cc90c7f5fb5",
       "version_major": 2,
       "version_minor": 0
      },
      "text/plain": [
       "  0%|          | 0/610 [00:00<?, ?it/s]"
      ]
     },
     "metadata": {},
     "output_type": "display_data"
    },
    {
     "name": "stdout",
     "output_type": "stream",
     "text": [
      "4401\n",
      "610\n"
     ]
    },
    {
     "name": "stderr",
     "output_type": "stream",
     "text": [
      "/var/folders/l4/pmxdjv4j2tq9069gw5b05y8w0000gn/T/ipykernel_1985/1690539697.py:8: DeprecationWarning: `np.float` is a deprecated alias for the builtin `float`. To silence this warning, use `float` by itself. Doing this will not modify any behavior and is safe. If you specifically wanted the numpy scalar type, use `np.float64` here.\n",
      "Deprecated in NumPy 1.20; for more details and guidance: https://numpy.org/devdocs/release/1.20.0-notes.html#deprecations\n",
      "  S = s[:k] * np.identity(k, np.float)         # latent Factor 중요도 K 몇까지 사용할지\n",
      "/var/folders/l4/pmxdjv4j2tq9069gw5b05y8w0000gn/T/ipykernel_1985/2363776217.py:15: TqdmDeprecationWarning: This function will be removed in tqdm==5.0.0\n",
      "Please use `tqdm.notebook.tqdm` instead of `tqdm.tqdm_notebook`\n",
      "  for userId, group in tqdm_notebook(grouped):\n"
     ]
    },
    {
     "data": {
      "application/vnd.jupyter.widget-view+json": {
       "model_id": "9f7c84d1ad784895bc36c710c46ec09d",
       "version_major": 2,
       "version_minor": 0
      },
      "text/plain": [
       "  0%|          | 0/610 [00:00<?, ?it/s]"
      ]
     },
     "metadata": {},
     "output_type": "display_data"
    }
   ],
   "source": [
    "movie_k_find_df = find_best_k(sparse_matrix_withmovie)"
   ]
  },
  {
   "cell_type": "code",
   "execution_count": 23,
   "metadata": {},
   "outputs": [
    {
     "name": "stdout",
     "output_type": "stream",
     "text": [
      "\n",
      "Find best optimized k for MF\n"
     ]
    },
    {
     "name": "stderr",
     "output_type": "stream",
     "text": [
      "/var/folders/l4/pmxdjv4j2tq9069gw5b05y8w0000gn/T/ipykernel_1985/2613751981.py:6: TqdmDeprecationWarning: This function will be removed in tqdm==5.0.0\n",
      "Please use `tqdm.notebook.tqdm` instead of `tqdm.tqdm_notebook`\n",
      "  for k in tqdm_notebook(k_list):\n"
     ]
    },
    {
     "data": {
      "application/vnd.jupyter.widget-view+json": {
       "model_id": "d80a5289ba08448994b22f1d96cdb64d",
       "version_major": 2,
       "version_minor": 0
      },
      "text/plain": [
       "  0%|          | 0/25 [00:00<?, ?it/s]"
      ]
     },
     "metadata": {},
     "output_type": "display_data"
    },
    {
     "name": "stdout",
     "output_type": "stream",
     "text": [
      "4401\n",
      "610\n"
     ]
    },
    {
     "name": "stderr",
     "output_type": "stream",
     "text": [
      "/var/folders/l4/pmxdjv4j2tq9069gw5b05y8w0000gn/T/ipykernel_1985/1690539697.py:8: DeprecationWarning: `np.float` is a deprecated alias for the builtin `float`. To silence this warning, use `float` by itself. Doing this will not modify any behavior and is safe. If you specifically wanted the numpy scalar type, use `np.float64` here.\n",
      "Deprecated in NumPy 1.20; for more details and guidance: https://numpy.org/devdocs/release/1.20.0-notes.html#deprecations\n",
      "  S = s[:k] * np.identity(k, np.float)         # latent Factor 중요도 K 몇까지 사용할지\n",
      "/var/folders/l4/pmxdjv4j2tq9069gw5b05y8w0000gn/T/ipykernel_1985/2363776217.py:15: TqdmDeprecationWarning: This function will be removed in tqdm==5.0.0\n",
      "Please use `tqdm.notebook.tqdm` instead of `tqdm.tqdm_notebook`\n",
      "  for userId, group in tqdm_notebook(grouped):\n"
     ]
    },
    {
     "data": {
      "application/vnd.jupyter.widget-view+json": {
       "model_id": "15ca16d17c8c445eb20d79ec6d503c87",
       "version_major": 2,
       "version_minor": 0
      },
      "text/plain": [
       "  0%|          | 0/610 [00:00<?, ?it/s]"
      ]
     },
     "metadata": {},
     "output_type": "display_data"
    },
    {
     "name": "stdout",
     "output_type": "stream",
     "text": [
      "4401\n",
      "610\n"
     ]
    },
    {
     "name": "stderr",
     "output_type": "stream",
     "text": [
      "/var/folders/l4/pmxdjv4j2tq9069gw5b05y8w0000gn/T/ipykernel_1985/1690539697.py:8: DeprecationWarning: `np.float` is a deprecated alias for the builtin `float`. To silence this warning, use `float` by itself. Doing this will not modify any behavior and is safe. If you specifically wanted the numpy scalar type, use `np.float64` here.\n",
      "Deprecated in NumPy 1.20; for more details and guidance: https://numpy.org/devdocs/release/1.20.0-notes.html#deprecations\n",
      "  S = s[:k] * np.identity(k, np.float)         # latent Factor 중요도 K 몇까지 사용할지\n",
      "/var/folders/l4/pmxdjv4j2tq9069gw5b05y8w0000gn/T/ipykernel_1985/2363776217.py:15: TqdmDeprecationWarning: This function will be removed in tqdm==5.0.0\n",
      "Please use `tqdm.notebook.tqdm` instead of `tqdm.tqdm_notebook`\n",
      "  for userId, group in tqdm_notebook(grouped):\n"
     ]
    },
    {
     "data": {
      "application/vnd.jupyter.widget-view+json": {
       "model_id": "9b5c06a9a04c4e34bb60caa89394d3ba",
       "version_major": 2,
       "version_minor": 0
      },
      "text/plain": [
       "  0%|          | 0/610 [00:00<?, ?it/s]"
      ]
     },
     "metadata": {},
     "output_type": "display_data"
    },
    {
     "name": "stdout",
     "output_type": "stream",
     "text": [
      "4401\n",
      "610\n"
     ]
    },
    {
     "name": "stderr",
     "output_type": "stream",
     "text": [
      "/var/folders/l4/pmxdjv4j2tq9069gw5b05y8w0000gn/T/ipykernel_1985/1690539697.py:8: DeprecationWarning: `np.float` is a deprecated alias for the builtin `float`. To silence this warning, use `float` by itself. Doing this will not modify any behavior and is safe. If you specifically wanted the numpy scalar type, use `np.float64` here.\n",
      "Deprecated in NumPy 1.20; for more details and guidance: https://numpy.org/devdocs/release/1.20.0-notes.html#deprecations\n",
      "  S = s[:k] * np.identity(k, np.float)         # latent Factor 중요도 K 몇까지 사용할지\n",
      "/var/folders/l4/pmxdjv4j2tq9069gw5b05y8w0000gn/T/ipykernel_1985/2363776217.py:15: TqdmDeprecationWarning: This function will be removed in tqdm==5.0.0\n",
      "Please use `tqdm.notebook.tqdm` instead of `tqdm.tqdm_notebook`\n",
      "  for userId, group in tqdm_notebook(grouped):\n"
     ]
    },
    {
     "data": {
      "application/vnd.jupyter.widget-view+json": {
       "model_id": "4f603111fcaf4c6bb368065211c65a7d",
       "version_major": 2,
       "version_minor": 0
      },
      "text/plain": [
       "  0%|          | 0/610 [00:00<?, ?it/s]"
      ]
     },
     "metadata": {},
     "output_type": "display_data"
    },
    {
     "name": "stdout",
     "output_type": "stream",
     "text": [
      "4401\n",
      "610\n"
     ]
    },
    {
     "name": "stderr",
     "output_type": "stream",
     "text": [
      "/var/folders/l4/pmxdjv4j2tq9069gw5b05y8w0000gn/T/ipykernel_1985/1690539697.py:8: DeprecationWarning: `np.float` is a deprecated alias for the builtin `float`. To silence this warning, use `float` by itself. Doing this will not modify any behavior and is safe. If you specifically wanted the numpy scalar type, use `np.float64` here.\n",
      "Deprecated in NumPy 1.20; for more details and guidance: https://numpy.org/devdocs/release/1.20.0-notes.html#deprecations\n",
      "  S = s[:k] * np.identity(k, np.float)         # latent Factor 중요도 K 몇까지 사용할지\n",
      "/var/folders/l4/pmxdjv4j2tq9069gw5b05y8w0000gn/T/ipykernel_1985/2363776217.py:15: TqdmDeprecationWarning: This function will be removed in tqdm==5.0.0\n",
      "Please use `tqdm.notebook.tqdm` instead of `tqdm.tqdm_notebook`\n",
      "  for userId, group in tqdm_notebook(grouped):\n"
     ]
    },
    {
     "data": {
      "application/vnd.jupyter.widget-view+json": {
       "model_id": "761a0f6cdd5d4e46bd37108ec314dabf",
       "version_major": 2,
       "version_minor": 0
      },
      "text/plain": [
       "  0%|          | 0/610 [00:00<?, ?it/s]"
      ]
     },
     "metadata": {},
     "output_type": "display_data"
    },
    {
     "name": "stdout",
     "output_type": "stream",
     "text": [
      "4401\n",
      "610\n"
     ]
    },
    {
     "name": "stderr",
     "output_type": "stream",
     "text": [
      "/var/folders/l4/pmxdjv4j2tq9069gw5b05y8w0000gn/T/ipykernel_1985/1690539697.py:8: DeprecationWarning: `np.float` is a deprecated alias for the builtin `float`. To silence this warning, use `float` by itself. Doing this will not modify any behavior and is safe. If you specifically wanted the numpy scalar type, use `np.float64` here.\n",
      "Deprecated in NumPy 1.20; for more details and guidance: https://numpy.org/devdocs/release/1.20.0-notes.html#deprecations\n",
      "  S = s[:k] * np.identity(k, np.float)         # latent Factor 중요도 K 몇까지 사용할지\n",
      "/var/folders/l4/pmxdjv4j2tq9069gw5b05y8w0000gn/T/ipykernel_1985/2363776217.py:15: TqdmDeprecationWarning: This function will be removed in tqdm==5.0.0\n",
      "Please use `tqdm.notebook.tqdm` instead of `tqdm.tqdm_notebook`\n",
      "  for userId, group in tqdm_notebook(grouped):\n"
     ]
    },
    {
     "data": {
      "application/vnd.jupyter.widget-view+json": {
       "model_id": "e0b5ba0eace34ef4beed632d00276132",
       "version_major": 2,
       "version_minor": 0
      },
      "text/plain": [
       "  0%|          | 0/610 [00:00<?, ?it/s]"
      ]
     },
     "metadata": {},
     "output_type": "display_data"
    },
    {
     "name": "stdout",
     "output_type": "stream",
     "text": [
      "4401\n",
      "610\n"
     ]
    },
    {
     "name": "stderr",
     "output_type": "stream",
     "text": [
      "/var/folders/l4/pmxdjv4j2tq9069gw5b05y8w0000gn/T/ipykernel_1985/1690539697.py:8: DeprecationWarning: `np.float` is a deprecated alias for the builtin `float`. To silence this warning, use `float` by itself. Doing this will not modify any behavior and is safe. If you specifically wanted the numpy scalar type, use `np.float64` here.\n",
      "Deprecated in NumPy 1.20; for more details and guidance: https://numpy.org/devdocs/release/1.20.0-notes.html#deprecations\n",
      "  S = s[:k] * np.identity(k, np.float)         # latent Factor 중요도 K 몇까지 사용할지\n",
      "/var/folders/l4/pmxdjv4j2tq9069gw5b05y8w0000gn/T/ipykernel_1985/2363776217.py:15: TqdmDeprecationWarning: This function will be removed in tqdm==5.0.0\n",
      "Please use `tqdm.notebook.tqdm` instead of `tqdm.tqdm_notebook`\n",
      "  for userId, group in tqdm_notebook(grouped):\n"
     ]
    },
    {
     "data": {
      "application/vnd.jupyter.widget-view+json": {
       "model_id": "1cd8fc23fa9d481fa2b5e47943515b2d",
       "version_major": 2,
       "version_minor": 0
      },
      "text/plain": [
       "  0%|          | 0/610 [00:00<?, ?it/s]"
      ]
     },
     "metadata": {},
     "output_type": "display_data"
    },
    {
     "name": "stdout",
     "output_type": "stream",
     "text": [
      "4401\n",
      "610\n"
     ]
    },
    {
     "name": "stderr",
     "output_type": "stream",
     "text": [
      "/var/folders/l4/pmxdjv4j2tq9069gw5b05y8w0000gn/T/ipykernel_1985/1690539697.py:8: DeprecationWarning: `np.float` is a deprecated alias for the builtin `float`. To silence this warning, use `float` by itself. Doing this will not modify any behavior and is safe. If you specifically wanted the numpy scalar type, use `np.float64` here.\n",
      "Deprecated in NumPy 1.20; for more details and guidance: https://numpy.org/devdocs/release/1.20.0-notes.html#deprecations\n",
      "  S = s[:k] * np.identity(k, np.float)         # latent Factor 중요도 K 몇까지 사용할지\n",
      "/var/folders/l4/pmxdjv4j2tq9069gw5b05y8w0000gn/T/ipykernel_1985/2363776217.py:15: TqdmDeprecationWarning: This function will be removed in tqdm==5.0.0\n",
      "Please use `tqdm.notebook.tqdm` instead of `tqdm.tqdm_notebook`\n",
      "  for userId, group in tqdm_notebook(grouped):\n"
     ]
    },
    {
     "data": {
      "application/vnd.jupyter.widget-view+json": {
       "model_id": "78bb3aa2fba441ea949f2a68769381dc",
       "version_major": 2,
       "version_minor": 0
      },
      "text/plain": [
       "  0%|          | 0/610 [00:00<?, ?it/s]"
      ]
     },
     "metadata": {},
     "output_type": "display_data"
    },
    {
     "name": "stdout",
     "output_type": "stream",
     "text": [
      "4401\n",
      "610\n"
     ]
    },
    {
     "name": "stderr",
     "output_type": "stream",
     "text": [
      "/var/folders/l4/pmxdjv4j2tq9069gw5b05y8w0000gn/T/ipykernel_1985/1690539697.py:8: DeprecationWarning: `np.float` is a deprecated alias for the builtin `float`. To silence this warning, use `float` by itself. Doing this will not modify any behavior and is safe. If you specifically wanted the numpy scalar type, use `np.float64` here.\n",
      "Deprecated in NumPy 1.20; for more details and guidance: https://numpy.org/devdocs/release/1.20.0-notes.html#deprecations\n",
      "  S = s[:k] * np.identity(k, np.float)         # latent Factor 중요도 K 몇까지 사용할지\n",
      "/var/folders/l4/pmxdjv4j2tq9069gw5b05y8w0000gn/T/ipykernel_1985/2363776217.py:15: TqdmDeprecationWarning: This function will be removed in tqdm==5.0.0\n",
      "Please use `tqdm.notebook.tqdm` instead of `tqdm.tqdm_notebook`\n",
      "  for userId, group in tqdm_notebook(grouped):\n"
     ]
    },
    {
     "data": {
      "application/vnd.jupyter.widget-view+json": {
       "model_id": "da7f0a2d95f34a62b16dff1c78f333bc",
       "version_major": 2,
       "version_minor": 0
      },
      "text/plain": [
       "  0%|          | 0/610 [00:00<?, ?it/s]"
      ]
     },
     "metadata": {},
     "output_type": "display_data"
    },
    {
     "name": "stdout",
     "output_type": "stream",
     "text": [
      "4401\n",
      "610\n"
     ]
    },
    {
     "name": "stderr",
     "output_type": "stream",
     "text": [
      "/var/folders/l4/pmxdjv4j2tq9069gw5b05y8w0000gn/T/ipykernel_1985/1690539697.py:8: DeprecationWarning: `np.float` is a deprecated alias for the builtin `float`. To silence this warning, use `float` by itself. Doing this will not modify any behavior and is safe. If you specifically wanted the numpy scalar type, use `np.float64` here.\n",
      "Deprecated in NumPy 1.20; for more details and guidance: https://numpy.org/devdocs/release/1.20.0-notes.html#deprecations\n",
      "  S = s[:k] * np.identity(k, np.float)         # latent Factor 중요도 K 몇까지 사용할지\n",
      "/var/folders/l4/pmxdjv4j2tq9069gw5b05y8w0000gn/T/ipykernel_1985/2363776217.py:15: TqdmDeprecationWarning: This function will be removed in tqdm==5.0.0\n",
      "Please use `tqdm.notebook.tqdm` instead of `tqdm.tqdm_notebook`\n",
      "  for userId, group in tqdm_notebook(grouped):\n"
     ]
    },
    {
     "data": {
      "application/vnd.jupyter.widget-view+json": {
       "model_id": "4701ab6cfaf74e5fab296c45e0f390d4",
       "version_major": 2,
       "version_minor": 0
      },
      "text/plain": [
       "  0%|          | 0/610 [00:00<?, ?it/s]"
      ]
     },
     "metadata": {},
     "output_type": "display_data"
    },
    {
     "name": "stdout",
     "output_type": "stream",
     "text": [
      "4401\n",
      "610\n"
     ]
    },
    {
     "name": "stderr",
     "output_type": "stream",
     "text": [
      "/var/folders/l4/pmxdjv4j2tq9069gw5b05y8w0000gn/T/ipykernel_1985/1690539697.py:8: DeprecationWarning: `np.float` is a deprecated alias for the builtin `float`. To silence this warning, use `float` by itself. Doing this will not modify any behavior and is safe. If you specifically wanted the numpy scalar type, use `np.float64` here.\n",
      "Deprecated in NumPy 1.20; for more details and guidance: https://numpy.org/devdocs/release/1.20.0-notes.html#deprecations\n",
      "  S = s[:k] * np.identity(k, np.float)         # latent Factor 중요도 K 몇까지 사용할지\n",
      "/var/folders/l4/pmxdjv4j2tq9069gw5b05y8w0000gn/T/ipykernel_1985/2363776217.py:15: TqdmDeprecationWarning: This function will be removed in tqdm==5.0.0\n",
      "Please use `tqdm.notebook.tqdm` instead of `tqdm.tqdm_notebook`\n",
      "  for userId, group in tqdm_notebook(grouped):\n"
     ]
    },
    {
     "data": {
      "application/vnd.jupyter.widget-view+json": {
       "model_id": "9ab0312ea5a043e2809fad38cc338059",
       "version_major": 2,
       "version_minor": 0
      },
      "text/plain": [
       "  0%|          | 0/610 [00:00<?, ?it/s]"
      ]
     },
     "metadata": {},
     "output_type": "display_data"
    },
    {
     "name": "stdout",
     "output_type": "stream",
     "text": [
      "4401\n",
      "610\n"
     ]
    },
    {
     "name": "stderr",
     "output_type": "stream",
     "text": [
      "/var/folders/l4/pmxdjv4j2tq9069gw5b05y8w0000gn/T/ipykernel_1985/1690539697.py:8: DeprecationWarning: `np.float` is a deprecated alias for the builtin `float`. To silence this warning, use `float` by itself. Doing this will not modify any behavior and is safe. If you specifically wanted the numpy scalar type, use `np.float64` here.\n",
      "Deprecated in NumPy 1.20; for more details and guidance: https://numpy.org/devdocs/release/1.20.0-notes.html#deprecations\n",
      "  S = s[:k] * np.identity(k, np.float)         # latent Factor 중요도 K 몇까지 사용할지\n",
      "/var/folders/l4/pmxdjv4j2tq9069gw5b05y8w0000gn/T/ipykernel_1985/2363776217.py:15: TqdmDeprecationWarning: This function will be removed in tqdm==5.0.0\n",
      "Please use `tqdm.notebook.tqdm` instead of `tqdm.tqdm_notebook`\n",
      "  for userId, group in tqdm_notebook(grouped):\n"
     ]
    },
    {
     "data": {
      "application/vnd.jupyter.widget-view+json": {
       "model_id": "f04eef316699443294b4a47a82dd372f",
       "version_major": 2,
       "version_minor": 0
      },
      "text/plain": [
       "  0%|          | 0/610 [00:00<?, ?it/s]"
      ]
     },
     "metadata": {},
     "output_type": "display_data"
    },
    {
     "name": "stdout",
     "output_type": "stream",
     "text": [
      "4401\n",
      "610\n"
     ]
    },
    {
     "name": "stderr",
     "output_type": "stream",
     "text": [
      "/var/folders/l4/pmxdjv4j2tq9069gw5b05y8w0000gn/T/ipykernel_1985/1690539697.py:8: DeprecationWarning: `np.float` is a deprecated alias for the builtin `float`. To silence this warning, use `float` by itself. Doing this will not modify any behavior and is safe. If you specifically wanted the numpy scalar type, use `np.float64` here.\n",
      "Deprecated in NumPy 1.20; for more details and guidance: https://numpy.org/devdocs/release/1.20.0-notes.html#deprecations\n",
      "  S = s[:k] * np.identity(k, np.float)         # latent Factor 중요도 K 몇까지 사용할지\n",
      "/var/folders/l4/pmxdjv4j2tq9069gw5b05y8w0000gn/T/ipykernel_1985/2363776217.py:15: TqdmDeprecationWarning: This function will be removed in tqdm==5.0.0\n",
      "Please use `tqdm.notebook.tqdm` instead of `tqdm.tqdm_notebook`\n",
      "  for userId, group in tqdm_notebook(grouped):\n"
     ]
    },
    {
     "data": {
      "application/vnd.jupyter.widget-view+json": {
       "model_id": "941ecfe0517045be83a725bb797d6190",
       "version_major": 2,
       "version_minor": 0
      },
      "text/plain": [
       "  0%|          | 0/610 [00:00<?, ?it/s]"
      ]
     },
     "metadata": {},
     "output_type": "display_data"
    },
    {
     "name": "stdout",
     "output_type": "stream",
     "text": [
      "4401\n",
      "610\n"
     ]
    },
    {
     "name": "stderr",
     "output_type": "stream",
     "text": [
      "/var/folders/l4/pmxdjv4j2tq9069gw5b05y8w0000gn/T/ipykernel_1985/1690539697.py:8: DeprecationWarning: `np.float` is a deprecated alias for the builtin `float`. To silence this warning, use `float` by itself. Doing this will not modify any behavior and is safe. If you specifically wanted the numpy scalar type, use `np.float64` here.\n",
      "Deprecated in NumPy 1.20; for more details and guidance: https://numpy.org/devdocs/release/1.20.0-notes.html#deprecations\n",
      "  S = s[:k] * np.identity(k, np.float)         # latent Factor 중요도 K 몇까지 사용할지\n",
      "/var/folders/l4/pmxdjv4j2tq9069gw5b05y8w0000gn/T/ipykernel_1985/2363776217.py:15: TqdmDeprecationWarning: This function will be removed in tqdm==5.0.0\n",
      "Please use `tqdm.notebook.tqdm` instead of `tqdm.tqdm_notebook`\n",
      "  for userId, group in tqdm_notebook(grouped):\n"
     ]
    },
    {
     "data": {
      "application/vnd.jupyter.widget-view+json": {
       "model_id": "b83990dd79e0491e8340bda387049eef",
       "version_major": 2,
       "version_minor": 0
      },
      "text/plain": [
       "  0%|          | 0/610 [00:00<?, ?it/s]"
      ]
     },
     "metadata": {},
     "output_type": "display_data"
    },
    {
     "name": "stdout",
     "output_type": "stream",
     "text": [
      "4401\n",
      "610\n"
     ]
    },
    {
     "name": "stderr",
     "output_type": "stream",
     "text": [
      "/var/folders/l4/pmxdjv4j2tq9069gw5b05y8w0000gn/T/ipykernel_1985/1690539697.py:8: DeprecationWarning: `np.float` is a deprecated alias for the builtin `float`. To silence this warning, use `float` by itself. Doing this will not modify any behavior and is safe. If you specifically wanted the numpy scalar type, use `np.float64` here.\n",
      "Deprecated in NumPy 1.20; for more details and guidance: https://numpy.org/devdocs/release/1.20.0-notes.html#deprecations\n",
      "  S = s[:k] * np.identity(k, np.float)         # latent Factor 중요도 K 몇까지 사용할지\n",
      "/var/folders/l4/pmxdjv4j2tq9069gw5b05y8w0000gn/T/ipykernel_1985/2363776217.py:15: TqdmDeprecationWarning: This function will be removed in tqdm==5.0.0\n",
      "Please use `tqdm.notebook.tqdm` instead of `tqdm.tqdm_notebook`\n",
      "  for userId, group in tqdm_notebook(grouped):\n"
     ]
    },
    {
     "data": {
      "application/vnd.jupyter.widget-view+json": {
       "model_id": "7eb7d064266445dbabbb06e3327ff518",
       "version_major": 2,
       "version_minor": 0
      },
      "text/plain": [
       "  0%|          | 0/610 [00:00<?, ?it/s]"
      ]
     },
     "metadata": {},
     "output_type": "display_data"
    },
    {
     "name": "stdout",
     "output_type": "stream",
     "text": [
      "4401\n",
      "610\n"
     ]
    },
    {
     "name": "stderr",
     "output_type": "stream",
     "text": [
      "/var/folders/l4/pmxdjv4j2tq9069gw5b05y8w0000gn/T/ipykernel_1985/1690539697.py:8: DeprecationWarning: `np.float` is a deprecated alias for the builtin `float`. To silence this warning, use `float` by itself. Doing this will not modify any behavior and is safe. If you specifically wanted the numpy scalar type, use `np.float64` here.\n",
      "Deprecated in NumPy 1.20; for more details and guidance: https://numpy.org/devdocs/release/1.20.0-notes.html#deprecations\n",
      "  S = s[:k] * np.identity(k, np.float)         # latent Factor 중요도 K 몇까지 사용할지\n",
      "/var/folders/l4/pmxdjv4j2tq9069gw5b05y8w0000gn/T/ipykernel_1985/2363776217.py:15: TqdmDeprecationWarning: This function will be removed in tqdm==5.0.0\n",
      "Please use `tqdm.notebook.tqdm` instead of `tqdm.tqdm_notebook`\n",
      "  for userId, group in tqdm_notebook(grouped):\n"
     ]
    },
    {
     "data": {
      "application/vnd.jupyter.widget-view+json": {
       "model_id": "8a194b554a754bde80813e097fe898ba",
       "version_major": 2,
       "version_minor": 0
      },
      "text/plain": [
       "  0%|          | 0/610 [00:00<?, ?it/s]"
      ]
     },
     "metadata": {},
     "output_type": "display_data"
    },
    {
     "name": "stdout",
     "output_type": "stream",
     "text": [
      "4401\n",
      "610\n"
     ]
    },
    {
     "name": "stderr",
     "output_type": "stream",
     "text": [
      "/var/folders/l4/pmxdjv4j2tq9069gw5b05y8w0000gn/T/ipykernel_1985/1690539697.py:8: DeprecationWarning: `np.float` is a deprecated alias for the builtin `float`. To silence this warning, use `float` by itself. Doing this will not modify any behavior and is safe. If you specifically wanted the numpy scalar type, use `np.float64` here.\n",
      "Deprecated in NumPy 1.20; for more details and guidance: https://numpy.org/devdocs/release/1.20.0-notes.html#deprecations\n",
      "  S = s[:k] * np.identity(k, np.float)         # latent Factor 중요도 K 몇까지 사용할지\n",
      "/var/folders/l4/pmxdjv4j2tq9069gw5b05y8w0000gn/T/ipykernel_1985/2363776217.py:15: TqdmDeprecationWarning: This function will be removed in tqdm==5.0.0\n",
      "Please use `tqdm.notebook.tqdm` instead of `tqdm.tqdm_notebook`\n",
      "  for userId, group in tqdm_notebook(grouped):\n"
     ]
    },
    {
     "data": {
      "application/vnd.jupyter.widget-view+json": {
       "model_id": "f26013313ac9437c85c708b3d391179f",
       "version_major": 2,
       "version_minor": 0
      },
      "text/plain": [
       "  0%|          | 0/610 [00:00<?, ?it/s]"
      ]
     },
     "metadata": {},
     "output_type": "display_data"
    },
    {
     "name": "stdout",
     "output_type": "stream",
     "text": [
      "4401\n",
      "610\n"
     ]
    },
    {
     "name": "stderr",
     "output_type": "stream",
     "text": [
      "/var/folders/l4/pmxdjv4j2tq9069gw5b05y8w0000gn/T/ipykernel_1985/1690539697.py:8: DeprecationWarning: `np.float` is a deprecated alias for the builtin `float`. To silence this warning, use `float` by itself. Doing this will not modify any behavior and is safe. If you specifically wanted the numpy scalar type, use `np.float64` here.\n",
      "Deprecated in NumPy 1.20; for more details and guidance: https://numpy.org/devdocs/release/1.20.0-notes.html#deprecations\n",
      "  S = s[:k] * np.identity(k, np.float)         # latent Factor 중요도 K 몇까지 사용할지\n",
      "/var/folders/l4/pmxdjv4j2tq9069gw5b05y8w0000gn/T/ipykernel_1985/2363776217.py:15: TqdmDeprecationWarning: This function will be removed in tqdm==5.0.0\n",
      "Please use `tqdm.notebook.tqdm` instead of `tqdm.tqdm_notebook`\n",
      "  for userId, group in tqdm_notebook(grouped):\n"
     ]
    },
    {
     "data": {
      "application/vnd.jupyter.widget-view+json": {
       "model_id": "76229e6240794dd38dd89b8f2c215612",
       "version_major": 2,
       "version_minor": 0
      },
      "text/plain": [
       "  0%|          | 0/610 [00:00<?, ?it/s]"
      ]
     },
     "metadata": {},
     "output_type": "display_data"
    },
    {
     "name": "stdout",
     "output_type": "stream",
     "text": [
      "4401\n",
      "610\n"
     ]
    },
    {
     "name": "stderr",
     "output_type": "stream",
     "text": [
      "/var/folders/l4/pmxdjv4j2tq9069gw5b05y8w0000gn/T/ipykernel_1985/1690539697.py:8: DeprecationWarning: `np.float` is a deprecated alias for the builtin `float`. To silence this warning, use `float` by itself. Doing this will not modify any behavior and is safe. If you specifically wanted the numpy scalar type, use `np.float64` here.\n",
      "Deprecated in NumPy 1.20; for more details and guidance: https://numpy.org/devdocs/release/1.20.0-notes.html#deprecations\n",
      "  S = s[:k] * np.identity(k, np.float)         # latent Factor 중요도 K 몇까지 사용할지\n",
      "/var/folders/l4/pmxdjv4j2tq9069gw5b05y8w0000gn/T/ipykernel_1985/2363776217.py:15: TqdmDeprecationWarning: This function will be removed in tqdm==5.0.0\n",
      "Please use `tqdm.notebook.tqdm` instead of `tqdm.tqdm_notebook`\n",
      "  for userId, group in tqdm_notebook(grouped):\n"
     ]
    },
    {
     "data": {
      "application/vnd.jupyter.widget-view+json": {
       "model_id": "4848fd4912494b88a6794e793272022e",
       "version_major": 2,
       "version_minor": 0
      },
      "text/plain": [
       "  0%|          | 0/610 [00:00<?, ?it/s]"
      ]
     },
     "metadata": {},
     "output_type": "display_data"
    },
    {
     "name": "stdout",
     "output_type": "stream",
     "text": [
      "4401\n",
      "610\n"
     ]
    },
    {
     "name": "stderr",
     "output_type": "stream",
     "text": [
      "/var/folders/l4/pmxdjv4j2tq9069gw5b05y8w0000gn/T/ipykernel_1985/1690539697.py:8: DeprecationWarning: `np.float` is a deprecated alias for the builtin `float`. To silence this warning, use `float` by itself. Doing this will not modify any behavior and is safe. If you specifically wanted the numpy scalar type, use `np.float64` here.\n",
      "Deprecated in NumPy 1.20; for more details and guidance: https://numpy.org/devdocs/release/1.20.0-notes.html#deprecations\n",
      "  S = s[:k] * np.identity(k, np.float)         # latent Factor 중요도 K 몇까지 사용할지\n",
      "/var/folders/l4/pmxdjv4j2tq9069gw5b05y8w0000gn/T/ipykernel_1985/2363776217.py:15: TqdmDeprecationWarning: This function will be removed in tqdm==5.0.0\n",
      "Please use `tqdm.notebook.tqdm` instead of `tqdm.tqdm_notebook`\n",
      "  for userId, group in tqdm_notebook(grouped):\n"
     ]
    },
    {
     "data": {
      "application/vnd.jupyter.widget-view+json": {
       "model_id": "39bf36ac2e0443108a29f3ad737ce1c0",
       "version_major": 2,
       "version_minor": 0
      },
      "text/plain": [
       "  0%|          | 0/610 [00:00<?, ?it/s]"
      ]
     },
     "metadata": {},
     "output_type": "display_data"
    },
    {
     "name": "stdout",
     "output_type": "stream",
     "text": [
      "4401\n",
      "610\n"
     ]
    },
    {
     "name": "stderr",
     "output_type": "stream",
     "text": [
      "/var/folders/l4/pmxdjv4j2tq9069gw5b05y8w0000gn/T/ipykernel_1985/1690539697.py:8: DeprecationWarning: `np.float` is a deprecated alias for the builtin `float`. To silence this warning, use `float` by itself. Doing this will not modify any behavior and is safe. If you specifically wanted the numpy scalar type, use `np.float64` here.\n",
      "Deprecated in NumPy 1.20; for more details and guidance: https://numpy.org/devdocs/release/1.20.0-notes.html#deprecations\n",
      "  S = s[:k] * np.identity(k, np.float)         # latent Factor 중요도 K 몇까지 사용할지\n",
      "/var/folders/l4/pmxdjv4j2tq9069gw5b05y8w0000gn/T/ipykernel_1985/2363776217.py:15: TqdmDeprecationWarning: This function will be removed in tqdm==5.0.0\n",
      "Please use `tqdm.notebook.tqdm` instead of `tqdm.tqdm_notebook`\n",
      "  for userId, group in tqdm_notebook(grouped):\n"
     ]
    },
    {
     "data": {
      "application/vnd.jupyter.widget-view+json": {
       "model_id": "8679af66d2a74366a3e17890ac8c2bed",
       "version_major": 2,
       "version_minor": 0
      },
      "text/plain": [
       "  0%|          | 0/610 [00:00<?, ?it/s]"
      ]
     },
     "metadata": {},
     "output_type": "display_data"
    },
    {
     "name": "stdout",
     "output_type": "stream",
     "text": [
      "4401\n",
      "610\n"
     ]
    },
    {
     "name": "stderr",
     "output_type": "stream",
     "text": [
      "/var/folders/l4/pmxdjv4j2tq9069gw5b05y8w0000gn/T/ipykernel_1985/1690539697.py:8: DeprecationWarning: `np.float` is a deprecated alias for the builtin `float`. To silence this warning, use `float` by itself. Doing this will not modify any behavior and is safe. If you specifically wanted the numpy scalar type, use `np.float64` here.\n",
      "Deprecated in NumPy 1.20; for more details and guidance: https://numpy.org/devdocs/release/1.20.0-notes.html#deprecations\n",
      "  S = s[:k] * np.identity(k, np.float)         # latent Factor 중요도 K 몇까지 사용할지\n",
      "/var/folders/l4/pmxdjv4j2tq9069gw5b05y8w0000gn/T/ipykernel_1985/2363776217.py:15: TqdmDeprecationWarning: This function will be removed in tqdm==5.0.0\n",
      "Please use `tqdm.notebook.tqdm` instead of `tqdm.tqdm_notebook`\n",
      "  for userId, group in tqdm_notebook(grouped):\n"
     ]
    },
    {
     "data": {
      "application/vnd.jupyter.widget-view+json": {
       "model_id": "1810dd7cedeb46da8a55f64e5565fce4",
       "version_major": 2,
       "version_minor": 0
      },
      "text/plain": [
       "  0%|          | 0/610 [00:00<?, ?it/s]"
      ]
     },
     "metadata": {},
     "output_type": "display_data"
    },
    {
     "name": "stdout",
     "output_type": "stream",
     "text": [
      "4401\n",
      "610\n"
     ]
    },
    {
     "name": "stderr",
     "output_type": "stream",
     "text": [
      "/var/folders/l4/pmxdjv4j2tq9069gw5b05y8w0000gn/T/ipykernel_1985/1690539697.py:8: DeprecationWarning: `np.float` is a deprecated alias for the builtin `float`. To silence this warning, use `float` by itself. Doing this will not modify any behavior and is safe. If you specifically wanted the numpy scalar type, use `np.float64` here.\n",
      "Deprecated in NumPy 1.20; for more details and guidance: https://numpy.org/devdocs/release/1.20.0-notes.html#deprecations\n",
      "  S = s[:k] * np.identity(k, np.float)         # latent Factor 중요도 K 몇까지 사용할지\n",
      "/var/folders/l4/pmxdjv4j2tq9069gw5b05y8w0000gn/T/ipykernel_1985/2363776217.py:15: TqdmDeprecationWarning: This function will be removed in tqdm==5.0.0\n",
      "Please use `tqdm.notebook.tqdm` instead of `tqdm.tqdm_notebook`\n",
      "  for userId, group in tqdm_notebook(grouped):\n"
     ]
    },
    {
     "data": {
      "application/vnd.jupyter.widget-view+json": {
       "model_id": "58548ef432f246aeb9a1b87e14c7188f",
       "version_major": 2,
       "version_minor": 0
      },
      "text/plain": [
       "  0%|          | 0/610 [00:00<?, ?it/s]"
      ]
     },
     "metadata": {},
     "output_type": "display_data"
    },
    {
     "name": "stdout",
     "output_type": "stream",
     "text": [
      "4401\n",
      "610\n"
     ]
    },
    {
     "name": "stderr",
     "output_type": "stream",
     "text": [
      "/var/folders/l4/pmxdjv4j2tq9069gw5b05y8w0000gn/T/ipykernel_1985/1690539697.py:8: DeprecationWarning: `np.float` is a deprecated alias for the builtin `float`. To silence this warning, use `float` by itself. Doing this will not modify any behavior and is safe. If you specifically wanted the numpy scalar type, use `np.float64` here.\n",
      "Deprecated in NumPy 1.20; for more details and guidance: https://numpy.org/devdocs/release/1.20.0-notes.html#deprecations\n",
      "  S = s[:k] * np.identity(k, np.float)         # latent Factor 중요도 K 몇까지 사용할지\n",
      "/var/folders/l4/pmxdjv4j2tq9069gw5b05y8w0000gn/T/ipykernel_1985/2363776217.py:15: TqdmDeprecationWarning: This function will be removed in tqdm==5.0.0\n",
      "Please use `tqdm.notebook.tqdm` instead of `tqdm.tqdm_notebook`\n",
      "  for userId, group in tqdm_notebook(grouped):\n"
     ]
    },
    {
     "data": {
      "application/vnd.jupyter.widget-view+json": {
       "model_id": "d9b9b0d0f67c4deaa7cc54c243399150",
       "version_major": 2,
       "version_minor": 0
      },
      "text/plain": [
       "  0%|          | 0/610 [00:00<?, ?it/s]"
      ]
     },
     "metadata": {},
     "output_type": "display_data"
    },
    {
     "name": "stdout",
     "output_type": "stream",
     "text": [
      "4401\n",
      "610\n"
     ]
    },
    {
     "name": "stderr",
     "output_type": "stream",
     "text": [
      "/var/folders/l4/pmxdjv4j2tq9069gw5b05y8w0000gn/T/ipykernel_1985/1690539697.py:8: DeprecationWarning: `np.float` is a deprecated alias for the builtin `float`. To silence this warning, use `float` by itself. Doing this will not modify any behavior and is safe. If you specifically wanted the numpy scalar type, use `np.float64` here.\n",
      "Deprecated in NumPy 1.20; for more details and guidance: https://numpy.org/devdocs/release/1.20.0-notes.html#deprecations\n",
      "  S = s[:k] * np.identity(k, np.float)         # latent Factor 중요도 K 몇까지 사용할지\n",
      "/var/folders/l4/pmxdjv4j2tq9069gw5b05y8w0000gn/T/ipykernel_1985/2363776217.py:15: TqdmDeprecationWarning: This function will be removed in tqdm==5.0.0\n",
      "Please use `tqdm.notebook.tqdm` instead of `tqdm.tqdm_notebook`\n",
      "  for userId, group in tqdm_notebook(grouped):\n"
     ]
    },
    {
     "data": {
      "application/vnd.jupyter.widget-view+json": {
       "model_id": "09ec13144c1345379edb2befbe8c22b2",
       "version_major": 2,
       "version_minor": 0
      },
      "text/plain": [
       "  0%|          | 0/610 [00:00<?, ?it/s]"
      ]
     },
     "metadata": {},
     "output_type": "display_data"
    },
    {
     "name": "stdout",
     "output_type": "stream",
     "text": [
      "4401\n",
      "610\n"
     ]
    },
    {
     "name": "stderr",
     "output_type": "stream",
     "text": [
      "/var/folders/l4/pmxdjv4j2tq9069gw5b05y8w0000gn/T/ipykernel_1985/1690539697.py:8: DeprecationWarning: `np.float` is a deprecated alias for the builtin `float`. To silence this warning, use `float` by itself. Doing this will not modify any behavior and is safe. If you specifically wanted the numpy scalar type, use `np.float64` here.\n",
      "Deprecated in NumPy 1.20; for more details and guidance: https://numpy.org/devdocs/release/1.20.0-notes.html#deprecations\n",
      "  S = s[:k] * np.identity(k, np.float)         # latent Factor 중요도 K 몇까지 사용할지\n",
      "/var/folders/l4/pmxdjv4j2tq9069gw5b05y8w0000gn/T/ipykernel_1985/2363776217.py:15: TqdmDeprecationWarning: This function will be removed in tqdm==5.0.0\n",
      "Please use `tqdm.notebook.tqdm` instead of `tqdm.tqdm_notebook`\n",
      "  for userId, group in tqdm_notebook(grouped):\n"
     ]
    },
    {
     "data": {
      "application/vnd.jupyter.widget-view+json": {
       "model_id": "f08f184bfc4a4658a2d796f9a859b5ec",
       "version_major": 2,
       "version_minor": 0
      },
      "text/plain": [
       "  0%|          | 0/610 [00:00<?, ?it/s]"
      ]
     },
     "metadata": {},
     "output_type": "display_data"
    }
   ],
   "source": [
    "user_k_find_df = find_best_k(sparse_matrix_withuser)"
   ]
  },
  {
   "cell_type": "code",
   "execution_count": 34,
   "metadata": {},
   "outputs": [
    {
     "data": {
      "text/html": [
       "<div>\n",
       "<style scoped>\n",
       "    .dataframe tbody tr th:only-of-type {\n",
       "        vertical-align: middle;\n",
       "    }\n",
       "\n",
       "    .dataframe tbody tr th {\n",
       "        vertical-align: top;\n",
       "    }\n",
       "\n",
       "    .dataframe thead th {\n",
       "        text-align: right;\n",
       "    }\n",
       "</style>\n",
       "<table border=\"1\" class=\"dataframe\">\n",
       "  <thead>\n",
       "    <tr style=\"text-align: right;\">\n",
       "      <th></th>\n",
       "      <th>rmse</th>\n",
       "    </tr>\n",
       "  </thead>\n",
       "  <tbody>\n",
       "    <tr>\n",
       "      <th>60</th>\n",
       "      <td>0.789304</td>\n",
       "    </tr>\n",
       "    <tr>\n",
       "      <th>50</th>\n",
       "      <td>0.793693</td>\n",
       "    </tr>\n",
       "    <tr>\n",
       "      <th>70</th>\n",
       "      <td>0.795508</td>\n",
       "    </tr>\n",
       "    <tr>\n",
       "      <th>80</th>\n",
       "      <td>0.796725</td>\n",
       "    </tr>\n",
       "    <tr>\n",
       "      <th>90</th>\n",
       "      <td>0.801542</td>\n",
       "    </tr>\n",
       "    <tr>\n",
       "      <th>260</th>\n",
       "      <td>0.802158</td>\n",
       "    </tr>\n",
       "    <tr>\n",
       "      <th>270</th>\n",
       "      <td>0.80219</td>\n",
       "    </tr>\n",
       "    <tr>\n",
       "      <th>250</th>\n",
       "      <td>0.802336</td>\n",
       "    </tr>\n",
       "    <tr>\n",
       "      <th>280</th>\n",
       "      <td>0.802455</td>\n",
       "    </tr>\n",
       "    <tr>\n",
       "      <th>240</th>\n",
       "      <td>0.802496</td>\n",
       "    </tr>\n",
       "    <tr>\n",
       "      <th>220</th>\n",
       "      <td>0.802546</td>\n",
       "    </tr>\n",
       "    <tr>\n",
       "      <th>210</th>\n",
       "      <td>0.802675</td>\n",
       "    </tr>\n",
       "    <tr>\n",
       "      <th>190</th>\n",
       "      <td>0.80271</td>\n",
       "    </tr>\n",
       "    <tr>\n",
       "      <th>180</th>\n",
       "      <td>0.80276</td>\n",
       "    </tr>\n",
       "    <tr>\n",
       "      <th>290</th>\n",
       "      <td>0.802768</td>\n",
       "    </tr>\n",
       "    <tr>\n",
       "      <th>200</th>\n",
       "      <td>0.802777</td>\n",
       "    </tr>\n",
       "    <tr>\n",
       "      <th>230</th>\n",
       "      <td>0.802836</td>\n",
       "    </tr>\n",
       "    <tr>\n",
       "      <th>100</th>\n",
       "      <td>0.803048</td>\n",
       "    </tr>\n",
       "    <tr>\n",
       "      <th>170</th>\n",
       "      <td>0.803595</td>\n",
       "    </tr>\n",
       "    <tr>\n",
       "      <th>140</th>\n",
       "      <td>0.803758</td>\n",
       "    </tr>\n",
       "    <tr>\n",
       "      <th>150</th>\n",
       "      <td>0.803786</td>\n",
       "    </tr>\n",
       "    <tr>\n",
       "      <th>120</th>\n",
       "      <td>0.803896</td>\n",
       "    </tr>\n",
       "    <tr>\n",
       "      <th>160</th>\n",
       "      <td>0.804015</td>\n",
       "    </tr>\n",
       "    <tr>\n",
       "      <th>110</th>\n",
       "      <td>0.804417</td>\n",
       "    </tr>\n",
       "    <tr>\n",
       "      <th>130</th>\n",
       "      <td>0.805008</td>\n",
       "    </tr>\n",
       "  </tbody>\n",
       "</table>\n",
       "</div>"
      ],
      "text/plain": [
       "         rmse\n",
       "60   0.789304\n",
       "50   0.793693\n",
       "70   0.795508\n",
       "80   0.796725\n",
       "90   0.801542\n",
       "260  0.802158\n",
       "270   0.80219\n",
       "250  0.802336\n",
       "280  0.802455\n",
       "240  0.802496\n",
       "220  0.802546\n",
       "210  0.802675\n",
       "190   0.80271\n",
       "180   0.80276\n",
       "290  0.802768\n",
       "200  0.802777\n",
       "230  0.802836\n",
       "100  0.803048\n",
       "170  0.803595\n",
       "140  0.803758\n",
       "150  0.803786\n",
       "120  0.803896\n",
       "160  0.804015\n",
       "110  0.804417\n",
       "130  0.805008"
      ]
     },
     "execution_count": 34,
     "metadata": {},
     "output_type": "execute_result"
    }
   ],
   "source": [
    "movie_k_find_df.sort_values('rmse', ascending=True) "
   ]
  },
  {
   "cell_type": "code",
   "execution_count": 37,
   "metadata": {},
   "outputs": [
    {
     "data": {
      "image/png": "[encoded data removed]",
      "text/plain": [
       "<Figure size 640x480 with 1 Axes>"
      ]
     },
     "metadata": {},
     "output_type": "display_data"
    }
   ],
   "source": [
    "plt.plot(movie_k_find_df)\n",
    "plt.title('Find best optimized k for sprase_movie')\n",
    "plt.ylabel('RMSE')\n",
    "plt.xlabel('k')\n",
    "plt.show()\n"
   ]
  },
  {
   "cell_type": "code",
   "execution_count": 35,
   "metadata": {},
   "outputs": [
    {
     "data": {
      "text/html": [
       "<div>\n",
       "<style scoped>\n",
       "    .dataframe tbody tr th:only-of-type {\n",
       "        vertical-align: middle;\n",
       "    }\n",
       "\n",
       "    .dataframe tbody tr th {\n",
       "        vertical-align: top;\n",
       "    }\n",
       "\n",
       "    .dataframe thead th {\n",
       "        text-align: right;\n",
       "    }\n",
       "</style>\n",
       "<table border=\"1\" class=\"dataframe\">\n",
       "  <thead>\n",
       "    <tr style=\"text-align: right;\">\n",
       "      <th></th>\n",
       "      <th>rmse</th>\n",
       "    </tr>\n",
       "  </thead>\n",
       "  <tbody>\n",
       "    <tr>\n",
       "      <th>50</th>\n",
       "      <td>0.887551</td>\n",
       "    </tr>\n",
       "    <tr>\n",
       "      <th>60</th>\n",
       "      <td>0.888129</td>\n",
       "    </tr>\n",
       "    <tr>\n",
       "      <th>70</th>\n",
       "      <td>0.888895</td>\n",
       "    </tr>\n",
       "    <tr>\n",
       "      <th>290</th>\n",
       "      <td>0.891435</td>\n",
       "    </tr>\n",
       "    <tr>\n",
       "      <th>280</th>\n",
       "      <td>0.891519</td>\n",
       "    </tr>\n",
       "    <tr>\n",
       "      <th>260</th>\n",
       "      <td>0.891528</td>\n",
       "    </tr>\n",
       "    <tr>\n",
       "      <th>250</th>\n",
       "      <td>0.891596</td>\n",
       "    </tr>\n",
       "    <tr>\n",
       "      <th>270</th>\n",
       "      <td>0.891618</td>\n",
       "    </tr>\n",
       "    <tr>\n",
       "      <th>240</th>\n",
       "      <td>0.891684</td>\n",
       "    </tr>\n",
       "    <tr>\n",
       "      <th>230</th>\n",
       "      <td>0.891793</td>\n",
       "    </tr>\n",
       "    <tr>\n",
       "      <th>220</th>\n",
       "      <td>0.891865</td>\n",
       "    </tr>\n",
       "    <tr>\n",
       "      <th>210</th>\n",
       "      <td>0.892117</td>\n",
       "    </tr>\n",
       "    <tr>\n",
       "      <th>200</th>\n",
       "      <td>0.89219</td>\n",
       "    </tr>\n",
       "    <tr>\n",
       "      <th>180</th>\n",
       "      <td>0.892413</td>\n",
       "    </tr>\n",
       "    <tr>\n",
       "      <th>190</th>\n",
       "      <td>0.892446</td>\n",
       "    </tr>\n",
       "    <tr>\n",
       "      <th>170</th>\n",
       "      <td>0.892623</td>\n",
       "    </tr>\n",
       "    <tr>\n",
       "      <th>130</th>\n",
       "      <td>0.892664</td>\n",
       "    </tr>\n",
       "    <tr>\n",
       "      <th>150</th>\n",
       "      <td>0.892842</td>\n",
       "    </tr>\n",
       "    <tr>\n",
       "      <th>160</th>\n",
       "      <td>0.893006</td>\n",
       "    </tr>\n",
       "    <tr>\n",
       "      <th>120</th>\n",
       "      <td>0.893015</td>\n",
       "    </tr>\n",
       "    <tr>\n",
       "      <th>140</th>\n",
       "      <td>0.893122</td>\n",
       "    </tr>\n",
       "    <tr>\n",
       "      <th>80</th>\n",
       "      <td>0.893169</td>\n",
       "    </tr>\n",
       "    <tr>\n",
       "      <th>90</th>\n",
       "      <td>0.893591</td>\n",
       "    </tr>\n",
       "    <tr>\n",
       "      <th>110</th>\n",
       "      <td>0.893964</td>\n",
       "    </tr>\n",
       "    <tr>\n",
       "      <th>100</th>\n",
       "      <td>0.894205</td>\n",
       "    </tr>\n",
       "  </tbody>\n",
       "</table>\n",
       "</div>"
      ],
      "text/plain": [
       "         rmse\n",
       "50   0.887551\n",
       "60   0.888129\n",
       "70   0.888895\n",
       "290  0.891435\n",
       "280  0.891519\n",
       "260  0.891528\n",
       "250  0.891596\n",
       "270  0.891618\n",
       "240  0.891684\n",
       "230  0.891793\n",
       "220  0.891865\n",
       "210  0.892117\n",
       "200   0.89219\n",
       "180  0.892413\n",
       "190  0.892446\n",
       "170  0.892623\n",
       "130  0.892664\n",
       "150  0.892842\n",
       "160  0.893006\n",
       "120  0.893015\n",
       "140  0.893122\n",
       "80   0.893169\n",
       "90   0.893591\n",
       "110  0.893964\n",
       "100  0.894205"
      ]
     },
     "execution_count": 35,
     "metadata": {},
     "output_type": "execute_result"
    }
   ],
   "source": [
    "user_k_find_df.sort_values('rmse', ascending=True)"
   ]
  },
  {
   "cell_type": "code",
   "execution_count": 39,
   "metadata": {},
   "outputs": [
    {
     "data": {
      "image/png": "[encoded data removed]",
      "text/plain": [
       "<Figure size 640x480 with 1 Axes>"
      ]
     },
     "metadata": {},
     "output_type": "display_data"
    }
   ],
   "source": [
    "plt.plot(user_k_find_df)\n",
    "plt.title('Find best optimized k for sprase_user')\n",
    "plt.ylabel('RMSE')\n",
    "plt.xlabel('k')\n",
    "plt.show()\n"
   ]
  }
 ],
 "metadata": {
  "kernelspec": {
   "display_name": "base",
   "language": "python",
   "name": "python3"
  },
  "language_info": {
   "codemirror_mode": {
    "name": "ipython",
    "version": 3
   },
   "file_extension": ".py",
   "mimetype": "text/x-python",
   "name": "python",
   "nbconvert_exporter": "python",
   "pygments_lexer": "ipython3",
   "version": "3.8.8"
  },
  "orig_nbformat": 4,
  "vscode": {
   "interpreter": {
    "hash": "40d3a090f54c6569ab1632332b64b2c03c39dcf918b08424e98f38b5ae0af88f"
   }
  }
 },
 "nbformat": 4,
 "nbformat_minor": 2
}
